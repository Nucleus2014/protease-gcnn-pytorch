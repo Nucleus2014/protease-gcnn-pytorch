{
 "cells": [
  {
   "cell_type": "code",
   "execution_count": 1,
   "metadata": {},
   "outputs": [],
   "source": [
    "import pickle as pkl\n",
    "import numpy as np\n",
    "import os\n",
    "os.chdir('/scratch/cl1205/protease-gcnn-pytorch/model')\n",
    "from utils import *\n",
    "import torch\n",
    "from torch import nn"
   ]
  },
  {
   "cell_type": "code",
   "execution_count": 3,
   "metadata": {},
   "outputs": [],
   "source": [
    "def TestIndexSave(dataset_str):\n",
    "    cwd = os.getcwd()\n",
    "    names = ['x', 'y', 'graph', 'sequences', 'proteases', 'labelorder']\n",
    "    features, y_arr, adj_ls, sequences, proteases, labelorder = tuple(load_input(dataset_str, names, input_type='train'))\n",
    "\n",
    "    idx = np.arange(y_arr.shape[0])\n",
    "    print(y_arr.shape[0])\n",
    "    np.random.shuffle(idx)\n",
    "    cutoff_2 = int(0.7 * len(idx)) # 10% of the benchmark set as testing data\n",
    "    idx_test = idx[cutoff_2:]\n",
    "    idx_train = idx[:cutoff_2]\n",
    "    print(len(idx_test))\n",
    "    np.savetxt('../data/ind.' + dataset_str + '.test.index', idx_test, fmt='%d')\n",
    "    return idx_test\n"
   ]
  },
  {
   "cell_type": "code",
   "execution_count": 4,
   "metadata": {},
   "outputs": [
    {
     "name": "stdout",
     "output_type": "stream",
     "text": [
      "5425\n",
      "1628\n"
     ]
    }
   ],
   "source": [
    "idx = TestIndexSave('TEV_all_binary_10_ang_aa_energy_7_energyedge_5_hbond')"
   ]
  },
  {
   "cell_type": "code",
   "execution_count": 5,
   "metadata": {},
   "outputs": [
    {
     "data": {
      "text/plain": [
       "array([3947, 4140,  777, ...,  224, 5388, 1575])"
      ]
     },
     "execution_count": 5,
     "metadata": {},
     "output_type": "execute_result"
    }
   ],
   "source": [
    "idx"
   ]
  },
  {
   "cell_type": "markdown",
   "metadata": {},
   "source": [
    "# Validation - Test Dataset"
   ]
  },
  {
   "cell_type": "code",
   "execution_count": 14,
   "metadata": {},
   "outputs": [],
   "source": [
    "def ValTestIndex(dataset_str):\n",
    "    cwd = os.getcwd()\n",
    "    names = ['x', 'y', 'graph', 'sequences', 'proteases', 'labelorder']\n",
    "    features, y_arr, adj_ls, sequences, proteases, labelorder = tuple(load_input(dataset_str, names, input_type='train'))\n",
    "\n",
    "    idx = np.arange(y_arr.shape[0])\n",
    "    np.random.shuffle(idx)\n",
    "    cutoff = int(0.8 * len(idx)) # 10% of the benchmark set as testing data\n",
    "    cutoff_2 = int(0.9 * len(idx))\n",
    "    idx_test = idx[cutoff_2:]\n",
    "    idx_train = idx[:cutoff]\n",
    "    idx_val = idx[cutoff: cutoff_2]\n",
    "    print(len(idx_train), len(idx_val), len(idx_test))\n",
    "    np.savetxt('../data/ind.' + dataset_str + '.trisplit.test.index', idx_test, fmt='%d')\n",
    "    np.savetxt('../data/ind.' + dataset_str + '.trisplit.val.index', idx_val, fmt='%d')\n",
    "    return idx_val, idx_test\n"
   ]
  },
  {
   "cell_type": "code",
   "execution_count": 15,
   "metadata": {},
   "outputs": [
    {
     "name": "stdout",
     "output_type": "stream",
     "text": [
      "TEV_all_binary_10_ang_aa_energy_7_energyedge_5_hbond\n",
      "4340 542 543\n",
      "HCV_all_binary_10_ang_aa_energy_7_energyedge_5_hbond\n",
      "31399 3925 3925\n",
      "HCV_WT_binary_10_ang_aa_energy_7_energyedge_5_hbond\n",
      "5873 734 735\n",
      "HCV_A171T_binary_10_ang_aa_energy_7_energyedge_5_hbond\n",
      "10564 1320 1321\n",
      "HCV_D183A_binary_10_ang_aa_energy_7_energyedge_5_hbond\n",
      "9491 1186 1187\n",
      "HCV_Triple_binary_10_ang_aa_energy_7_energyedge_5_hbond\n",
      "5470 684 684\n"
     ]
    }
   ],
   "source": [
    "for data in ['TEV_all_binary_10_ang_aa_energy_7_energyedge_5_hbond',\n",
    "            'HCV_all_binary_10_ang_aa_energy_7_energyedge_5_hbond',\n",
    "            'HCV_WT_binary_10_ang_aa_energy_7_energyedge_5_hbond',\n",
    "            'HCV_A171T_binary_10_ang_aa_energy_7_energyedge_5_hbond',\n",
    "            'HCV_D183A_binary_10_ang_aa_energy_7_energyedge_5_hbond',\n",
    "            'HCV_Triple_binary_10_ang_aa_energy_7_energyedge_5_hbond']:\n",
    "    print(data)\n",
    "    idx_val, idx_test = ValTestIndex(data)\n",
    "    "
   ]
  },
  {
   "cell_type": "markdown",
   "metadata": {},
   "source": [
    "# Training/Val/Test Data Simple Statistics"
   ]
  },
  {
   "cell_type": "code",
   "execution_count": 2,
   "metadata": {},
   "outputs": [],
   "source": [
    "def raw_data_statistics(dataset):\n",
    "    idy = pkl.load(open('/scratch/cl1205/protease-gcnn-pytorch/data/ind.{}.y'.format(dataset), 'rb'))\n",
    "    test_index = np.loadtxt('/scratch/cl1205/protease-gcnn-pytorch/data/ind.{}.test.index'.format(dataset), dtype=int)\n",
    "    sequences = pkl.load(open('/scratch/cl1205/protease-gcnn-pytorch/data/ind.{}.sequences'.format(dataset), 'rb'))\n",
    "    test_index = np.loadtxt('/scratch/cl1205/protease-gcnn-pytorch/data/ind.{}.trisplit.test.index'.format(dataset), dtype=int)\n",
    "    val_index =  np.loadtxt('/scratch/cl1205/protease-gcnn-pytorch/data/ind.{}.trisplit.val.index'.format(dataset), dtype=int)\n",
    "    test_index = np.sort(test_index)\n",
    "    val_index = np.sort(val_index)\n",
    "    y_val = idy[val_index]\n",
    "    y_test = idy[test_index]\n",
    "    \n",
    "    train_mask = np.array([i not in test_index and i not in val_index for i in range(idy.shape[0])]) \n",
    "    y_train = idy[train_mask]\n",
    "    print(np.array(sequences)[train_mask][0]) # 1 0 means cleaved\n",
    "    print('Train:| Cleaved {} | Uncleaved {} | Total {} |'.format(np.sum(y_train==[1,0],axis=0)[0], \n",
    "                                                                  np.sum(y_train==[0,1],axis=0)[0], \n",
    "                                                                  y_train.shape[0]))\n",
    "    print('Val:| Cleaved {} | Uncleaved {} | Total {} |'.format(np.sum(y_val==[1,0],axis=0)[0], \n",
    "                                                                np.sum(y_val==[0,1],axis=0)[0], \n",
    "                                                                y_val.shape[0]))\n",
    "    print('Test:| Cleaved {} | Uncleaved {} | Total {} |'.format(np.sum(y_test==[1,0],axis=0)[0], \n",
    "                                                                 np.sum(y_test==[0,1],axis=0)[0], \n",
    "                                                                 y_test.shape[0]))\n",
    "    print('Total: {}'.format(y_train.shape[0] + y_val.shape[0] + y_test.shape[0]))\n",
    "    return sequences, test_index, val_index"
   ]
  },
  {
   "cell_type": "code",
   "execution_count": 32,
   "metadata": {},
   "outputs": [
    {
     "name": "stdout",
     "output_type": "stream",
     "text": [
      "N176I_TAHLYFQSGT.pdb\n",
      "Train:| Cleaved 2111 | Uncleaved 2229 | Total 4340 |\n",
      "Val:| Cleaved 259 | Uncleaved 283 | Total 542 |\n",
      "Test:| Cleaved 238 | Uncleaved 305 | Total 543 |\n",
      "Total: 5425\n"
     ]
    }
   ],
   "source": [
    "raw_data_statistics('TEV_all_binary_10_ang_aa_energy_7_energyedge_5_hbond')"
   ]
  },
  {
   "cell_type": "code",
   "execution_count": 3,
   "metadata": {},
   "outputs": [
    {
     "name": "stdout",
     "output_type": "stream",
     "text": [
      "N176I_TAHLYFQSGT.pdb\n",
      "Train:| Cleaved 2111 | Uncleaved 2229 | Total 4340 |\n",
      "Val:| Cleaved 259 | Uncleaved 283 | Total 542 |\n",
      "Test:| Cleaved 238 | Uncleaved 305 | Total 543 |\n",
      "Total: 5425\n"
     ]
    }
   ],
   "source": [
    "sequences, test_index, val_index = raw_data_statistics('TEV_all_binary_10_ang_aa_energy_7_energyedge_5_hbond')"
   ]
  },
  {
   "cell_type": "code",
   "execution_count": 7,
   "metadata": {},
   "outputs": [],
   "source": [
    "test_sequences = np.array(sequences)[test_index]"
   ]
  },
  {
   "cell_type": "code",
   "execution_count": 9,
   "metadata": {},
   "outputs": [],
   "source": [
    "for seq in test_sequences:\n",
    "    if seq == 'WT_TENLYFQSGT.pdb':\n",
    "        print('in test')\n",
    "val_sequences = np.array(sequences)[val_index]\n",
    "for seq in val_sequences:\n",
    "    if seq == 'WT_TENLYFQSGT.pdb':\n",
    "        print('in_val')"
   ]
  },
  {
   "cell_type": "code",
   "execution_count": 27,
   "metadata": {},
   "outputs": [
    {
     "data": {
      "text/plain": [
       "2111"
      ]
     },
     "execution_count": 27,
     "metadata": {},
     "output_type": "execute_result"
    }
   ],
   "source": [
    "np.sum(y_train==[1,0], axis=0)[0]"
   ]
  },
  {
   "cell_type": "code",
   "execution_count": 33,
   "metadata": {},
   "outputs": [
    {
     "name": "stdout",
     "output_type": "stream",
     "text": [
      "TEV_all_binary_10_ang_aa_energy_7_energyedge_5_hbond\n",
      "N176I_TAHLYFQSGT.pdb\n",
      "Train:| Cleaved 2111 | Uncleaved 2229 | Total 4340 |\n",
      "Val:| Cleaved 259 | Uncleaved 283 | Total 542 |\n",
      "Test:| Cleaved 238 | Uncleaved 305 | Total 543 |\n",
      "Total: 5425\n",
      "HCV_all_binary_10_ang_aa_energy_7_energyedge_5_hbond\n",
      "AYYYEPC.ASHL\n",
      "Train:| Cleaved 10404 | Uncleaved 20995 | Total 31399 |\n",
      "Val:| Cleaved 1319 | Uncleaved 2606 | Total 3925 |\n",
      "Test:| Cleaved 1338 | Uncleaved 2587 | Total 3925 |\n",
      "Total: 39249\n",
      "HCV_WT_binary_10_ang_aa_energy_7_energyedge_5_hbond\n",
      "AYYYEPC.ASHL\n",
      "Train:| Cleaved 1566 | Uncleaved 4307 | Total 5873 |\n",
      "Val:| Cleaved 175 | Uncleaved 559 | Total 734 |\n",
      "Test:| Cleaved 191 | Uncleaved 544 | Total 735 |\n",
      "Total: 7342\n",
      "HCV_A171T_binary_10_ang_aa_energy_7_energyedge_5_hbond\n",
      "AETMLLC.ASHL\n",
      "Train:| Cleaved 2905 | Uncleaved 7659 | Total 10564 |\n",
      "Val:| Cleaved 366 | Uncleaved 954 | Total 1320 |\n",
      "Test:| Cleaved 373 | Uncleaved 948 | Total 1321 |\n",
      "Total: 13205\n",
      "HCV_D183A_binary_10_ang_aa_energy_7_energyedge_5_hbond\n",
      "ADLMDDC.ASHL\n",
      "Train:| Cleaved 3538 | Uncleaved 5953 | Total 9491 |\n",
      "Val:| Cleaved 422 | Uncleaved 764 | Total 1186 |\n",
      "Test:| Cleaved 390 | Uncleaved 797 | Total 1187 |\n",
      "Total: 11864\n",
      "HCV_Triple_binary_10_ang_aa_energy_7_energyedge_5_hbond\n",
      "AKQTISC.ASHL\n",
      "Train:| Cleaved 2496 | Uncleaved 2974 | Total 5470 |\n",
      "Val:| Cleaved 315 | Uncleaved 369 | Total 684 |\n",
      "Test:| Cleaved 324 | Uncleaved 360 | Total 684 |\n",
      "Total: 6838\n"
     ]
    }
   ],
   "source": [
    "for data in ['TEV_all_binary_10_ang_aa_energy_7_energyedge_5_hbond',\n",
    "            'HCV_all_binary_10_ang_aa_energy_7_energyedge_5_hbond',\n",
    "            'HCV_WT_binary_10_ang_aa_energy_7_energyedge_5_hbond',\n",
    "            'HCV_A171T_binary_10_ang_aa_energy_7_energyedge_5_hbond',\n",
    "            'HCV_D183A_binary_10_ang_aa_energy_7_energyedge_5_hbond',\n",
    "            'HCV_Triple_binary_10_ang_aa_energy_7_energyedge_5_hbond']:\n",
    "    print(data)\n",
    "    raw_data_statistics(data)"
   ]
  },
  {
   "cell_type": "code",
   "execution_count": null,
   "metadata": {},
   "outputs": [],
   "source": []
  }
 ],
 "metadata": {
  "kernelspec": {
   "display_name": "Python 3",
   "language": "python",
   "name": "python3"
  },
  "language_info": {
   "codemirror_mode": {
    "name": "ipython",
    "version": 3
   },
   "file_extension": ".py",
   "mimetype": "text/x-python",
   "name": "python",
   "nbconvert_exporter": "python",
   "pygments_lexer": "ipython3",
   "version": "3.6.4"
  }
 },
 "nbformat": 4,
 "nbformat_minor": 2
}
