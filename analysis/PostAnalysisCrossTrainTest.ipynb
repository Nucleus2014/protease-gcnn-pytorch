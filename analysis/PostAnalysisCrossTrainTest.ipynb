{
 "cells": [
  {
   "cell_type": "markdown",
   "metadata": {},
   "source": [
    "# Cross Train Test"
   ]
  },
  {
   "cell_type": "markdown",
   "metadata": {},
   "source": [
    "cross train test using trisplit models (seq+energy)"
   ]
  },
  {
   "cell_type": "code",
   "execution_count": 40,
   "metadata": {},
   "outputs": [],
   "source": [
    "import os\n",
    "import pandas as pd"
   ]
  },
  {
   "cell_type": "code",
   "execution_count": 27,
   "metadata": {},
   "outputs": [],
   "source": [
    "os.chdir('/scratch/cl1205/protease-gcnn-pytorch/model')\n",
    "from utils import *\n",
    "from models import *\n",
    "from sklearn.metrics import roc_curve, auc, average_precision_score"
   ]
  },
  {
   "cell_type": "code",
   "execution_count": 62,
   "metadata": {},
   "outputs": [],
   "source": [
    "def test(X, graph, y, testmask, model_for_test, hidden1, linear, learning_rate, weight_decay, batch_size, dropout, path_save,new=False):\n",
    "    checkpoint = torch.load(path_save)\n",
    "    model_for_test.load_state_dict(checkpoint['state_dict'])\n",
    "    print('model loaded')\n",
    "    if new == False:\n",
    "        #if testmask != None:\n",
    "        print('testmask is not none. good.')\n",
    "        X = X[testmask]\n",
    "        graph = graph[testmask]\n",
    "        y = y[testmask]\n",
    "        #else:\n",
    "        #    print('testmask is none. bad!')\n",
    "        with torch.no_grad():\n",
    "            model_for_test.eval()\n",
    "            #for j in range(100):\n",
    "            logits_test = model_for_test(X, graph)\n",
    "            test_acc = accuracy(logits_test, torch.argmax(y,axis=1))\n",
    "                #if test_acc > max_acc:\n",
    "                 #   logits_test_fin = logits_test\n",
    "                  #  max_acc = test_acc\n",
    "        return logits_test, test_acc\n",
    "    else:\n",
    "        with torch.no_grad():\n",
    "            model_for_test.eval()\n",
    "            logits_test = model_for_test(X, graph)\n",
    "            return logits_test\n",
    "def getAUC(true, proba):\n",
    "    fpr = dict()\n",
    "    tpr = dict()\n",
    "    roc_auc = dict()\n",
    "    # cleaved = 0\n",
    "    fpr, tpr, _ = roc_curve(true, proba[:,0], pos_label=0)\n",
    "    roc_auc = auc(fpr, tpr) #only for binary class\n",
    "    return '{:.4f}'.format(roc_auc)\n",
    "def precision_recall(true, predict, pos_label=0):\n",
    "    # true positive, false negative, false positive\n",
    "    tp = np.sum(true[np.where(predict == pos_label)] == pos_label)\n",
    "    fp = np.sum(true[np.where(predict == pos_label)] != pos_label)\n",
    "    fn = np.sum(true[np.where(predict != pos_label)] == pos_label)\n",
    "    precision = tp / (tp + fp)\n",
    "    recall = tp / (tp + fn)\n",
    "    f1 = 2 * precision * recall / (precision + recall)\n",
    "    ap = average_precision_score(true, predict)\n",
    "    return precision, recall, f1, ap\n",
    "def getMetrics(path, dataList, split=2): # modified based on getCrossTestMetrics\n",
    "    results = []\n",
    "    # logits_test_HCV_WT_binary_10_ang_aa_energy_7_energyedge_5_hbond_model_model_for_test_A171T_seq_energy\n",
    "    results.append(['data', 'feature','accuracy', 'auc', 'precision', 'recall', 'f1', 'ap'])\n",
    "    for data in dataList:\n",
    "        y = pkl.load(open('/scratch/cl1205/protease-gcnn-pytorch/data/ind.' + data[0] + '_binary_10_ang_aa_energy_7_energyedge_5_hbond.y', 'rb'))\n",
    "        if split == 2:\n",
    "            maskPath = '/scratch/cl1205/protease-gcnn-pytorch/data/ind.' + data[0] + '_binary_10_ang_aa_energy_7_energyedge_5_hbond.test.index'\n",
    "        elif split == 3:\n",
    "            maskPath = '/scratch/cl1205/protease-gcnn-pytorch/data/ind.' + data[0] + '_binary_10_ang_aa_energy_7_energyedge_5_hbond.trisplit.test.index'\n",
    "\n",
    "        mask = np.loadtxt(maskPath, dtype=int)\n",
    "        mask = np.sort(mask)\n",
    "        #adj_ls, features, labels, sequences, proteases, labelorder, train_mask, test_mask = load_data(data + '_binary_10_ang_aa_energy_7_energyedge_5_hbond', is_test=data + '_binary_10_ang_aa_energy_7_energyedge_5_hbond', norm_type=False, test_format = 'split', energy_only=False, noenergy=False)\n",
    "        if data == 'WT' or data == 'all': #Just for HCV\n",
    "            y = y[mask[:-1],:]\n",
    "        else:\n",
    "            y = y[mask,:]\n",
    "#         y = y[mask, :]\n",
    "        print(data)\n",
    "#         y = labels[test_mask]\n",
    "        logits_test = pkl.load(open(data[1], 'rb'))\n",
    "        feature = data[1].split('/')[-2]\n",
    "        acc = getAcc(logits_test, np.argmax(y,axis=1))\n",
    "        precision, recall, f1, ap = precision_recall(np.argmax(y,axis=1), np.argmax(logits_test.cpu().detach().numpy(),axis=1))\n",
    "        #proba = softmax(logits_test.numpy(),1)\n",
    "        proba = nn.functional.softmax(logits_test)\n",
    "        auc = float(getAUC(np.argmax(y,axis=1), proba))\n",
    "        results.append([data[0], feature, acc, auc, precision, recall, f1, ap])\n",
    "    results = pd.DataFrame(results[1:], columns = results[0])\n",
    "    return results\n"
   ]
  },
  {
   "cell_type": "code",
   "execution_count": 63,
   "metadata": {},
   "outputs": [],
   "source": [
    "# implant from post_analysis.ipynb\n",
    "def crossTest(dataset = 'HCV_WT_binary_10_ang_aa_energy_7_energyedge_5_hbond', \n",
    "                feature_type = 'energy', \n",
    "               modelPath = 'model_for_test_seed_3_hidden_20_linear_0_lr_0.001_wd_0.001_bs_10_dt_0.05.pth',\n",
    "             modelName = 'HCV_WT_binary_10_ang_energy_7_energyedge_5_hbond'):\n",
    "    if feature_type == 'energy':\n",
    "        is_energy_only = True\n",
    "    else:\n",
    "        is_energy_only = False\n",
    "    adj_ls, features, labels, sequences, proteases, labelorder, train_mask, val_test, test_mask = load_data(dataset, is_test=dataset, is_val=dataset, norm_type=True, test_format = 'split', noenergy=False, energy_only=is_energy_only)\n",
    "#     if feature_type == 'energy':\n",
    "#         compPath = 'HCV_' + modelName + '_binary_10_ang_energy_7_energyedge_5_hbond'\n",
    "#     elif feature_type == 'complete':\n",
    "#         compPath = 'HCV_' + modelName + '_binary_10_ang_aa_energy_7_energyedge_5_hbond'\n",
    "#     elif feature_type == 'seq':\n",
    "#         compPath = 'HCV_' + modelName + '_binary_10_ang_aa_'\n",
    "\n",
    "        \n",
    "#     path = os.path.join('/scratch/cl1205/protease-gcnn-pytorch/model/outputs/tt_finalize_20220211/' + compPath +\n",
    "#                         '/bs_' + modelPath.split('_')[-3], modelPath)\n",
    "    path = os.path.join('/projects/f_sdk94_1/PGCN/HCV/trisplit/models/', \n",
    "                        os.path.join(modelName, feature_type + '/' + modelPath))\n",
    "    print(path)\n",
    "    name = modelPath\n",
    "    bs = int(name.split('_')[-3])\n",
    "    wd = float(name.split('_')[-5])\n",
    "    lr = float(name.split('_')[-7])\n",
    "    dt = float(name.split('_')[-1][0:-4])\n",
    "    model = GCN(nnode=features.shape[1],\n",
    "                nfeat=features.shape[2],\n",
    "                mfeat=adj_ls.shape[3],\n",
    "    #            ngcn=args.ngcn,\n",
    "                hidden1=20,\n",
    "                depth=2,\n",
    "    #            hidden2=args.hidden2,\n",
    "                natt=0, # one layer\n",
    "                linear=0,\n",
    "                weight='pre',\n",
    "                is_des=False,\n",
    "                nclass=2, #labels.shape[1],\n",
    "                dropout=dt,\n",
    "                cheby=None)\n",
    "    logit_test, acc_test = test(X=features, graph=adj_ls, y=labels, testmask=test_mask, model_for_test=model, \n",
    "                                hidden1=20, linear=0, learning_rate=lr, weight_decay=wd, batch_size=bs, \n",
    "                                dropout=dt, \n",
    "                                path_save=path, \n",
    "                                new=False)\n",
    "    y = labels[test_mask,:].numpy()\n",
    "    precision, recall, f1, ap = precision_recall(np.argmax(y,axis=1), np.argmax(logit_test.cpu().detach().numpy(),axis=1))\n",
    "    proba = nn.functional.softmax(logit_test)\n",
    "    aucScore = float(getAUC(np.argmax(y,axis=1), proba))\n",
    "    return acc_test, precision, recall, f1, ap, aucScore"
   ]
  },
  {
   "cell_type": "code",
   "execution_count": null,
   "metadata": {},
   "outputs": [],
   "source": [
    "results_new = []\n",
    "datas = ['WT','A171T','D183A','Triple', 'all']\n",
    "for data in datas:\n",
    "    for i, model in enumerate(modelPaths):\n",
    "        acc, p, r, f1, ap, auc = crossTest(dataset = 'HCV_' + data + '_binary_10_ang_aa_energy_7_energyedge_5_hbond',\n",
    "                                           modelPath = model, modelName = datas[i], is_energy_only=False)\n",
    "        feature = 'Seq+Energy'\n",
    "        results_new.append([data, datas[i], feature, acc.item(), p, r, f1, ap, auc])"
   ]
  },
  {
   "cell_type": "code",
   "execution_count": null,
   "metadata": {},
   "outputs": [],
   "source": [
    "df = pd.DataFrame(results_new, columns = ['Data', 'Model', 'Feature', 'Accuracy', 'Precision', 'Recall', 'F1', 'AP','AUC'])\n",
    "df.head()"
   ]
  },
  {
   "cell_type": "code",
   "execution_count": null,
   "metadata": {},
   "outputs": [],
   "source": [
    "value = 'AUC'\n",
    "pd.pivot_table(df, values=[value], index=['Data', 'Feature'], columns=['Model']).reindex([(x, 'E-only') for x in datas])[[(value, x) for x in datas]]"
   ]
  },
  {
   "cell_type": "markdown",
   "metadata": {},
   "source": [
    "## trisplit"
   ]
  },
  {
   "cell_type": "markdown",
   "metadata": {},
   "source": [
    "### Seq+Energy"
   ]
  },
  {
   "cell_type": "code",
   "execution_count": 64,
   "metadata": {},
   "outputs": [],
   "source": [
    "# median(accuracy)\n",
    "modelPaths = ['model_for_test_seed_1_hidden_20_linear_0_lr_0.005_wd_0.005_bs_50_dt_0.05.pth',\n",
    "             'model_for_test_seed_3_hidden_20_linear_0_lr_0.0005_wd_0.0001_bs_50_dt_0.3.pth',\n",
    "             'model_for_test_seed_1_hidden_20_linear_0_lr_0.05_wd_0.0005_bs_500_dt_0.01.pth',\n",
    "             'model_for_test_seed_2_hidden_20_linear_0_lr_0.005_wd_0.001_bs_50_dt_0.05.pth',\n",
    "             'model_for_test_seed_2_hidden_20_linear_0_lr_0.0005_wd_0.0001_bs_50_dt_0.4.pth']\n",
    "datas = ['WT','A171T','D183A','Triple', 'Combined']"
   ]
  },
  {
   "cell_type": "code",
   "execution_count": 66,
   "metadata": {},
   "outputs": [
    {
     "name": "stdout",
     "output_type": "stream",
     "text": [
      "WT\n",
      "/projects/f_sdk94_1/PGCN/HCV/trisplit/models/WT/complete/model_for_test_seed_1_hidden_20_linear_0_lr_0.005_wd_0.005_bs_50_dt_0.05.pth\n",
      "model loaded\n",
      "testmask is not none. good.\n",
      "A171T\n"
     ]
    },
    {
     "name": "stderr",
     "output_type": "stream",
     "text": [
      "/projects/community/py-data-science-stack/5.1.0/kp807/lib/python3.6/site-packages/ipykernel_launcher.py:50: UserWarning: Implicit dimension choice for softmax has been deprecated. Change the call to include dim=X as an argument.\n"
     ]
    },
    {
     "name": "stdout",
     "output_type": "stream",
     "text": [
      "/projects/f_sdk94_1/PGCN/HCV/trisplit/models/A171T/complete/model_for_test_seed_3_hidden_20_linear_0_lr_0.0005_wd_0.0001_bs_50_dt_0.3.pth\n",
      "model loaded\n",
      "testmask is not none. good.\n",
      "D183A\n"
     ]
    },
    {
     "name": "stderr",
     "output_type": "stream",
     "text": [
      "/projects/community/py-data-science-stack/5.1.0/kp807/lib/python3.6/site-packages/ipykernel_launcher.py:50: UserWarning: Implicit dimension choice for softmax has been deprecated. Change the call to include dim=X as an argument.\n"
     ]
    },
    {
     "name": "stdout",
     "output_type": "stream",
     "text": [
      "/projects/f_sdk94_1/PGCN/HCV/trisplit/models/D183A/complete/model_for_test_seed_1_hidden_20_linear_0_lr_0.05_wd_0.0005_bs_500_dt_0.01.pth\n",
      "model loaded\n",
      "testmask is not none. good.\n",
      "Triple\n"
     ]
    },
    {
     "name": "stderr",
     "output_type": "stream",
     "text": [
      "/projects/community/py-data-science-stack/5.1.0/kp807/lib/python3.6/site-packages/ipykernel_launcher.py:50: UserWarning: Implicit dimension choice for softmax has been deprecated. Change the call to include dim=X as an argument.\n"
     ]
    },
    {
     "name": "stdout",
     "output_type": "stream",
     "text": [
      "/projects/f_sdk94_1/PGCN/HCV/trisplit/models/Triple/complete/model_for_test_seed_2_hidden_20_linear_0_lr_0.005_wd_0.001_bs_50_dt_0.05.pth\n",
      "model loaded\n",
      "testmask is not none. good.\n",
      "Combined\n"
     ]
    },
    {
     "name": "stderr",
     "output_type": "stream",
     "text": [
      "/projects/community/py-data-science-stack/5.1.0/kp807/lib/python3.6/site-packages/ipykernel_launcher.py:50: UserWarning: Implicit dimension choice for softmax has been deprecated. Change the call to include dim=X as an argument.\n"
     ]
    },
    {
     "name": "stdout",
     "output_type": "stream",
     "text": [
      "/projects/f_sdk94_1/PGCN/HCV/trisplit/models/Combined/complete/model_for_test_seed_2_hidden_20_linear_0_lr_0.0005_wd_0.0001_bs_50_dt_0.4.pth\n",
      "model loaded\n",
      "testmask is not none. good.\n",
      "WT\n"
     ]
    },
    {
     "name": "stderr",
     "output_type": "stream",
     "text": [
      "/projects/community/py-data-science-stack/5.1.0/kp807/lib/python3.6/site-packages/ipykernel_launcher.py:50: UserWarning: Implicit dimension choice for softmax has been deprecated. Change the call to include dim=X as an argument.\n"
     ]
    },
    {
     "name": "stdout",
     "output_type": "stream",
     "text": [
      "/projects/f_sdk94_1/PGCN/HCV/trisplit/models/WT/complete/model_for_test_seed_1_hidden_20_linear_0_lr_0.005_wd_0.005_bs_50_dt_0.05.pth\n",
      "model loaded\n",
      "testmask is not none. good.\n",
      "A171T\n"
     ]
    },
    {
     "name": "stderr",
     "output_type": "stream",
     "text": [
      "/projects/community/py-data-science-stack/5.1.0/kp807/lib/python3.6/site-packages/ipykernel_launcher.py:50: UserWarning: Implicit dimension choice for softmax has been deprecated. Change the call to include dim=X as an argument.\n"
     ]
    },
    {
     "name": "stdout",
     "output_type": "stream",
     "text": [
      "/projects/f_sdk94_1/PGCN/HCV/trisplit/models/A171T/complete/model_for_test_seed_3_hidden_20_linear_0_lr_0.0005_wd_0.0001_bs_50_dt_0.3.pth\n",
      "model loaded\n",
      "testmask is not none. good.\n",
      "D183A\n"
     ]
    },
    {
     "name": "stderr",
     "output_type": "stream",
     "text": [
      "/projects/community/py-data-science-stack/5.1.0/kp807/lib/python3.6/site-packages/ipykernel_launcher.py:50: UserWarning: Implicit dimension choice for softmax has been deprecated. Change the call to include dim=X as an argument.\n"
     ]
    },
    {
     "name": "stdout",
     "output_type": "stream",
     "text": [
      "/projects/f_sdk94_1/PGCN/HCV/trisplit/models/D183A/complete/model_for_test_seed_1_hidden_20_linear_0_lr_0.05_wd_0.0005_bs_500_dt_0.01.pth\n",
      "model loaded\n",
      "testmask is not none. good.\n",
      "Triple\n"
     ]
    },
    {
     "name": "stderr",
     "output_type": "stream",
     "text": [
      "/projects/community/py-data-science-stack/5.1.0/kp807/lib/python3.6/site-packages/ipykernel_launcher.py:50: UserWarning: Implicit dimension choice for softmax has been deprecated. Change the call to include dim=X as an argument.\n"
     ]
    },
    {
     "name": "stdout",
     "output_type": "stream",
     "text": [
      "/projects/f_sdk94_1/PGCN/HCV/trisplit/models/Triple/complete/model_for_test_seed_2_hidden_20_linear_0_lr_0.005_wd_0.001_bs_50_dt_0.05.pth\n",
      "model loaded\n",
      "testmask is not none. good.\n",
      "Combined\n"
     ]
    },
    {
     "name": "stderr",
     "output_type": "stream",
     "text": [
      "/projects/community/py-data-science-stack/5.1.0/kp807/lib/python3.6/site-packages/ipykernel_launcher.py:50: UserWarning: Implicit dimension choice for softmax has been deprecated. Change the call to include dim=X as an argument.\n"
     ]
    },
    {
     "name": "stdout",
     "output_type": "stream",
     "text": [
      "/projects/f_sdk94_1/PGCN/HCV/trisplit/models/Combined/complete/model_for_test_seed_2_hidden_20_linear_0_lr_0.0005_wd_0.0001_bs_50_dt_0.4.pth\n",
      "model loaded\n",
      "testmask is not none. good.\n",
      "WT\n"
     ]
    },
    {
     "name": "stderr",
     "output_type": "stream",
     "text": [
      "/projects/community/py-data-science-stack/5.1.0/kp807/lib/python3.6/site-packages/ipykernel_launcher.py:50: UserWarning: Implicit dimension choice for softmax has been deprecated. Change the call to include dim=X as an argument.\n"
     ]
    },
    {
     "name": "stdout",
     "output_type": "stream",
     "text": [
      "/projects/f_sdk94_1/PGCN/HCV/trisplit/models/WT/complete/model_for_test_seed_1_hidden_20_linear_0_lr_0.005_wd_0.005_bs_50_dt_0.05.pth\n",
      "model loaded\n",
      "testmask is not none. good.\n",
      "A171T\n"
     ]
    },
    {
     "name": "stderr",
     "output_type": "stream",
     "text": [
      "/projects/community/py-data-science-stack/5.1.0/kp807/lib/python3.6/site-packages/ipykernel_launcher.py:50: UserWarning: Implicit dimension choice for softmax has been deprecated. Change the call to include dim=X as an argument.\n"
     ]
    },
    {
     "name": "stdout",
     "output_type": "stream",
     "text": [
      "/projects/f_sdk94_1/PGCN/HCV/trisplit/models/A171T/complete/model_for_test_seed_3_hidden_20_linear_0_lr_0.0005_wd_0.0001_bs_50_dt_0.3.pth\n",
      "model loaded\n",
      "testmask is not none. good.\n",
      "D183A\n"
     ]
    },
    {
     "name": "stderr",
     "output_type": "stream",
     "text": [
      "/projects/community/py-data-science-stack/5.1.0/kp807/lib/python3.6/site-packages/ipykernel_launcher.py:50: UserWarning: Implicit dimension choice for softmax has been deprecated. Change the call to include dim=X as an argument.\n"
     ]
    },
    {
     "name": "stdout",
     "output_type": "stream",
     "text": [
      "/projects/f_sdk94_1/PGCN/HCV/trisplit/models/D183A/complete/model_for_test_seed_1_hidden_20_linear_0_lr_0.05_wd_0.0005_bs_500_dt_0.01.pth\n",
      "model loaded\n",
      "testmask is not none. good.\n",
      "Triple\n"
     ]
    },
    {
     "name": "stderr",
     "output_type": "stream",
     "text": [
      "/projects/community/py-data-science-stack/5.1.0/kp807/lib/python3.6/site-packages/ipykernel_launcher.py:50: UserWarning: Implicit dimension choice for softmax has been deprecated. Change the call to include dim=X as an argument.\n"
     ]
    },
    {
     "name": "stdout",
     "output_type": "stream",
     "text": [
      "/projects/f_sdk94_1/PGCN/HCV/trisplit/models/Triple/complete/model_for_test_seed_2_hidden_20_linear_0_lr_0.005_wd_0.001_bs_50_dt_0.05.pth\n",
      "model loaded\n",
      "testmask is not none. good.\n",
      "Combined\n"
     ]
    },
    {
     "name": "stderr",
     "output_type": "stream",
     "text": [
      "/projects/community/py-data-science-stack/5.1.0/kp807/lib/python3.6/site-packages/ipykernel_launcher.py:50: UserWarning: Implicit dimension choice for softmax has been deprecated. Change the call to include dim=X as an argument.\n"
     ]
    },
    {
     "name": "stdout",
     "output_type": "stream",
     "text": [
      "/projects/f_sdk94_1/PGCN/HCV/trisplit/models/Combined/complete/model_for_test_seed_2_hidden_20_linear_0_lr_0.0005_wd_0.0001_bs_50_dt_0.4.pth\n",
      "model loaded\n",
      "testmask is not none. good.\n",
      "WT\n"
     ]
    },
    {
     "name": "stderr",
     "output_type": "stream",
     "text": [
      "/projects/community/py-data-science-stack/5.1.0/kp807/lib/python3.6/site-packages/ipykernel_launcher.py:50: UserWarning: Implicit dimension choice for softmax has been deprecated. Change the call to include dim=X as an argument.\n"
     ]
    },
    {
     "name": "stdout",
     "output_type": "stream",
     "text": [
      "/projects/f_sdk94_1/PGCN/HCV/trisplit/models/WT/complete/model_for_test_seed_1_hidden_20_linear_0_lr_0.005_wd_0.005_bs_50_dt_0.05.pth\n",
      "model loaded\n",
      "testmask is not none. good.\n",
      "A171T\n"
     ]
    },
    {
     "name": "stderr",
     "output_type": "stream",
     "text": [
      "/projects/community/py-data-science-stack/5.1.0/kp807/lib/python3.6/site-packages/ipykernel_launcher.py:50: UserWarning: Implicit dimension choice for softmax has been deprecated. Change the call to include dim=X as an argument.\n"
     ]
    },
    {
     "name": "stdout",
     "output_type": "stream",
     "text": [
      "/projects/f_sdk94_1/PGCN/HCV/trisplit/models/A171T/complete/model_for_test_seed_3_hidden_20_linear_0_lr_0.0005_wd_0.0001_bs_50_dt_0.3.pth\n",
      "model loaded\n",
      "testmask is not none. good.\n",
      "D183A\n"
     ]
    },
    {
     "name": "stderr",
     "output_type": "stream",
     "text": [
      "/projects/community/py-data-science-stack/5.1.0/kp807/lib/python3.6/site-packages/ipykernel_launcher.py:50: UserWarning: Implicit dimension choice for softmax has been deprecated. Change the call to include dim=X as an argument.\n"
     ]
    },
    {
     "name": "stdout",
     "output_type": "stream",
     "text": [
      "/projects/f_sdk94_1/PGCN/HCV/trisplit/models/D183A/complete/model_for_test_seed_1_hidden_20_linear_0_lr_0.05_wd_0.0005_bs_500_dt_0.01.pth\n",
      "model loaded\n",
      "testmask is not none. good.\n",
      "Triple\n"
     ]
    },
    {
     "name": "stderr",
     "output_type": "stream",
     "text": [
      "/projects/community/py-data-science-stack/5.1.0/kp807/lib/python3.6/site-packages/ipykernel_launcher.py:50: UserWarning: Implicit dimension choice for softmax has been deprecated. Change the call to include dim=X as an argument.\n"
     ]
    },
    {
     "name": "stdout",
     "output_type": "stream",
     "text": [
      "/projects/f_sdk94_1/PGCN/HCV/trisplit/models/Triple/complete/model_for_test_seed_2_hidden_20_linear_0_lr_0.005_wd_0.001_bs_50_dt_0.05.pth\n",
      "model loaded\n",
      "testmask is not none. good.\n",
      "Combined\n"
     ]
    },
    {
     "name": "stderr",
     "output_type": "stream",
     "text": [
      "/projects/community/py-data-science-stack/5.1.0/kp807/lib/python3.6/site-packages/ipykernel_launcher.py:50: UserWarning: Implicit dimension choice for softmax has been deprecated. Change the call to include dim=X as an argument.\n"
     ]
    },
    {
     "name": "stdout",
     "output_type": "stream",
     "text": [
      "/projects/f_sdk94_1/PGCN/HCV/trisplit/models/Combined/complete/model_for_test_seed_2_hidden_20_linear_0_lr_0.0005_wd_0.0001_bs_50_dt_0.4.pth\n",
      "model loaded\n",
      "testmask is not none. good.\n",
      "WT\n"
     ]
    },
    {
     "name": "stderr",
     "output_type": "stream",
     "text": [
      "/projects/community/py-data-science-stack/5.1.0/kp807/lib/python3.6/site-packages/ipykernel_launcher.py:50: UserWarning: Implicit dimension choice for softmax has been deprecated. Change the call to include dim=X as an argument.\n"
     ]
    },
    {
     "name": "stdout",
     "output_type": "stream",
     "text": [
      "/projects/f_sdk94_1/PGCN/HCV/trisplit/models/WT/complete/model_for_test_seed_1_hidden_20_linear_0_lr_0.005_wd_0.005_bs_50_dt_0.05.pth\n",
      "model loaded\n",
      "testmask is not none. good.\n",
      "A171T\n"
     ]
    },
    {
     "name": "stderr",
     "output_type": "stream",
     "text": [
      "/projects/community/py-data-science-stack/5.1.0/kp807/lib/python3.6/site-packages/ipykernel_launcher.py:50: UserWarning: Implicit dimension choice for softmax has been deprecated. Change the call to include dim=X as an argument.\n"
     ]
    },
    {
     "name": "stdout",
     "output_type": "stream",
     "text": [
      "/projects/f_sdk94_1/PGCN/HCV/trisplit/models/A171T/complete/model_for_test_seed_3_hidden_20_linear_0_lr_0.0005_wd_0.0001_bs_50_dt_0.3.pth\n",
      "model loaded\n",
      "testmask is not none. good.\n",
      "D183A\n"
     ]
    },
    {
     "name": "stderr",
     "output_type": "stream",
     "text": [
      "/projects/community/py-data-science-stack/5.1.0/kp807/lib/python3.6/site-packages/ipykernel_launcher.py:50: UserWarning: Implicit dimension choice for softmax has been deprecated. Change the call to include dim=X as an argument.\n"
     ]
    },
    {
     "name": "stdout",
     "output_type": "stream",
     "text": [
      "/projects/f_sdk94_1/PGCN/HCV/trisplit/models/D183A/complete/model_for_test_seed_1_hidden_20_linear_0_lr_0.05_wd_0.0005_bs_500_dt_0.01.pth\n",
      "model loaded\n",
      "testmask is not none. good.\n",
      "Triple\n"
     ]
    },
    {
     "name": "stderr",
     "output_type": "stream",
     "text": [
      "/projects/community/py-data-science-stack/5.1.0/kp807/lib/python3.6/site-packages/ipykernel_launcher.py:50: UserWarning: Implicit dimension choice for softmax has been deprecated. Change the call to include dim=X as an argument.\n"
     ]
    },
    {
     "name": "stdout",
     "output_type": "stream",
     "text": [
      "/projects/f_sdk94_1/PGCN/HCV/trisplit/models/Triple/complete/model_for_test_seed_2_hidden_20_linear_0_lr_0.005_wd_0.001_bs_50_dt_0.05.pth\n",
      "model loaded\n",
      "testmask is not none. good.\n",
      "Combined\n"
     ]
    },
    {
     "name": "stderr",
     "output_type": "stream",
     "text": [
      "/projects/community/py-data-science-stack/5.1.0/kp807/lib/python3.6/site-packages/ipykernel_launcher.py:50: UserWarning: Implicit dimension choice for softmax has been deprecated. Change the call to include dim=X as an argument.\n"
     ]
    },
    {
     "name": "stdout",
     "output_type": "stream",
     "text": [
      "/projects/f_sdk94_1/PGCN/HCV/trisplit/models/Combined/complete/model_for_test_seed_2_hidden_20_linear_0_lr_0.0005_wd_0.0001_bs_50_dt_0.4.pth\n",
      "model loaded\n",
      "testmask is not none. good.\n"
     ]
    },
    {
     "name": "stderr",
     "output_type": "stream",
     "text": [
      "/projects/community/py-data-science-stack/5.1.0/kp807/lib/python3.6/site-packages/ipykernel_launcher.py:50: UserWarning: Implicit dimension choice for softmax has been deprecated. Change the call to include dim=X as an argument.\n"
     ]
    },
    {
     "data": {
      "text/html": [
       "<div>\n",
       "<style scoped>\n",
       "    .dataframe tbody tr th:only-of-type {\n",
       "        vertical-align: middle;\n",
       "    }\n",
       "\n",
       "    .dataframe tbody tr th {\n",
       "        vertical-align: top;\n",
       "    }\n",
       "\n",
       "    .dataframe thead th {\n",
       "        text-align: right;\n",
       "    }\n",
       "</style>\n",
       "<table border=\"1\" class=\"dataframe\">\n",
       "  <thead>\n",
       "    <tr style=\"text-align: right;\">\n",
       "      <th></th>\n",
       "      <th>Data</th>\n",
       "      <th>Model</th>\n",
       "      <th>Feature</th>\n",
       "      <th>Accuracy</th>\n",
       "      <th>Precision</th>\n",
       "      <th>Recall</th>\n",
       "      <th>F1</th>\n",
       "      <th>AP</th>\n",
       "      <th>AUC</th>\n",
       "    </tr>\n",
       "  </thead>\n",
       "  <tbody>\n",
       "    <tr>\n",
       "      <th>0</th>\n",
       "      <td>WT</td>\n",
       "      <td>WT</td>\n",
       "      <td>Seq+Energy</td>\n",
       "      <td>0.921088</td>\n",
       "      <td>0.841026</td>\n",
       "      <td>0.858639</td>\n",
       "      <td>0.849741</td>\n",
       "      <td>0.938041</td>\n",
       "      <td>0.9539</td>\n",
       "    </tr>\n",
       "    <tr>\n",
       "      <th>1</th>\n",
       "      <td>WT</td>\n",
       "      <td>A171T</td>\n",
       "      <td>Seq+Energy</td>\n",
       "      <td>0.795918</td>\n",
       "      <td>0.566343</td>\n",
       "      <td>0.916230</td>\n",
       "      <td>0.700000</td>\n",
       "      <td>0.907682</td>\n",
       "      <td>0.8848</td>\n",
       "    </tr>\n",
       "    <tr>\n",
       "      <th>2</th>\n",
       "      <td>WT</td>\n",
       "      <td>D183A</td>\n",
       "      <td>Seq+Energy</td>\n",
       "      <td>0.857143</td>\n",
       "      <td>0.672000</td>\n",
       "      <td>0.879581</td>\n",
       "      <td>0.761905</td>\n",
       "      <td>0.920555</td>\n",
       "      <td>0.9049</td>\n",
       "    </tr>\n",
       "    <tr>\n",
       "      <th>3</th>\n",
       "      <td>WT</td>\n",
       "      <td>Triple</td>\n",
       "      <td>Seq+Energy</td>\n",
       "      <td>0.537415</td>\n",
       "      <td>0.358095</td>\n",
       "      <td>0.984293</td>\n",
       "      <td>0.525140</td>\n",
       "      <td>0.833582</td>\n",
       "      <td>0.8593</td>\n",
       "    </tr>\n",
       "    <tr>\n",
       "      <th>4</th>\n",
       "      <td>WT</td>\n",
       "      <td>Combined</td>\n",
       "      <td>Seq+Energy</td>\n",
       "      <td>0.931973</td>\n",
       "      <td>0.861538</td>\n",
       "      <td>0.879581</td>\n",
       "      <td>0.870466</td>\n",
       "      <td>0.946624</td>\n",
       "      <td>0.9691</td>\n",
       "    </tr>\n",
       "  </tbody>\n",
       "</table>\n",
       "</div>"
      ],
      "text/plain": [
       "  Data     Model     Feature  Accuracy  Precision    Recall        F1  \\\n",
       "0   WT        WT  Seq+Energy  0.921088   0.841026  0.858639  0.849741   \n",
       "1   WT     A171T  Seq+Energy  0.795918   0.566343  0.916230  0.700000   \n",
       "2   WT     D183A  Seq+Energy  0.857143   0.672000  0.879581  0.761905   \n",
       "3   WT    Triple  Seq+Energy  0.537415   0.358095  0.984293  0.525140   \n",
       "4   WT  Combined  Seq+Energy  0.931973   0.861538  0.879581  0.870466   \n",
       "\n",
       "         AP     AUC  \n",
       "0  0.938041  0.9539  \n",
       "1  0.907682  0.8848  \n",
       "2  0.920555  0.9049  \n",
       "3  0.833582  0.8593  \n",
       "4  0.946624  0.9691  "
      ]
     },
     "execution_count": 66,
     "metadata": {},
     "output_type": "execute_result"
    }
   ],
   "source": [
    "from sklearn.metrics import roc_curve, auc, average_precision_score\n",
    "results_new = []\n",
    "for data in datas:\n",
    "    if data == 'Combined':\n",
    "        name = 'all'\n",
    "    else:\n",
    "        name = data\n",
    "    for i, model in enumerate(modelPaths):\n",
    "        print(datas[i])\n",
    "        acc, p, r, f1, ap, aucScore = crossTest(dataset = 'HCV_' + name + '_binary_10_ang_aa_energy_7_energyedge_5_hbond',\n",
    "                                           modelPath = model, modelName = datas[i], feature_type='complete')\n",
    "        feature = 'Seq+Energy'\n",
    "        results_new.append([data, datas[i], feature, acc.item(), p, r, f1, ap, aucScore])\n",
    "df = pd.DataFrame(results_new, columns = ['Data', 'Model', 'Feature', 'Accuracy', 'Precision', 'Recall', 'F1', 'AP','AUC'])\n",
    "df.head()"
   ]
  },
  {
   "cell_type": "code",
   "execution_count": 67,
   "metadata": {},
   "outputs": [
    {
     "data": {
      "text/html": [
       "<div>\n",
       "<style scoped>\n",
       "    .dataframe tbody tr th:only-of-type {\n",
       "        vertical-align: middle;\n",
       "    }\n",
       "\n",
       "    .dataframe tbody tr th {\n",
       "        vertical-align: top;\n",
       "    }\n",
       "\n",
       "    .dataframe thead th {\n",
       "        text-align: right;\n",
       "    }\n",
       "</style>\n",
       "<table border=\"1\" class=\"dataframe\">\n",
       "  <thead>\n",
       "    <tr style=\"text-align: right;\">\n",
       "      <th></th>\n",
       "      <th>Data</th>\n",
       "      <th>Model</th>\n",
       "      <th>Feature</th>\n",
       "      <th>Accuracy</th>\n",
       "      <th>Precision</th>\n",
       "      <th>Recall</th>\n",
       "      <th>F1</th>\n",
       "      <th>AP</th>\n",
       "      <th>AUC</th>\n",
       "    </tr>\n",
       "  </thead>\n",
       "  <tbody>\n",
       "    <tr>\n",
       "      <th>0</th>\n",
       "      <td>WT</td>\n",
       "      <td>WT</td>\n",
       "      <td>Seq+Energy</td>\n",
       "      <td>0.921088</td>\n",
       "      <td>0.841026</td>\n",
       "      <td>0.858639</td>\n",
       "      <td>0.849741</td>\n",
       "      <td>0.938041</td>\n",
       "      <td>0.9539</td>\n",
       "    </tr>\n",
       "    <tr>\n",
       "      <th>1</th>\n",
       "      <td>WT</td>\n",
       "      <td>A171T</td>\n",
       "      <td>Seq+Energy</td>\n",
       "      <td>0.795918</td>\n",
       "      <td>0.566343</td>\n",
       "      <td>0.916230</td>\n",
       "      <td>0.700000</td>\n",
       "      <td>0.907682</td>\n",
       "      <td>0.8848</td>\n",
       "    </tr>\n",
       "    <tr>\n",
       "      <th>2</th>\n",
       "      <td>WT</td>\n",
       "      <td>D183A</td>\n",
       "      <td>Seq+Energy</td>\n",
       "      <td>0.857143</td>\n",
       "      <td>0.672000</td>\n",
       "      <td>0.879581</td>\n",
       "      <td>0.761905</td>\n",
       "      <td>0.920555</td>\n",
       "      <td>0.9049</td>\n",
       "    </tr>\n",
       "    <tr>\n",
       "      <th>3</th>\n",
       "      <td>WT</td>\n",
       "      <td>Triple</td>\n",
       "      <td>Seq+Energy</td>\n",
       "      <td>0.537415</td>\n",
       "      <td>0.358095</td>\n",
       "      <td>0.984293</td>\n",
       "      <td>0.525140</td>\n",
       "      <td>0.833582</td>\n",
       "      <td>0.8593</td>\n",
       "    </tr>\n",
       "    <tr>\n",
       "      <th>4</th>\n",
       "      <td>WT</td>\n",
       "      <td>Combined</td>\n",
       "      <td>Seq+Energy</td>\n",
       "      <td>0.931973</td>\n",
       "      <td>0.861538</td>\n",
       "      <td>0.879581</td>\n",
       "      <td>0.870466</td>\n",
       "      <td>0.946624</td>\n",
       "      <td>0.9691</td>\n",
       "    </tr>\n",
       "  </tbody>\n",
       "</table>\n",
       "</div>"
      ],
      "text/plain": [
       "  Data     Model     Feature  Accuracy  Precision    Recall        F1  \\\n",
       "0   WT        WT  Seq+Energy  0.921088   0.841026  0.858639  0.849741   \n",
       "1   WT     A171T  Seq+Energy  0.795918   0.566343  0.916230  0.700000   \n",
       "2   WT     D183A  Seq+Energy  0.857143   0.672000  0.879581  0.761905   \n",
       "3   WT    Triple  Seq+Energy  0.537415   0.358095  0.984293  0.525140   \n",
       "4   WT  Combined  Seq+Energy  0.931973   0.861538  0.879581  0.870466   \n",
       "\n",
       "         AP     AUC  \n",
       "0  0.938041  0.9539  \n",
       "1  0.907682  0.8848  \n",
       "2  0.920555  0.9049  \n",
       "3  0.833582  0.8593  \n",
       "4  0.946624  0.9691  "
      ]
     },
     "execution_count": 67,
     "metadata": {},
     "output_type": "execute_result"
    }
   ],
   "source": [
    "df = pd.DataFrame(results_new, columns = ['Data', 'Model', 'Feature', 'Accuracy', 'Precision', 'Recall', 'F1', 'AP','AUC'])\n",
    "df.head()"
   ]
  },
  {
   "cell_type": "code",
   "execution_count": 69,
   "metadata": {},
   "outputs": [],
   "source": [
    "df.to_csv('CrossTestSummary_complete_trisplit.csv',index=None)"
   ]
  },
  {
   "cell_type": "code",
   "execution_count": 68,
   "metadata": {},
   "outputs": [
    {
     "data": {
      "text/html": [
       "<div>\n",
       "<style scoped>\n",
       "    .dataframe tbody tr th:only-of-type {\n",
       "        vertical-align: middle;\n",
       "    }\n",
       "\n",
       "    .dataframe tbody tr th {\n",
       "        vertical-align: top;\n",
       "    }\n",
       "\n",
       "    .dataframe thead tr th {\n",
       "        text-align: left;\n",
       "    }\n",
       "\n",
       "    .dataframe thead tr:last-of-type th {\n",
       "        text-align: right;\n",
       "    }\n",
       "</style>\n",
       "<table border=\"1\" class=\"dataframe\">\n",
       "  <thead>\n",
       "    <tr>\n",
       "      <th></th>\n",
       "      <th></th>\n",
       "      <th colspan=\"5\" halign=\"left\">Accuracy</th>\n",
       "    </tr>\n",
       "    <tr>\n",
       "      <th></th>\n",
       "      <th>Model</th>\n",
       "      <th>WT</th>\n",
       "      <th>A171T</th>\n",
       "      <th>D183A</th>\n",
       "      <th>Triple</th>\n",
       "      <th>Combined</th>\n",
       "    </tr>\n",
       "    <tr>\n",
       "      <th>Data</th>\n",
       "      <th>Feature</th>\n",
       "      <th></th>\n",
       "      <th></th>\n",
       "      <th></th>\n",
       "      <th></th>\n",
       "      <th></th>\n",
       "    </tr>\n",
       "  </thead>\n",
       "  <tbody>\n",
       "    <tr>\n",
       "      <th>WT</th>\n",
       "      <th>Seq+Energy</th>\n",
       "      <td>0.921088</td>\n",
       "      <td>0.795918</td>\n",
       "      <td>0.857143</td>\n",
       "      <td>0.537415</td>\n",
       "      <td>0.931973</td>\n",
       "    </tr>\n",
       "    <tr>\n",
       "      <th>A171T</th>\n",
       "      <th>Seq+Energy</th>\n",
       "      <td>0.864497</td>\n",
       "      <td>0.963664</td>\n",
       "      <td>0.320969</td>\n",
       "      <td>0.710825</td>\n",
       "      <td>0.960636</td>\n",
       "    </tr>\n",
       "    <tr>\n",
       "      <th>D183A</th>\n",
       "      <th>Seq+Energy</th>\n",
       "      <td>0.847515</td>\n",
       "      <td>0.841618</td>\n",
       "      <td>0.898905</td>\n",
       "      <td>0.835720</td>\n",
       "      <td>0.896377</td>\n",
       "    </tr>\n",
       "    <tr>\n",
       "      <th>Triple</th>\n",
       "      <th>Seq+Energy</th>\n",
       "      <td>0.820175</td>\n",
       "      <td>0.912281</td>\n",
       "      <td>0.691520</td>\n",
       "      <td>0.935673</td>\n",
       "      <td>0.934211</td>\n",
       "    </tr>\n",
       "    <tr>\n",
       "      <th>Combined</th>\n",
       "      <th>Seq+Energy</th>\n",
       "      <td>0.862930</td>\n",
       "      <td>0.889682</td>\n",
       "      <td>0.660892</td>\n",
       "      <td>0.755924</td>\n",
       "      <td>0.922548</td>\n",
       "    </tr>\n",
       "  </tbody>\n",
       "</table>\n",
       "</div>"
      ],
      "text/plain": [
       "                     Accuracy                                        \n",
       "Model                      WT     A171T     D183A    Triple  Combined\n",
       "Data     Feature                                                     \n",
       "WT       Seq+Energy  0.921088  0.795918  0.857143  0.537415  0.931973\n",
       "A171T    Seq+Energy  0.864497  0.963664  0.320969  0.710825  0.960636\n",
       "D183A    Seq+Energy  0.847515  0.841618  0.898905  0.835720  0.896377\n",
       "Triple   Seq+Energy  0.820175  0.912281  0.691520  0.935673  0.934211\n",
       "Combined Seq+Energy  0.862930  0.889682  0.660892  0.755924  0.922548"
      ]
     },
     "execution_count": 68,
     "metadata": {},
     "output_type": "execute_result"
    }
   ],
   "source": [
    "value = 'Accuracy'\n",
    "pd.pivot_table(df, values=[value], index=['Data', 'Feature'], columns=['Model']).reindex([(x, 'Seq+Energy') for x in datas])[[(value, x) for x in datas]]"
   ]
  },
  {
   "cell_type": "markdown",
   "metadata": {},
   "source": [
    "## Energy only"
   ]
  },
  {
   "cell_type": "code",
   "execution_count": 70,
   "metadata": {},
   "outputs": [],
   "source": [
    "# median(accuracy)\n",
    "modelPaths = ['model_for_test_seed_2_hidden_20_linear_0_lr_0.005_wd_0.0005_bs_500_dt_0.2.pth',\n",
    "             'model_for_test_seed_2_hidden_20_linear_0_lr_0.01_wd_0.001_bs_1000_dt_0.2.pth',\n",
    "             'model_for_test_seed_1_hidden_20_linear_0_lr_0.01_wd_0.001_bs_100_dt_0.2.pth',\n",
    "             'model_for_test_seed_1_hidden_20_linear_0_lr_0.005_wd_0.0001_bs_50_dt_0.05.pth',\n",
    "             'model_for_test_seed_3_hidden_20_linear_0_lr_0.0005_wd_0.0001_bs_10_dt_0.05.pth']\n",
    "datas = ['WT','A171T','D183A','Triple', 'Combined']"
   ]
  },
  {
   "cell_type": "code",
   "execution_count": 71,
   "metadata": {},
   "outputs": [
    {
     "name": "stdout",
     "output_type": "stream",
     "text": [
      "WT\n",
      "/projects/f_sdk94_1/PGCN/HCV/trisplit/models/WT/energy/model_for_test_seed_2_hidden_20_linear_0_lr_0.005_wd_0.0005_bs_500_dt_0.2.pth\n",
      "model loaded\n",
      "testmask is not none. good.\n",
      "A171T\n"
     ]
    },
    {
     "name": "stderr",
     "output_type": "stream",
     "text": [
      "/projects/community/py-data-science-stack/5.1.0/kp807/lib/python3.6/site-packages/ipykernel_launcher.py:50: UserWarning: Implicit dimension choice for softmax has been deprecated. Change the call to include dim=X as an argument.\n"
     ]
    },
    {
     "name": "stdout",
     "output_type": "stream",
     "text": [
      "/projects/f_sdk94_1/PGCN/HCV/trisplit/models/A171T/energy/model_for_test_seed_2_hidden_20_linear_0_lr_0.01_wd_0.001_bs_1000_dt_0.2.pth\n",
      "model loaded\n",
      "testmask is not none. good.\n",
      "D183A\n"
     ]
    },
    {
     "name": "stderr",
     "output_type": "stream",
     "text": [
      "/projects/community/py-data-science-stack/5.1.0/kp807/lib/python3.6/site-packages/ipykernel_launcher.py:50: UserWarning: Implicit dimension choice for softmax has been deprecated. Change the call to include dim=X as an argument.\n"
     ]
    },
    {
     "name": "stdout",
     "output_type": "stream",
     "text": [
      "/projects/f_sdk94_1/PGCN/HCV/trisplit/models/D183A/energy/model_for_test_seed_1_hidden_20_linear_0_lr_0.01_wd_0.001_bs_100_dt_0.2.pth\n",
      "model loaded\n",
      "testmask is not none. good.\n",
      "Triple\n"
     ]
    },
    {
     "name": "stderr",
     "output_type": "stream",
     "text": [
      "/projects/community/py-data-science-stack/5.1.0/kp807/lib/python3.6/site-packages/ipykernel_launcher.py:50: UserWarning: Implicit dimension choice for softmax has been deprecated. Change the call to include dim=X as an argument.\n"
     ]
    },
    {
     "name": "stdout",
     "output_type": "stream",
     "text": [
      "/projects/f_sdk94_1/PGCN/HCV/trisplit/models/Triple/energy/model_for_test_seed_1_hidden_20_linear_0_lr_0.005_wd_0.0001_bs_50_dt_0.05.pth\n",
      "model loaded\n",
      "testmask is not none. good.\n",
      "Combined\n"
     ]
    },
    {
     "name": "stderr",
     "output_type": "stream",
     "text": [
      "/projects/community/py-data-science-stack/5.1.0/kp807/lib/python3.6/site-packages/ipykernel_launcher.py:50: UserWarning: Implicit dimension choice for softmax has been deprecated. Change the call to include dim=X as an argument.\n"
     ]
    },
    {
     "name": "stdout",
     "output_type": "stream",
     "text": [
      "/projects/f_sdk94_1/PGCN/HCV/trisplit/models/Combined/energy/model_for_test_seed_3_hidden_20_linear_0_lr_0.0005_wd_0.0001_bs_10_dt_0.05.pth\n",
      "model loaded\n",
      "testmask is not none. good.\n",
      "WT\n"
     ]
    },
    {
     "name": "stderr",
     "output_type": "stream",
     "text": [
      "/projects/community/py-data-science-stack/5.1.0/kp807/lib/python3.6/site-packages/ipykernel_launcher.py:50: UserWarning: Implicit dimension choice for softmax has been deprecated. Change the call to include dim=X as an argument.\n"
     ]
    },
    {
     "name": "stdout",
     "output_type": "stream",
     "text": [
      "/projects/f_sdk94_1/PGCN/HCV/trisplit/models/WT/energy/model_for_test_seed_2_hidden_20_linear_0_lr_0.005_wd_0.0005_bs_500_dt_0.2.pth\n",
      "model loaded\n",
      "testmask is not none. good.\n",
      "A171T\n"
     ]
    },
    {
     "name": "stderr",
     "output_type": "stream",
     "text": [
      "/projects/community/py-data-science-stack/5.1.0/kp807/lib/python3.6/site-packages/ipykernel_launcher.py:50: UserWarning: Implicit dimension choice for softmax has been deprecated. Change the call to include dim=X as an argument.\n"
     ]
    },
    {
     "name": "stdout",
     "output_type": "stream",
     "text": [
      "/projects/f_sdk94_1/PGCN/HCV/trisplit/models/A171T/energy/model_for_test_seed_2_hidden_20_linear_0_lr_0.01_wd_0.001_bs_1000_dt_0.2.pth\n",
      "model loaded\n",
      "testmask is not none. good.\n",
      "D183A\n"
     ]
    },
    {
     "name": "stderr",
     "output_type": "stream",
     "text": [
      "/projects/community/py-data-science-stack/5.1.0/kp807/lib/python3.6/site-packages/ipykernel_launcher.py:50: UserWarning: Implicit dimension choice for softmax has been deprecated. Change the call to include dim=X as an argument.\n"
     ]
    },
    {
     "name": "stdout",
     "output_type": "stream",
     "text": [
      "/projects/f_sdk94_1/PGCN/HCV/trisplit/models/D183A/energy/model_for_test_seed_1_hidden_20_linear_0_lr_0.01_wd_0.001_bs_100_dt_0.2.pth\n",
      "model loaded\n",
      "testmask is not none. good.\n",
      "Triple\n"
     ]
    },
    {
     "name": "stderr",
     "output_type": "stream",
     "text": [
      "/projects/community/py-data-science-stack/5.1.0/kp807/lib/python3.6/site-packages/ipykernel_launcher.py:50: UserWarning: Implicit dimension choice for softmax has been deprecated. Change the call to include dim=X as an argument.\n"
     ]
    },
    {
     "name": "stdout",
     "output_type": "stream",
     "text": [
      "/projects/f_sdk94_1/PGCN/HCV/trisplit/models/Triple/energy/model_for_test_seed_1_hidden_20_linear_0_lr_0.005_wd_0.0001_bs_50_dt_0.05.pth\n",
      "model loaded\n",
      "testmask is not none. good.\n",
      "Combined\n"
     ]
    },
    {
     "name": "stderr",
     "output_type": "stream",
     "text": [
      "/projects/community/py-data-science-stack/5.1.0/kp807/lib/python3.6/site-packages/ipykernel_launcher.py:50: UserWarning: Implicit dimension choice for softmax has been deprecated. Change the call to include dim=X as an argument.\n"
     ]
    },
    {
     "name": "stdout",
     "output_type": "stream",
     "text": [
      "/projects/f_sdk94_1/PGCN/HCV/trisplit/models/Combined/energy/model_for_test_seed_3_hidden_20_linear_0_lr_0.0005_wd_0.0001_bs_10_dt_0.05.pth\n",
      "model loaded\n",
      "testmask is not none. good.\n",
      "WT\n"
     ]
    },
    {
     "name": "stderr",
     "output_type": "stream",
     "text": [
      "/projects/community/py-data-science-stack/5.1.0/kp807/lib/python3.6/site-packages/ipykernel_launcher.py:50: UserWarning: Implicit dimension choice for softmax has been deprecated. Change the call to include dim=X as an argument.\n"
     ]
    },
    {
     "name": "stdout",
     "output_type": "stream",
     "text": [
      "/projects/f_sdk94_1/PGCN/HCV/trisplit/models/WT/energy/model_for_test_seed_2_hidden_20_linear_0_lr_0.005_wd_0.0005_bs_500_dt_0.2.pth\n",
      "model loaded\n",
      "testmask is not none. good.\n",
      "A171T\n"
     ]
    },
    {
     "name": "stderr",
     "output_type": "stream",
     "text": [
      "/projects/community/py-data-science-stack/5.1.0/kp807/lib/python3.6/site-packages/ipykernel_launcher.py:50: UserWarning: Implicit dimension choice for softmax has been deprecated. Change the call to include dim=X as an argument.\n"
     ]
    },
    {
     "name": "stdout",
     "output_type": "stream",
     "text": [
      "/projects/f_sdk94_1/PGCN/HCV/trisplit/models/A171T/energy/model_for_test_seed_2_hidden_20_linear_0_lr_0.01_wd_0.001_bs_1000_dt_0.2.pth\n",
      "model loaded\n",
      "testmask is not none. good.\n",
      "D183A\n"
     ]
    },
    {
     "name": "stderr",
     "output_type": "stream",
     "text": [
      "/projects/community/py-data-science-stack/5.1.0/kp807/lib/python3.6/site-packages/ipykernel_launcher.py:50: UserWarning: Implicit dimension choice for softmax has been deprecated. Change the call to include dim=X as an argument.\n"
     ]
    },
    {
     "name": "stdout",
     "output_type": "stream",
     "text": [
      "/projects/f_sdk94_1/PGCN/HCV/trisplit/models/D183A/energy/model_for_test_seed_1_hidden_20_linear_0_lr_0.01_wd_0.001_bs_100_dt_0.2.pth\n",
      "model loaded\n",
      "testmask is not none. good.\n",
      "Triple\n"
     ]
    },
    {
     "name": "stderr",
     "output_type": "stream",
     "text": [
      "/projects/community/py-data-science-stack/5.1.0/kp807/lib/python3.6/site-packages/ipykernel_launcher.py:50: UserWarning: Implicit dimension choice for softmax has been deprecated. Change the call to include dim=X as an argument.\n"
     ]
    },
    {
     "name": "stdout",
     "output_type": "stream",
     "text": [
      "/projects/f_sdk94_1/PGCN/HCV/trisplit/models/Triple/energy/model_for_test_seed_1_hidden_20_linear_0_lr_0.005_wd_0.0001_bs_50_dt_0.05.pth\n",
      "model loaded\n",
      "testmask is not none. good.\n",
      "Combined\n"
     ]
    },
    {
     "name": "stderr",
     "output_type": "stream",
     "text": [
      "/projects/community/py-data-science-stack/5.1.0/kp807/lib/python3.6/site-packages/ipykernel_launcher.py:50: UserWarning: Implicit dimension choice for softmax has been deprecated. Change the call to include dim=X as an argument.\n"
     ]
    },
    {
     "name": "stdout",
     "output_type": "stream",
     "text": [
      "/projects/f_sdk94_1/PGCN/HCV/trisplit/models/Combined/energy/model_for_test_seed_3_hidden_20_linear_0_lr_0.0005_wd_0.0001_bs_10_dt_0.05.pth\n",
      "model loaded\n",
      "testmask is not none. good.\n",
      "WT\n"
     ]
    },
    {
     "name": "stderr",
     "output_type": "stream",
     "text": [
      "/projects/community/py-data-science-stack/5.1.0/kp807/lib/python3.6/site-packages/ipykernel_launcher.py:50: UserWarning: Implicit dimension choice for softmax has been deprecated. Change the call to include dim=X as an argument.\n"
     ]
    },
    {
     "name": "stdout",
     "output_type": "stream",
     "text": [
      "/projects/f_sdk94_1/PGCN/HCV/trisplit/models/WT/energy/model_for_test_seed_2_hidden_20_linear_0_lr_0.005_wd_0.0005_bs_500_dt_0.2.pth\n",
      "model loaded\n",
      "testmask is not none. good.\n",
      "A171T\n"
     ]
    },
    {
     "name": "stderr",
     "output_type": "stream",
     "text": [
      "/projects/community/py-data-science-stack/5.1.0/kp807/lib/python3.6/site-packages/ipykernel_launcher.py:50: UserWarning: Implicit dimension choice for softmax has been deprecated. Change the call to include dim=X as an argument.\n"
     ]
    },
    {
     "name": "stdout",
     "output_type": "stream",
     "text": [
      "/projects/f_sdk94_1/PGCN/HCV/trisplit/models/A171T/energy/model_for_test_seed_2_hidden_20_linear_0_lr_0.01_wd_0.001_bs_1000_dt_0.2.pth\n",
      "model loaded\n",
      "testmask is not none. good.\n",
      "D183A\n"
     ]
    },
    {
     "name": "stderr",
     "output_type": "stream",
     "text": [
      "/projects/community/py-data-science-stack/5.1.0/kp807/lib/python3.6/site-packages/ipykernel_launcher.py:50: UserWarning: Implicit dimension choice for softmax has been deprecated. Change the call to include dim=X as an argument.\n"
     ]
    },
    {
     "name": "stdout",
     "output_type": "stream",
     "text": [
      "/projects/f_sdk94_1/PGCN/HCV/trisplit/models/D183A/energy/model_for_test_seed_1_hidden_20_linear_0_lr_0.01_wd_0.001_bs_100_dt_0.2.pth\n",
      "model loaded\n",
      "testmask is not none. good.\n",
      "Triple\n"
     ]
    },
    {
     "name": "stderr",
     "output_type": "stream",
     "text": [
      "/projects/community/py-data-science-stack/5.1.0/kp807/lib/python3.6/site-packages/ipykernel_launcher.py:50: UserWarning: Implicit dimension choice for softmax has been deprecated. Change the call to include dim=X as an argument.\n"
     ]
    },
    {
     "name": "stdout",
     "output_type": "stream",
     "text": [
      "/projects/f_sdk94_1/PGCN/HCV/trisplit/models/Triple/energy/model_for_test_seed_1_hidden_20_linear_0_lr_0.005_wd_0.0001_bs_50_dt_0.05.pth\n",
      "model loaded\n",
      "testmask is not none. good.\n",
      "Combined\n"
     ]
    },
    {
     "name": "stderr",
     "output_type": "stream",
     "text": [
      "/projects/community/py-data-science-stack/5.1.0/kp807/lib/python3.6/site-packages/ipykernel_launcher.py:50: UserWarning: Implicit dimension choice for softmax has been deprecated. Change the call to include dim=X as an argument.\n"
     ]
    },
    {
     "name": "stdout",
     "output_type": "stream",
     "text": [
      "/projects/f_sdk94_1/PGCN/HCV/trisplit/models/Combined/energy/model_for_test_seed_3_hidden_20_linear_0_lr_0.0005_wd_0.0001_bs_10_dt_0.05.pth\n",
      "model loaded\n",
      "testmask is not none. good.\n",
      "WT\n"
     ]
    },
    {
     "name": "stderr",
     "output_type": "stream",
     "text": [
      "/projects/community/py-data-science-stack/5.1.0/kp807/lib/python3.6/site-packages/ipykernel_launcher.py:50: UserWarning: Implicit dimension choice for softmax has been deprecated. Change the call to include dim=X as an argument.\n"
     ]
    },
    {
     "name": "stdout",
     "output_type": "stream",
     "text": [
      "/projects/f_sdk94_1/PGCN/HCV/trisplit/models/WT/energy/model_for_test_seed_2_hidden_20_linear_0_lr_0.005_wd_0.0005_bs_500_dt_0.2.pth\n",
      "model loaded\n",
      "testmask is not none. good.\n",
      "A171T\n"
     ]
    },
    {
     "name": "stderr",
     "output_type": "stream",
     "text": [
      "/projects/community/py-data-science-stack/5.1.0/kp807/lib/python3.6/site-packages/ipykernel_launcher.py:50: UserWarning: Implicit dimension choice for softmax has been deprecated. Change the call to include dim=X as an argument.\n"
     ]
    },
    {
     "name": "stdout",
     "output_type": "stream",
     "text": [
      "/projects/f_sdk94_1/PGCN/HCV/trisplit/models/A171T/energy/model_for_test_seed_2_hidden_20_linear_0_lr_0.01_wd_0.001_bs_1000_dt_0.2.pth\n",
      "model loaded\n",
      "testmask is not none. good.\n",
      "D183A\n"
     ]
    },
    {
     "name": "stderr",
     "output_type": "stream",
     "text": [
      "/projects/community/py-data-science-stack/5.1.0/kp807/lib/python3.6/site-packages/ipykernel_launcher.py:50: UserWarning: Implicit dimension choice for softmax has been deprecated. Change the call to include dim=X as an argument.\n"
     ]
    },
    {
     "name": "stdout",
     "output_type": "stream",
     "text": [
      "/projects/f_sdk94_1/PGCN/HCV/trisplit/models/D183A/energy/model_for_test_seed_1_hidden_20_linear_0_lr_0.01_wd_0.001_bs_100_dt_0.2.pth\n",
      "model loaded\n",
      "testmask is not none. good.\n",
      "Triple\n"
     ]
    },
    {
     "name": "stderr",
     "output_type": "stream",
     "text": [
      "/projects/community/py-data-science-stack/5.1.0/kp807/lib/python3.6/site-packages/ipykernel_launcher.py:50: UserWarning: Implicit dimension choice for softmax has been deprecated. Change the call to include dim=X as an argument.\n"
     ]
    },
    {
     "name": "stdout",
     "output_type": "stream",
     "text": [
      "/projects/f_sdk94_1/PGCN/HCV/trisplit/models/Triple/energy/model_for_test_seed_1_hidden_20_linear_0_lr_0.005_wd_0.0001_bs_50_dt_0.05.pth\n",
      "model loaded\n",
      "testmask is not none. good.\n",
      "Combined\n"
     ]
    },
    {
     "name": "stderr",
     "output_type": "stream",
     "text": [
      "/projects/community/py-data-science-stack/5.1.0/kp807/lib/python3.6/site-packages/ipykernel_launcher.py:50: UserWarning: Implicit dimension choice for softmax has been deprecated. Change the call to include dim=X as an argument.\n"
     ]
    },
    {
     "name": "stdout",
     "output_type": "stream",
     "text": [
      "/projects/f_sdk94_1/PGCN/HCV/trisplit/models/Combined/energy/model_for_test_seed_3_hidden_20_linear_0_lr_0.0005_wd_0.0001_bs_10_dt_0.05.pth\n",
      "model loaded\n",
      "testmask is not none. good.\n"
     ]
    },
    {
     "name": "stderr",
     "output_type": "stream",
     "text": [
      "/projects/community/py-data-science-stack/5.1.0/kp807/lib/python3.6/site-packages/ipykernel_launcher.py:50: UserWarning: Implicit dimension choice for softmax has been deprecated. Change the call to include dim=X as an argument.\n"
     ]
    },
    {
     "data": {
      "text/html": [
       "<div>\n",
       "<style scoped>\n",
       "    .dataframe tbody tr th:only-of-type {\n",
       "        vertical-align: middle;\n",
       "    }\n",
       "\n",
       "    .dataframe tbody tr th {\n",
       "        vertical-align: top;\n",
       "    }\n",
       "\n",
       "    .dataframe thead th {\n",
       "        text-align: right;\n",
       "    }\n",
       "</style>\n",
       "<table border=\"1\" class=\"dataframe\">\n",
       "  <thead>\n",
       "    <tr style=\"text-align: right;\">\n",
       "      <th></th>\n",
       "      <th>Data</th>\n",
       "      <th>Model</th>\n",
       "      <th>Feature</th>\n",
       "      <th>Accuracy</th>\n",
       "      <th>Precision</th>\n",
       "      <th>Recall</th>\n",
       "      <th>F1</th>\n",
       "      <th>AP</th>\n",
       "      <th>AUC</th>\n",
       "    </tr>\n",
       "  </thead>\n",
       "  <tbody>\n",
       "    <tr>\n",
       "      <th>0</th>\n",
       "      <td>WT</td>\n",
       "      <td>WT</td>\n",
       "      <td>E-only</td>\n",
       "      <td>0.900680</td>\n",
       "      <td>0.817204</td>\n",
       "      <td>0.795812</td>\n",
       "      <td>0.806366</td>\n",
       "      <td>0.917160</td>\n",
       "      <td>0.9421</td>\n",
       "    </tr>\n",
       "    <tr>\n",
       "      <th>1</th>\n",
       "      <td>WT</td>\n",
       "      <td>A171T</td>\n",
       "      <td>E-only</td>\n",
       "      <td>0.808163</td>\n",
       "      <td>0.587413</td>\n",
       "      <td>0.879581</td>\n",
       "      <td>0.704403</td>\n",
       "      <td>0.903519</td>\n",
       "      <td>0.8918</td>\n",
       "    </tr>\n",
       "    <tr>\n",
       "      <th>2</th>\n",
       "      <td>WT</td>\n",
       "      <td>D183A</td>\n",
       "      <td>E-only</td>\n",
       "      <td>0.282993</td>\n",
       "      <td>0.266017</td>\n",
       "      <td>1.000000</td>\n",
       "      <td>0.420242</td>\n",
       "      <td>0.748257</td>\n",
       "      <td>0.6139</td>\n",
       "    </tr>\n",
       "    <tr>\n",
       "      <th>3</th>\n",
       "      <td>WT</td>\n",
       "      <td>Triple</td>\n",
       "      <td>E-only</td>\n",
       "      <td>0.265306</td>\n",
       "      <td>0.250358</td>\n",
       "      <td>0.916230</td>\n",
       "      <td>0.393258</td>\n",
       "      <td>0.733350</td>\n",
       "      <td>0.4709</td>\n",
       "    </tr>\n",
       "    <tr>\n",
       "      <th>4</th>\n",
       "      <td>WT</td>\n",
       "      <td>Combined</td>\n",
       "      <td>E-only</td>\n",
       "      <td>0.896599</td>\n",
       "      <td>0.804233</td>\n",
       "      <td>0.795812</td>\n",
       "      <td>0.800000</td>\n",
       "      <td>0.915755</td>\n",
       "      <td>0.9471</td>\n",
       "    </tr>\n",
       "  </tbody>\n",
       "</table>\n",
       "</div>"
      ],
      "text/plain": [
       "  Data     Model Feature  Accuracy  Precision    Recall        F1        AP  \\\n",
       "0   WT        WT  E-only  0.900680   0.817204  0.795812  0.806366  0.917160   \n",
       "1   WT     A171T  E-only  0.808163   0.587413  0.879581  0.704403  0.903519   \n",
       "2   WT     D183A  E-only  0.282993   0.266017  1.000000  0.420242  0.748257   \n",
       "3   WT    Triple  E-only  0.265306   0.250358  0.916230  0.393258  0.733350   \n",
       "4   WT  Combined  E-only  0.896599   0.804233  0.795812  0.800000  0.915755   \n",
       "\n",
       "      AUC  \n",
       "0  0.9421  \n",
       "1  0.8918  \n",
       "2  0.6139  \n",
       "3  0.4709  \n",
       "4  0.9471  "
      ]
     },
     "execution_count": 71,
     "metadata": {},
     "output_type": "execute_result"
    }
   ],
   "source": [
    "results_new = []\n",
    "for data in datas:\n",
    "    if data == 'Combined':\n",
    "        name = 'all'\n",
    "    else:\n",
    "        name = data\n",
    "    for i, model in enumerate(modelPaths):\n",
    "        print(datas[i])\n",
    "        acc, p, r, f1, ap, aucScore = crossTest(dataset = 'HCV_' + name + '_binary_10_ang_aa_energy_7_energyedge_5_hbond',\n",
    "                                           modelPath = model, modelName = datas[i], feature_type='energy')\n",
    "        feature = 'E-only'\n",
    "        results_new.append([data, datas[i], feature, acc.item(), p, r, f1, ap, aucScore])\n",
    "df = pd.DataFrame(results_new, columns = ['Data', 'Model', 'Feature', 'Accuracy', 'Precision', 'Recall', 'F1', 'AP','AUC'])\n",
    "df.head()"
   ]
  },
  {
   "cell_type": "code",
   "execution_count": 72,
   "metadata": {},
   "outputs": [],
   "source": [
    "df.to_csv('CrossTestSummary_energy_trisplit.csv',index=None)"
   ]
  },
  {
   "cell_type": "code",
   "execution_count": 73,
   "metadata": {},
   "outputs": [
    {
     "data": {
      "text/html": [
       "<div>\n",
       "<style scoped>\n",
       "    .dataframe tbody tr th:only-of-type {\n",
       "        vertical-align: middle;\n",
       "    }\n",
       "\n",
       "    .dataframe tbody tr th {\n",
       "        vertical-align: top;\n",
       "    }\n",
       "\n",
       "    .dataframe thead tr th {\n",
       "        text-align: left;\n",
       "    }\n",
       "\n",
       "    .dataframe thead tr:last-of-type th {\n",
       "        text-align: right;\n",
       "    }\n",
       "</style>\n",
       "<table border=\"1\" class=\"dataframe\">\n",
       "  <thead>\n",
       "    <tr>\n",
       "      <th></th>\n",
       "      <th></th>\n",
       "      <th colspan=\"5\" halign=\"left\">Accuracy</th>\n",
       "    </tr>\n",
       "    <tr>\n",
       "      <th></th>\n",
       "      <th>Model</th>\n",
       "      <th>WT</th>\n",
       "      <th>A171T</th>\n",
       "      <th>D183A</th>\n",
       "      <th>Triple</th>\n",
       "      <th>Combined</th>\n",
       "    </tr>\n",
       "    <tr>\n",
       "      <th>Data</th>\n",
       "      <th>Feature</th>\n",
       "      <th></th>\n",
       "      <th></th>\n",
       "      <th></th>\n",
       "      <th></th>\n",
       "      <th></th>\n",
       "    </tr>\n",
       "  </thead>\n",
       "  <tbody>\n",
       "    <tr>\n",
       "      <th>WT</th>\n",
       "      <th>E-only</th>\n",
       "      <td>0.900680</td>\n",
       "      <td>0.808163</td>\n",
       "      <td>0.282993</td>\n",
       "      <td>0.265306</td>\n",
       "      <td>0.896599</td>\n",
       "    </tr>\n",
       "    <tr>\n",
       "      <th>A171T</th>\n",
       "      <th>E-only</th>\n",
       "      <td>0.827403</td>\n",
       "      <td>0.958365</td>\n",
       "      <td>0.282362</td>\n",
       "      <td>0.315670</td>\n",
       "      <td>0.956094</td>\n",
       "    </tr>\n",
       "    <tr>\n",
       "      <th>D183A</th>\n",
       "      <th>E-only</th>\n",
       "      <td>0.783488</td>\n",
       "      <td>0.827296</td>\n",
       "      <td>0.890480</td>\n",
       "      <td>0.793597</td>\n",
       "      <td>0.875316</td>\n",
       "    </tr>\n",
       "    <tr>\n",
       "      <th>Triple</th>\n",
       "      <th>E-only</th>\n",
       "      <td>0.782164</td>\n",
       "      <td>0.884503</td>\n",
       "      <td>0.577485</td>\n",
       "      <td>0.925439</td>\n",
       "      <td>0.923977</td>\n",
       "    </tr>\n",
       "    <tr>\n",
       "      <th>Combined</th>\n",
       "      <th>E-only</th>\n",
       "      <td>0.816561</td>\n",
       "      <td>0.874395</td>\n",
       "      <td>0.513121</td>\n",
       "      <td>0.568917</td>\n",
       "      <td>0.910318</td>\n",
       "    </tr>\n",
       "  </tbody>\n",
       "</table>\n",
       "</div>"
      ],
      "text/plain": [
       "                  Accuracy                                        \n",
       "Model                   WT     A171T     D183A    Triple  Combined\n",
       "Data     Feature                                                  \n",
       "WT       E-only   0.900680  0.808163  0.282993  0.265306  0.896599\n",
       "A171T    E-only   0.827403  0.958365  0.282362  0.315670  0.956094\n",
       "D183A    E-only   0.783488  0.827296  0.890480  0.793597  0.875316\n",
       "Triple   E-only   0.782164  0.884503  0.577485  0.925439  0.923977\n",
       "Combined E-only   0.816561  0.874395  0.513121  0.568917  0.910318"
      ]
     },
     "execution_count": 73,
     "metadata": {},
     "output_type": "execute_result"
    }
   ],
   "source": [
    "value = 'Accuracy'\n",
    "pd.pivot_table(df, values=[value], index=['Data', 'Feature'], columns=['Model']).reindex([(x, 'E-only') for x in datas])[[(value, x) for x in datas]]"
   ]
  },
  {
   "cell_type": "markdown",
   "metadata": {},
   "source": [
    "## Seq only"
   ]
  },
  {
   "cell_type": "code",
   "execution_count": 74,
   "metadata": {},
   "outputs": [],
   "source": [
    "# median(accuracy)\n",
    "modelPaths = ['model_for_test_seed_1_hidden_20_linear_0_lr_0.0005_wd_0.005_bs_50_dt_0.5.pth',\n",
    "             'model_for_test_seed_1_hidden_20_linear_0_lr_0.001_wd_0.0005_bs_100_dt_0.4.pth',\n",
    "             'model_for_test_seed_2_hidden_20_linear_0_lr_0.005_wd_0.0005_bs_500_dt_0.5.pth',\n",
    "             'model_for_test_seed_1_hidden_20_linear_0_lr_0.005_wd_0.0001_bs_50_dt_0.5.pth',\n",
    "             'model_for_test_seed_3_hidden_20_linear_0_lr_0.001_wd_0.0001_bs_100_dt_0.1.pth']\n",
    "datas = ['WT','A171T','D183A','Triple', 'Combined']"
   ]
  },
  {
   "cell_type": "code",
   "execution_count": 75,
   "metadata": {},
   "outputs": [
    {
     "name": "stdout",
     "output_type": "stream",
     "text": [
      "WT\n",
      "/projects/f_sdk94_1/PGCN/HCV/trisplit/models/WT/seq/model_for_test_seed_1_hidden_20_linear_0_lr_0.0005_wd_0.005_bs_50_dt_0.5.pth\n",
      "model loaded\n",
      "testmask is not none. good.\n",
      "A171T\n"
     ]
    },
    {
     "name": "stderr",
     "output_type": "stream",
     "text": [
      "/projects/community/py-data-science-stack/5.1.0/kp807/lib/python3.6/site-packages/ipykernel_launcher.py:50: UserWarning: Implicit dimension choice for softmax has been deprecated. Change the call to include dim=X as an argument.\n"
     ]
    },
    {
     "name": "stdout",
     "output_type": "stream",
     "text": [
      "/projects/f_sdk94_1/PGCN/HCV/trisplit/models/A171T/seq/model_for_test_seed_1_hidden_20_linear_0_lr_0.001_wd_0.0005_bs_100_dt_0.4.pth\n",
      "model loaded\n",
      "testmask is not none. good.\n",
      "D183A\n"
     ]
    },
    {
     "name": "stderr",
     "output_type": "stream",
     "text": [
      "/projects/community/py-data-science-stack/5.1.0/kp807/lib/python3.6/site-packages/ipykernel_launcher.py:50: UserWarning: Implicit dimension choice for softmax has been deprecated. Change the call to include dim=X as an argument.\n"
     ]
    },
    {
     "name": "stdout",
     "output_type": "stream",
     "text": [
      "/projects/f_sdk94_1/PGCN/HCV/trisplit/models/D183A/seq/model_for_test_seed_2_hidden_20_linear_0_lr_0.005_wd_0.0005_bs_500_dt_0.5.pth\n",
      "model loaded\n",
      "testmask is not none. good.\n",
      "Triple\n"
     ]
    },
    {
     "name": "stderr",
     "output_type": "stream",
     "text": [
      "/projects/community/py-data-science-stack/5.1.0/kp807/lib/python3.6/site-packages/ipykernel_launcher.py:50: UserWarning: Implicit dimension choice for softmax has been deprecated. Change the call to include dim=X as an argument.\n"
     ]
    },
    {
     "name": "stdout",
     "output_type": "stream",
     "text": [
      "/projects/f_sdk94_1/PGCN/HCV/trisplit/models/Triple/seq/model_for_test_seed_1_hidden_20_linear_0_lr_0.005_wd_0.0001_bs_50_dt_0.5.pth\n",
      "model loaded\n",
      "testmask is not none. good.\n",
      "Combined\n"
     ]
    },
    {
     "name": "stderr",
     "output_type": "stream",
     "text": [
      "/projects/community/py-data-science-stack/5.1.0/kp807/lib/python3.6/site-packages/ipykernel_launcher.py:50: UserWarning: Implicit dimension choice for softmax has been deprecated. Change the call to include dim=X as an argument.\n"
     ]
    },
    {
     "name": "stdout",
     "output_type": "stream",
     "text": [
      "/projects/f_sdk94_1/PGCN/HCV/trisplit/models/Combined/seq/model_for_test_seed_3_hidden_20_linear_0_lr_0.001_wd_0.0001_bs_100_dt_0.1.pth\n",
      "model loaded\n",
      "testmask is not none. good.\n",
      "WT\n"
     ]
    },
    {
     "name": "stderr",
     "output_type": "stream",
     "text": [
      "/projects/community/py-data-science-stack/5.1.0/kp807/lib/python3.6/site-packages/ipykernel_launcher.py:50: UserWarning: Implicit dimension choice for softmax has been deprecated. Change the call to include dim=X as an argument.\n"
     ]
    },
    {
     "name": "stdout",
     "output_type": "stream",
     "text": [
      "/projects/f_sdk94_1/PGCN/HCV/trisplit/models/WT/seq/model_for_test_seed_1_hidden_20_linear_0_lr_0.0005_wd_0.005_bs_50_dt_0.5.pth\n",
      "model loaded\n",
      "testmask is not none. good.\n",
      "A171T\n"
     ]
    },
    {
     "name": "stderr",
     "output_type": "stream",
     "text": [
      "/projects/community/py-data-science-stack/5.1.0/kp807/lib/python3.6/site-packages/ipykernel_launcher.py:50: UserWarning: Implicit dimension choice for softmax has been deprecated. Change the call to include dim=X as an argument.\n"
     ]
    },
    {
     "name": "stdout",
     "output_type": "stream",
     "text": [
      "/projects/f_sdk94_1/PGCN/HCV/trisplit/models/A171T/seq/model_for_test_seed_1_hidden_20_linear_0_lr_0.001_wd_0.0005_bs_100_dt_0.4.pth\n",
      "model loaded\n",
      "testmask is not none. good.\n",
      "D183A\n"
     ]
    },
    {
     "name": "stderr",
     "output_type": "stream",
     "text": [
      "/projects/community/py-data-science-stack/5.1.0/kp807/lib/python3.6/site-packages/ipykernel_launcher.py:50: UserWarning: Implicit dimension choice for softmax has been deprecated. Change the call to include dim=X as an argument.\n"
     ]
    },
    {
     "name": "stdout",
     "output_type": "stream",
     "text": [
      "/projects/f_sdk94_1/PGCN/HCV/trisplit/models/D183A/seq/model_for_test_seed_2_hidden_20_linear_0_lr_0.005_wd_0.0005_bs_500_dt_0.5.pth\n",
      "model loaded\n",
      "testmask is not none. good.\n",
      "Triple\n"
     ]
    },
    {
     "name": "stderr",
     "output_type": "stream",
     "text": [
      "/projects/community/py-data-science-stack/5.1.0/kp807/lib/python3.6/site-packages/ipykernel_launcher.py:50: UserWarning: Implicit dimension choice for softmax has been deprecated. Change the call to include dim=X as an argument.\n"
     ]
    },
    {
     "name": "stdout",
     "output_type": "stream",
     "text": [
      "/projects/f_sdk94_1/PGCN/HCV/trisplit/models/Triple/seq/model_for_test_seed_1_hidden_20_linear_0_lr_0.005_wd_0.0001_bs_50_dt_0.5.pth\n",
      "model loaded\n",
      "testmask is not none. good.\n",
      "Combined\n"
     ]
    },
    {
     "name": "stderr",
     "output_type": "stream",
     "text": [
      "/projects/community/py-data-science-stack/5.1.0/kp807/lib/python3.6/site-packages/ipykernel_launcher.py:50: UserWarning: Implicit dimension choice for softmax has been deprecated. Change the call to include dim=X as an argument.\n"
     ]
    },
    {
     "name": "stdout",
     "output_type": "stream",
     "text": [
      "/projects/f_sdk94_1/PGCN/HCV/trisplit/models/Combined/seq/model_for_test_seed_3_hidden_20_linear_0_lr_0.001_wd_0.0001_bs_100_dt_0.1.pth\n",
      "model loaded\n",
      "testmask is not none. good.\n",
      "WT\n"
     ]
    },
    {
     "name": "stderr",
     "output_type": "stream",
     "text": [
      "/projects/community/py-data-science-stack/5.1.0/kp807/lib/python3.6/site-packages/ipykernel_launcher.py:50: UserWarning: Implicit dimension choice for softmax has been deprecated. Change the call to include dim=X as an argument.\n"
     ]
    },
    {
     "name": "stdout",
     "output_type": "stream",
     "text": [
      "/projects/f_sdk94_1/PGCN/HCV/trisplit/models/WT/seq/model_for_test_seed_1_hidden_20_linear_0_lr_0.0005_wd_0.005_bs_50_dt_0.5.pth\n",
      "model loaded\n",
      "testmask is not none. good.\n",
      "A171T\n"
     ]
    },
    {
     "name": "stderr",
     "output_type": "stream",
     "text": [
      "/projects/community/py-data-science-stack/5.1.0/kp807/lib/python3.6/site-packages/ipykernel_launcher.py:50: UserWarning: Implicit dimension choice for softmax has been deprecated. Change the call to include dim=X as an argument.\n"
     ]
    },
    {
     "name": "stdout",
     "output_type": "stream",
     "text": [
      "/projects/f_sdk94_1/PGCN/HCV/trisplit/models/A171T/seq/model_for_test_seed_1_hidden_20_linear_0_lr_0.001_wd_0.0005_bs_100_dt_0.4.pth\n",
      "model loaded\n",
      "testmask is not none. good.\n",
      "D183A\n"
     ]
    },
    {
     "name": "stderr",
     "output_type": "stream",
     "text": [
      "/projects/community/py-data-science-stack/5.1.0/kp807/lib/python3.6/site-packages/ipykernel_launcher.py:50: UserWarning: Implicit dimension choice for softmax has been deprecated. Change the call to include dim=X as an argument.\n"
     ]
    },
    {
     "name": "stdout",
     "output_type": "stream",
     "text": [
      "/projects/f_sdk94_1/PGCN/HCV/trisplit/models/D183A/seq/model_for_test_seed_2_hidden_20_linear_0_lr_0.005_wd_0.0005_bs_500_dt_0.5.pth\n",
      "model loaded\n",
      "testmask is not none. good.\n",
      "Triple\n"
     ]
    },
    {
     "name": "stderr",
     "output_type": "stream",
     "text": [
      "/projects/community/py-data-science-stack/5.1.0/kp807/lib/python3.6/site-packages/ipykernel_launcher.py:50: UserWarning: Implicit dimension choice for softmax has been deprecated. Change the call to include dim=X as an argument.\n"
     ]
    },
    {
     "name": "stdout",
     "output_type": "stream",
     "text": [
      "/projects/f_sdk94_1/PGCN/HCV/trisplit/models/Triple/seq/model_for_test_seed_1_hidden_20_linear_0_lr_0.005_wd_0.0001_bs_50_dt_0.5.pth\n",
      "model loaded\n",
      "testmask is not none. good.\n",
      "Combined\n"
     ]
    },
    {
     "name": "stderr",
     "output_type": "stream",
     "text": [
      "/projects/community/py-data-science-stack/5.1.0/kp807/lib/python3.6/site-packages/ipykernel_launcher.py:50: UserWarning: Implicit dimension choice for softmax has been deprecated. Change the call to include dim=X as an argument.\n"
     ]
    },
    {
     "name": "stdout",
     "output_type": "stream",
     "text": [
      "/projects/f_sdk94_1/PGCN/HCV/trisplit/models/Combined/seq/model_for_test_seed_3_hidden_20_linear_0_lr_0.001_wd_0.0001_bs_100_dt_0.1.pth\n",
      "model loaded\n",
      "testmask is not none. good.\n",
      "WT\n"
     ]
    },
    {
     "name": "stderr",
     "output_type": "stream",
     "text": [
      "/projects/community/py-data-science-stack/5.1.0/kp807/lib/python3.6/site-packages/ipykernel_launcher.py:50: UserWarning: Implicit dimension choice for softmax has been deprecated. Change the call to include dim=X as an argument.\n"
     ]
    },
    {
     "name": "stdout",
     "output_type": "stream",
     "text": [
      "/projects/f_sdk94_1/PGCN/HCV/trisplit/models/WT/seq/model_for_test_seed_1_hidden_20_linear_0_lr_0.0005_wd_0.005_bs_50_dt_0.5.pth\n",
      "model loaded\n",
      "testmask is not none. good.\n",
      "A171T\n"
     ]
    },
    {
     "name": "stderr",
     "output_type": "stream",
     "text": [
      "/projects/community/py-data-science-stack/5.1.0/kp807/lib/python3.6/site-packages/ipykernel_launcher.py:50: UserWarning: Implicit dimension choice for softmax has been deprecated. Change the call to include dim=X as an argument.\n"
     ]
    },
    {
     "name": "stdout",
     "output_type": "stream",
     "text": [
      "/projects/f_sdk94_1/PGCN/HCV/trisplit/models/A171T/seq/model_for_test_seed_1_hidden_20_linear_0_lr_0.001_wd_0.0005_bs_100_dt_0.4.pth\n",
      "model loaded\n",
      "testmask is not none. good.\n",
      "D183A\n"
     ]
    },
    {
     "name": "stderr",
     "output_type": "stream",
     "text": [
      "/projects/community/py-data-science-stack/5.1.0/kp807/lib/python3.6/site-packages/ipykernel_launcher.py:50: UserWarning: Implicit dimension choice for softmax has been deprecated. Change the call to include dim=X as an argument.\n"
     ]
    },
    {
     "name": "stdout",
     "output_type": "stream",
     "text": [
      "/projects/f_sdk94_1/PGCN/HCV/trisplit/models/D183A/seq/model_for_test_seed_2_hidden_20_linear_0_lr_0.005_wd_0.0005_bs_500_dt_0.5.pth\n",
      "model loaded\n",
      "testmask is not none. good.\n",
      "Triple\n"
     ]
    },
    {
     "name": "stderr",
     "output_type": "stream",
     "text": [
      "/projects/community/py-data-science-stack/5.1.0/kp807/lib/python3.6/site-packages/ipykernel_launcher.py:50: UserWarning: Implicit dimension choice for softmax has been deprecated. Change the call to include dim=X as an argument.\n"
     ]
    },
    {
     "name": "stdout",
     "output_type": "stream",
     "text": [
      "/projects/f_sdk94_1/PGCN/HCV/trisplit/models/Triple/seq/model_for_test_seed_1_hidden_20_linear_0_lr_0.005_wd_0.0001_bs_50_dt_0.5.pth\n",
      "model loaded\n",
      "testmask is not none. good.\n",
      "Combined\n"
     ]
    },
    {
     "name": "stderr",
     "output_type": "stream",
     "text": [
      "/projects/community/py-data-science-stack/5.1.0/kp807/lib/python3.6/site-packages/ipykernel_launcher.py:50: UserWarning: Implicit dimension choice for softmax has been deprecated. Change the call to include dim=X as an argument.\n"
     ]
    },
    {
     "name": "stdout",
     "output_type": "stream",
     "text": [
      "/projects/f_sdk94_1/PGCN/HCV/trisplit/models/Combined/seq/model_for_test_seed_3_hidden_20_linear_0_lr_0.001_wd_0.0001_bs_100_dt_0.1.pth\n",
      "model loaded\n",
      "testmask is not none. good.\n",
      "WT\n"
     ]
    },
    {
     "name": "stderr",
     "output_type": "stream",
     "text": [
      "/projects/community/py-data-science-stack/5.1.0/kp807/lib/python3.6/site-packages/ipykernel_launcher.py:50: UserWarning: Implicit dimension choice for softmax has been deprecated. Change the call to include dim=X as an argument.\n"
     ]
    },
    {
     "name": "stdout",
     "output_type": "stream",
     "text": [
      "/projects/f_sdk94_1/PGCN/HCV/trisplit/models/WT/seq/model_for_test_seed_1_hidden_20_linear_0_lr_0.0005_wd_0.005_bs_50_dt_0.5.pth\n",
      "model loaded\n",
      "testmask is not none. good.\n",
      "A171T\n"
     ]
    },
    {
     "name": "stderr",
     "output_type": "stream",
     "text": [
      "/projects/community/py-data-science-stack/5.1.0/kp807/lib/python3.6/site-packages/ipykernel_launcher.py:50: UserWarning: Implicit dimension choice for softmax has been deprecated. Change the call to include dim=X as an argument.\n"
     ]
    },
    {
     "name": "stdout",
     "output_type": "stream",
     "text": [
      "/projects/f_sdk94_1/PGCN/HCV/trisplit/models/A171T/seq/model_for_test_seed_1_hidden_20_linear_0_lr_0.001_wd_0.0005_bs_100_dt_0.4.pth\n",
      "model loaded\n",
      "testmask is not none. good.\n",
      "D183A\n"
     ]
    },
    {
     "name": "stderr",
     "output_type": "stream",
     "text": [
      "/projects/community/py-data-science-stack/5.1.0/kp807/lib/python3.6/site-packages/ipykernel_launcher.py:50: UserWarning: Implicit dimension choice for softmax has been deprecated. Change the call to include dim=X as an argument.\n"
     ]
    },
    {
     "name": "stdout",
     "output_type": "stream",
     "text": [
      "/projects/f_sdk94_1/PGCN/HCV/trisplit/models/D183A/seq/model_for_test_seed_2_hidden_20_linear_0_lr_0.005_wd_0.0005_bs_500_dt_0.5.pth\n",
      "model loaded\n",
      "testmask is not none. good.\n",
      "Triple\n"
     ]
    },
    {
     "name": "stderr",
     "output_type": "stream",
     "text": [
      "/projects/community/py-data-science-stack/5.1.0/kp807/lib/python3.6/site-packages/ipykernel_launcher.py:50: UserWarning: Implicit dimension choice for softmax has been deprecated. Change the call to include dim=X as an argument.\n"
     ]
    },
    {
     "name": "stdout",
     "output_type": "stream",
     "text": [
      "/projects/f_sdk94_1/PGCN/HCV/trisplit/models/Triple/seq/model_for_test_seed_1_hidden_20_linear_0_lr_0.005_wd_0.0001_bs_50_dt_0.5.pth\n",
      "model loaded\n",
      "testmask is not none. good.\n",
      "Combined\n"
     ]
    },
    {
     "name": "stderr",
     "output_type": "stream",
     "text": [
      "/projects/community/py-data-science-stack/5.1.0/kp807/lib/python3.6/site-packages/ipykernel_launcher.py:50: UserWarning: Implicit dimension choice for softmax has been deprecated. Change the call to include dim=X as an argument.\n"
     ]
    },
    {
     "name": "stdout",
     "output_type": "stream",
     "text": [
      "/projects/f_sdk94_1/PGCN/HCV/trisplit/models/Combined/seq/model_for_test_seed_3_hidden_20_linear_0_lr_0.001_wd_0.0001_bs_100_dt_0.1.pth\n",
      "model loaded\n",
      "testmask is not none. good.\n"
     ]
    },
    {
     "name": "stderr",
     "output_type": "stream",
     "text": [
      "/projects/community/py-data-science-stack/5.1.0/kp807/lib/python3.6/site-packages/ipykernel_launcher.py:50: UserWarning: Implicit dimension choice for softmax has been deprecated. Change the call to include dim=X as an argument.\n"
     ]
    },
    {
     "data": {
      "text/html": [
       "<div>\n",
       "<style scoped>\n",
       "    .dataframe tbody tr th:only-of-type {\n",
       "        vertical-align: middle;\n",
       "    }\n",
       "\n",
       "    .dataframe tbody tr th {\n",
       "        vertical-align: top;\n",
       "    }\n",
       "\n",
       "    .dataframe thead th {\n",
       "        text-align: right;\n",
       "    }\n",
       "</style>\n",
       "<table border=\"1\" class=\"dataframe\">\n",
       "  <thead>\n",
       "    <tr style=\"text-align: right;\">\n",
       "      <th></th>\n",
       "      <th>Data</th>\n",
       "      <th>Model</th>\n",
       "      <th>Feature</th>\n",
       "      <th>Accuracy</th>\n",
       "      <th>Precision</th>\n",
       "      <th>Recall</th>\n",
       "      <th>F1</th>\n",
       "      <th>AP</th>\n",
       "      <th>AUC</th>\n",
       "    </tr>\n",
       "  </thead>\n",
       "  <tbody>\n",
       "    <tr>\n",
       "      <th>0</th>\n",
       "      <td>WT</td>\n",
       "      <td>WT</td>\n",
       "      <td>seq</td>\n",
       "      <td>0.918367</td>\n",
       "      <td>0.842932</td>\n",
       "      <td>0.842932</td>\n",
       "      <td>0.842932</td>\n",
       "      <td>0.933563</td>\n",
       "      <td>0.9564</td>\n",
       "    </tr>\n",
       "    <tr>\n",
       "      <th>1</th>\n",
       "      <td>WT</td>\n",
       "      <td>A171T</td>\n",
       "      <td>seq</td>\n",
       "      <td>0.843537</td>\n",
       "      <td>0.640741</td>\n",
       "      <td>0.905759</td>\n",
       "      <td>0.750542</td>\n",
       "      <td>0.921857</td>\n",
       "      <td>0.9059</td>\n",
       "    </tr>\n",
       "    <tr>\n",
       "      <th>2</th>\n",
       "      <td>WT</td>\n",
       "      <td>D183A</td>\n",
       "      <td>seq</td>\n",
       "      <td>0.820408</td>\n",
       "      <td>0.598662</td>\n",
       "      <td>0.937173</td>\n",
       "      <td>0.730612</td>\n",
       "      <td>0.921225</td>\n",
       "      <td>0.9247</td>\n",
       "    </tr>\n",
       "    <tr>\n",
       "      <th>3</th>\n",
       "      <td>WT</td>\n",
       "      <td>Triple</td>\n",
       "      <td>seq</td>\n",
       "      <td>0.808163</td>\n",
       "      <td>0.581699</td>\n",
       "      <td>0.931937</td>\n",
       "      <td>0.716298</td>\n",
       "      <td>0.915683</td>\n",
       "      <td>0.8917</td>\n",
       "    </tr>\n",
       "    <tr>\n",
       "      <th>4</th>\n",
       "      <td>WT</td>\n",
       "      <td>Combined</td>\n",
       "      <td>seq</td>\n",
       "      <td>0.926531</td>\n",
       "      <td>0.844221</td>\n",
       "      <td>0.879581</td>\n",
       "      <td>0.861538</td>\n",
       "      <td>0.944726</td>\n",
       "      <td>0.9685</td>\n",
       "    </tr>\n",
       "  </tbody>\n",
       "</table>\n",
       "</div>"
      ],
      "text/plain": [
       "  Data     Model Feature  Accuracy  Precision    Recall        F1        AP  \\\n",
       "0   WT        WT     seq  0.918367   0.842932  0.842932  0.842932  0.933563   \n",
       "1   WT     A171T     seq  0.843537   0.640741  0.905759  0.750542  0.921857   \n",
       "2   WT     D183A     seq  0.820408   0.598662  0.937173  0.730612  0.921225   \n",
       "3   WT    Triple     seq  0.808163   0.581699  0.931937  0.716298  0.915683   \n",
       "4   WT  Combined     seq  0.926531   0.844221  0.879581  0.861538  0.944726   \n",
       "\n",
       "      AUC  \n",
       "0  0.9564  \n",
       "1  0.9059  \n",
       "2  0.9247  \n",
       "3  0.8917  \n",
       "4  0.9685  "
      ]
     },
     "execution_count": 75,
     "metadata": {},
     "output_type": "execute_result"
    }
   ],
   "source": [
    "results_new = []\n",
    "for data in datas:\n",
    "    if data == 'Combined':\n",
    "        name = 'all'\n",
    "    else:\n",
    "        name = data\n",
    "    for i, model in enumerate(modelPaths):\n",
    "        print(datas[i])\n",
    "        acc, p, r, f1, ap, aucScore = crossTest(dataset = 'HCV_' + name + '_binary_10_ang_aa',\n",
    "                                           modelPath = model, modelName = datas[i], feature_type='seq')\n",
    "        feature = 'seq'\n",
    "        results_new.append([data, datas[i], feature, acc.item(), p, r, f1, ap, aucScore])\n",
    "df = pd.DataFrame(results_new, columns = ['Data', 'Model', 'Feature', 'Accuracy', 'Precision', 'Recall', 'F1', 'AP','AUC'])\n",
    "df.head()"
   ]
  },
  {
   "cell_type": "code",
   "execution_count": 76,
   "metadata": {},
   "outputs": [],
   "source": [
    "df.to_csv('CrossTestSummary_seq_trisplit.csv',index=None)"
   ]
  },
  {
   "cell_type": "code",
   "execution_count": 77,
   "metadata": {},
   "outputs": [
    {
     "data": {
      "text/html": [
       "<div>\n",
       "<style scoped>\n",
       "    .dataframe tbody tr th:only-of-type {\n",
       "        vertical-align: middle;\n",
       "    }\n",
       "\n",
       "    .dataframe tbody tr th {\n",
       "        vertical-align: top;\n",
       "    }\n",
       "\n",
       "    .dataframe thead tr th {\n",
       "        text-align: left;\n",
       "    }\n",
       "\n",
       "    .dataframe thead tr:last-of-type th {\n",
       "        text-align: right;\n",
       "    }\n",
       "</style>\n",
       "<table border=\"1\" class=\"dataframe\">\n",
       "  <thead>\n",
       "    <tr>\n",
       "      <th></th>\n",
       "      <th></th>\n",
       "      <th colspan=\"5\" halign=\"left\">Accuracy</th>\n",
       "    </tr>\n",
       "    <tr>\n",
       "      <th></th>\n",
       "      <th>Model</th>\n",
       "      <th>WT</th>\n",
       "      <th>A171T</th>\n",
       "      <th>D183A</th>\n",
       "      <th>Triple</th>\n",
       "      <th>Combined</th>\n",
       "    </tr>\n",
       "    <tr>\n",
       "      <th>Data</th>\n",
       "      <th>Feature</th>\n",
       "      <th></th>\n",
       "      <th></th>\n",
       "      <th></th>\n",
       "      <th></th>\n",
       "      <th></th>\n",
       "    </tr>\n",
       "  </thead>\n",
       "  <tbody>\n",
       "    <tr>\n",
       "      <th>WT</th>\n",
       "      <th>seq</th>\n",
       "      <td>0.918367</td>\n",
       "      <td>0.843537</td>\n",
       "      <td>0.820408</td>\n",
       "      <td>0.808163</td>\n",
       "      <td>0.926531</td>\n",
       "    </tr>\n",
       "    <tr>\n",
       "      <th>A171T</th>\n",
       "      <th>seq</th>\n",
       "      <td>0.880394</td>\n",
       "      <td>0.965178</td>\n",
       "      <td>0.874338</td>\n",
       "      <td>0.946253</td>\n",
       "      <td>0.958365</td>\n",
       "    </tr>\n",
       "    <tr>\n",
       "      <th>D183A</th>\n",
       "      <th>seq</th>\n",
       "      <td>0.806234</td>\n",
       "      <td>0.861837</td>\n",
       "      <td>0.898905</td>\n",
       "      <td>0.862679</td>\n",
       "      <td>0.890480</td>\n",
       "    </tr>\n",
       "    <tr>\n",
       "      <th>Triple</th>\n",
       "      <th>seq</th>\n",
       "      <td>0.738304</td>\n",
       "      <td>0.915205</td>\n",
       "      <td>0.890351</td>\n",
       "      <td>0.937135</td>\n",
       "      <td>0.938596</td>\n",
       "    </tr>\n",
       "    <tr>\n",
       "      <th>Combined</th>\n",
       "      <th>seq</th>\n",
       "      <td>0.843822</td>\n",
       "      <td>0.895541</td>\n",
       "      <td>0.875414</td>\n",
       "      <td>0.890446</td>\n",
       "      <td>0.923567</td>\n",
       "    </tr>\n",
       "  </tbody>\n",
       "</table>\n",
       "</div>"
      ],
      "text/plain": [
       "                  Accuracy                                        \n",
       "Model                   WT     A171T     D183A    Triple  Combined\n",
       "Data     Feature                                                  \n",
       "WT       seq      0.918367  0.843537  0.820408  0.808163  0.926531\n",
       "A171T    seq      0.880394  0.965178  0.874338  0.946253  0.958365\n",
       "D183A    seq      0.806234  0.861837  0.898905  0.862679  0.890480\n",
       "Triple   seq      0.738304  0.915205  0.890351  0.937135  0.938596\n",
       "Combined seq      0.843822  0.895541  0.875414  0.890446  0.923567"
      ]
     },
     "execution_count": 77,
     "metadata": {},
     "output_type": "execute_result"
    }
   ],
   "source": [
    "value = 'Accuracy'\n",
    "pd.pivot_table(df, values=[value], index=['Data', 'Feature'], columns=['Model']).reindex([(x, 'seq') for x in datas])[[(value, x) for x in datas]]"
   ]
  },
  {
   "cell_type": "markdown",
   "metadata": {},
   "source": [
    "# overlap between data"
   ]
  },
  {
   "cell_type": "code",
   "execution_count": 1,
   "metadata": {},
   "outputs": [],
   "source": [
    "import pandas as pd\n",
    "import numpy as np"
   ]
  },
  {
   "cell_type": "code",
   "execution_count": 15,
   "metadata": {},
   "outputs": [],
   "source": [
    "wt = pd.read_csv('HCV.txt', delimiter='\\t')\n",
    "a171t = pd.read_csv('HCV_A171T.txt', delimiter='\\t')\n",
    "d183a = pd.read_csv('HCV_D183A.txt', delimiter='\\t')\n",
    "triple = pd.read_csv('HCV_R170K_A171T_D183A.txt', delimiter='\\t')\n",
    "total = [wt['Sequence'].values.tolist(), a171t['Sequence'].values.tolist(), \n",
    "        d183a['Sequence'].values.tolist(), triple['Sequence'].values.tolist()]"
   ]
  },
  {
   "cell_type": "code",
   "execution_count": 25,
   "metadata": {},
   "outputs": [
    {
     "data": {
      "text/html": [
       "<div>\n",
       "<style scoped>\n",
       "    .dataframe tbody tr th:only-of-type {\n",
       "        vertical-align: middle;\n",
       "    }\n",
       "\n",
       "    .dataframe tbody tr th {\n",
       "        vertical-align: top;\n",
       "    }\n",
       "\n",
       "    .dataframe thead th {\n",
       "        text-align: right;\n",
       "    }\n",
       "</style>\n",
       "<table border=\"1\" class=\"dataframe\">\n",
       "  <thead>\n",
       "    <tr style=\"text-align: right;\">\n",
       "      <th></th>\n",
       "      <th>WT</th>\n",
       "      <th>A171T</th>\n",
       "      <th>D183A</th>\n",
       "      <th>Triple</th>\n",
       "    </tr>\n",
       "  </thead>\n",
       "  <tbody>\n",
       "    <tr>\n",
       "      <th>WT</th>\n",
       "      <td>1.000000</td>\n",
       "      <td>0.207629</td>\n",
       "      <td>0.163215</td>\n",
       "      <td>0.106540</td>\n",
       "    </tr>\n",
       "    <tr>\n",
       "      <th>A171T</th>\n",
       "      <td>0.115385</td>\n",
       "      <td>1.000000</td>\n",
       "      <td>0.269988</td>\n",
       "      <td>0.199425</td>\n",
       "    </tr>\n",
       "    <tr>\n",
       "      <th>D183A</th>\n",
       "      <td>0.100978</td>\n",
       "      <td>0.300573</td>\n",
       "      <td>1.000000</td>\n",
       "      <td>0.175742</td>\n",
       "    </tr>\n",
       "    <tr>\n",
       "      <th>Triple</th>\n",
       "      <td>0.114361</td>\n",
       "      <td>0.385200</td>\n",
       "      <td>0.304914</td>\n",
       "      <td>1.000000</td>\n",
       "    </tr>\n",
       "  </tbody>\n",
       "</table>\n",
       "</div>"
      ],
      "text/plain": [
       "              WT     A171T     D183A    Triple\n",
       "WT      1.000000  0.207629  0.163215  0.106540\n",
       "A171T   0.115385  1.000000  0.269988  0.199425\n",
       "D183A   0.100978  0.300573  1.000000  0.175742\n",
       "Triple  0.114361  0.385200  0.304914  1.000000"
      ]
     },
     "execution_count": 25,
     "metadata": {},
     "output_type": "execute_result"
    }
   ],
   "source": [
    "overlaps = []\n",
    "for i, data1 in enumerate(total):\n",
    "    overlaps.append([])\n",
    "    for data2 in total:\n",
    "        overlaps[i].append(len(set(data1) & set(data2)) / len(set(data1)))\n",
    "df = pd.DataFrame(overlaps, columns=['WT','A171T','D183A','Triple'], index=['WT','A171T','D183A','Triple'])\n",
    "df"
   ]
  },
  {
   "cell_type": "code",
   "execution_count": 34,
   "metadata": {},
   "outputs": [
    {
     "data": {
      "text/plain": [
       "<AxesSubplot:>"
      ]
     },
     "execution_count": 34,
     "metadata": {},
     "output_type": "execute_result"
    },
    {
     "data": {
      "image/png": "[encoded data removed]",
      "text/plain": [
       "<Figure size 432x288 with 2 Axes>"
      ]
     },
     "metadata": {
      "needs_background": "light"
     },
     "output_type": "display_data"
    }
   ],
   "source": [
    "import seaborn as sns\n",
    "sns.heatmap(df, annot=True, cmap='Blues', annot_kws={\"fontsize\":16}, fmt='.2f')"
   ]
  },
  {
   "cell_type": "code",
   "execution_count": 35,
   "metadata": {},
   "outputs": [],
   "source": [
    "crossTest = pd.read_csv('~/Downloads/CrossTestSummary_complete_trisplit.csv')"
   ]
  },
  {
   "cell_type": "code",
   "execution_count": 41,
   "metadata": {},
   "outputs": [],
   "source": [
    "pivot = pd.pivot_table(crossTest, values='Accuracy', aggfunc='mean', index='Model', columns='Data')\n",
    "pivot = pivot.loc[['WT','A171T','D183A','Triple'], ['WT','A171T','D183A','Triple']]"
   ]
  },
  {
   "cell_type": "code",
   "execution_count": 42,
   "metadata": {},
   "outputs": [
    {
     "data": {
      "text/plain": [
       "<AxesSubplot:xlabel='Data', ylabel='Model'>"
      ]
     },
     "execution_count": 42,
     "metadata": {},
     "output_type": "execute_result"
    },
    {
     "data": {
      "image/png": "[encoded data removed]",
      "text/plain": [
       "<Figure size 432x288 with 2 Axes>"
      ]
     },
     "metadata": {
      "needs_background": "light"
     },
     "output_type": "display_data"
    }
   ],
   "source": [
    "sns.heatmap(pivot, annot=True, cmap='Blues', annot_kws={\"fontsize\":16}, fmt='.2f')"
   ]
  },
  {
   "cell_type": "code",
   "execution_count": null,
   "metadata": {},
   "outputs": [],
   "source": []
  }
 ],
 "metadata": {
  "kernelspec": {
   "display_name": "Python 3",
   "language": "python",
   "name": "python3"
  },
  "language_info": {
   "codemirror_mode": {
    "name": "ipython",
    "version": 3
   },
   "file_extension": ".py",
   "mimetype": "text/x-python",
   "name": "python",
   "nbconvert_exporter": "python",
   "pygments_lexer": "ipython3",
   "version": "3.8.5"
  }
 },
 "nbformat": 4,
 "nbformat_minor": 4
}
