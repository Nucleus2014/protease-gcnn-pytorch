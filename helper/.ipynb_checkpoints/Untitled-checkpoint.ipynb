{
 "cells": [
  {
   "cell_type": "code",
   "execution_count": 2,
   "metadata": {},
   "outputs": [],
   "source": [
    "import argparse"
   ]
  },
  {
   "cell_type": "code",
   "execution_count": 3,
   "metadata": {},
   "outputs": [],
   "source": [
    "def parse_args():\n",
    "    parser = argparse.ArgumentParser()\n",
    "    parser.add_argument('-s', '--score_folder_path', type=str,\n",
    "                        default='/projects/f_sdk94_1/PGCN/protease-gcnn-pytorch/graph/crystal_structures/2yol_class_generated_structures',\n",
    "                        help='Directory of generated structures.')\n",
    "    parser.add_argument('-class', '--classification_file', type=str,\n",
    "                        default='/projects/f_sdk94_1/PGCN/protease-gcnn-pytorch/graph/classifications/3cProt_class/2yol-ER-summarized_label.txt',\n",
    "                        help='Directory of generated structures.')\n",
    "    return parser.parse_args()"
   ]
  },
  {
   "cell_type": "code",
   "execution_count": null,
   "metadata": {},
   "outputs": [],
   "source": [
    "def main(args):\n",
    "    score_path = Path(args.score_folder_path)\n",
    "    class_file = Path(args.classification_file)\n",
    "    "
   ]
  },
  {
   "cell_type": "code",
   "execution_count": 36,
   "metadata": {},
   "outputs": [],
   "source": [
    "from pathlib import Path\n",
    "import pandas as pd\n",
    "import numpy as np\n",
    "import json\n",
    "from collections import defaultdict"
   ]
  },
  {
   "cell_type": "code",
   "execution_count": 5,
   "metadata": {},
   "outputs": [],
   "source": [
    "score_path = Path('./')\n",
    "class_file = Path('2yol-ER-summarized_label.txt')"
   ]
  },
  {
   "cell_type": "code",
   "execution_count": 9,
   "metadata": {},
   "outputs": [],
   "source": [
    "df_class = pd.read_csv(class_file, delimiter='\\t')"
   ]
  },
  {
   "cell_type": "code",
   "execution_count": 59,
   "metadata": {},
   "outputs": [],
   "source": [
    "# edit based on Vidur's code\n",
    "new_sequences = []\n",
    "for seq in ['RAAVGRG']: #df_class['Sequence']\n",
    "    fasc = score_path / (seq + '.fasc')\n",
    "    with open(fasc, 'r') as fp:\n",
    "        for i, line in enumerate(fp):\n",
    "            js = json.loads(line)\n",
    "            if i == 0:\n",
    "                dic_scores = defaultdict(list, { k:[v] for k,v in js.items()})\n",
    "            else:\n",
    "                for k in js.keys():\n",
    "                    dic_scores[k].append(js[k])\n",
    "    df = pd.DataFrame(dic_scores)\n",
    "    pdb = df.loc[df['total_score'].idxmin(),['filename']].values[0].split('/')[-1]\n",
    "    new_sequences.append(seq)\n",
    "df = pd.DataFrame({'Sequence': new_sequences, 'Result': ['CLEAVED']}) #df_class['Result']\n",
    "df.to_csv(class_file.parent / (class_file.stem.split('.')[0] + '_singlePDB.txt'), sep='\\t', index=None)"
   ]
  },
  {
   "cell_type": "code",
   "execution_count": null,
   "metadata": {},
   "outputs": [],
   "source": []
  }
 ],
 "metadata": {
  "kernelspec": {
   "display_name": "Python 3",
   "language": "python",
   "name": "python3"
  },
  "language_info": {
   "codemirror_mode": {
    "name": "ipython",
    "version": 3
   },
   "file_extension": ".py",
   "mimetype": "text/x-python",
   "name": "python",
   "nbconvert_exporter": "python",
   "pygments_lexer": "ipython3",
   "version": "3.7.1"
  }
 },
 "nbformat": 4,
 "nbformat_minor": 4
}
