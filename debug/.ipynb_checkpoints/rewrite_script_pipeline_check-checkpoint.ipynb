{
 "cells": [
  {
   "cell_type": "markdown",
   "metadata": {},
   "source": [
    "# Graph Generation Rewrite"
   ]
  },
  {
   "cell_type": "code",
   "execution_count": 1,
   "metadata": {},
   "outputs": [
    {
     "name": "stdout",
     "output_type": "stream",
     "text": [
      "PyRosetta-4 2019 [Rosetta PyRosetta4.conda.mac.python37.Release 2019.30+release.0da57b43256586e78d19865fc7cdcf9ccfb99d66 2019-07-21T15:08:17] retrieved from: http://www.pyrosetta.org\n",
      "(C) Copyright Rosetta Commons Member Institutions. Created in JHU by Sergey Lyskov and PyRosetta Team.\n",
      "\u001b[0mcore.init: \u001b[0mChecking for fconfig files in pwd and ./rosetta/flags\n",
      "\u001b[0mcore.init: \u001b[0mRosetta version: PyRosetta4.conda.mac.python37.Release r228 2019.30+release.0da57b43256 0da57b43256586e78d19865fc7cdcf9ccfb99d66 http://www.pyrosetta.org 2019-07-21T15:08:17\n",
      "\u001b[0mcore.init: \u001b[0mcommand: PyRosetta -ex1 -ex2aro -database /Users/cplu/anaconda3/envs/pyrosetta4/lib/python3.7/site-packages/pyrosetta/database\n",
      "\u001b[0mcore.init: \u001b[0m'RNG device' seed mode, using '/dev/urandom', seed=-253734353 seed_offset=0 real_seed=-253734353\n",
      "\u001b[0mcore.init.random: \u001b[0mRandomGenerator:init: Normal mode, seed=-253734353 RG_type=mt19937\n"
     ]
    }
   ],
   "source": [
    "import os\n",
    "import pickle as pkl\n",
    "import pyrosetta as pr\n",
    "from pyrosetta import *\n",
    "from pyrosetta.rosetta.core.scoring import *\n",
    "from pyrosetta.rosetta.core.pose import get_chain_from_chain_id, center_of_mass\n",
    "from pyrosetta.rosetta.core.select.residue_selector import ChainSelector, \\\n",
    "ResidueIndexSelector, NeighborhoodResidueSelector\n",
    "from pyrosetta.rosetta.core.select import get_residues_from_subset\n",
    "import logging\n",
    "import pandas as pd\n",
    "import numpy as np\n",
    "pr.init()\n"
   ]
  },
  {
   "cell_type": "code",
   "execution_count": 2,
   "metadata": {},
   "outputs": [
    {
     "name": "stdout",
     "output_type": "stream",
     "text": [
      "\u001b[0mcore.scoring.ScoreFunctionFactory: \u001b[0mSCOREFUNCTION: \u001b[32mref2015\u001b[0m\n",
      "\u001b[0mcore.scoring.etable: \u001b[0mStarting energy table calculation\n",
      "\u001b[0mcore.scoring.etable: \u001b[0msmooth_etable: changing atr/rep split to bottom of energy well\n",
      "\u001b[0mcore.scoring.etable: \u001b[0msmooth_etable: spline smoothing lj etables (maxdis = 6)\n",
      "\u001b[0mcore.scoring.etable: \u001b[0msmooth_etable: spline smoothing solvation etables (max_dis = 6)\n",
      "\u001b[0mcore.scoring.etable: \u001b[0mFinished calculating energy tables.\n",
      "\u001b[0mbasic.io.database: \u001b[0mDatabase file opened: scoring/score_functions/hbonds/ref2015_params/HBPoly1D.csv\n",
      "\u001b[0mbasic.io.database: \u001b[0mDatabase file opened: scoring/score_functions/hbonds/ref2015_params/HBFadeIntervals.csv\n",
      "\u001b[0mbasic.io.database: \u001b[0mDatabase file opened: scoring/score_functions/hbonds/ref2015_params/HBEval.csv\n",
      "\u001b[0mbasic.io.database: \u001b[0mDatabase file opened: scoring/score_functions/hbonds/ref2015_params/DonStrength.csv\n",
      "\u001b[0mbasic.io.database: \u001b[0mDatabase file opened: scoring/score_functions/hbonds/ref2015_params/AccStrength.csv\n",
      "\u001b[0mcore.chemical.GlobalResidueTypeSet: \u001b[0mFinished initializing fa_standard residue type set.  Created 980 residue types\n",
      "\u001b[0mcore.chemical.GlobalResidueTypeSet: \u001b[0mTotal time to initialize 1.34548 seconds.\n",
      "\u001b[0mbasic.io.database: \u001b[0mDatabase file opened: scoring/score_functions/rama/fd/all.ramaProb\n",
      "\u001b[0mbasic.io.database: \u001b[0mDatabase file opened: scoring/score_functions/rama/fd/prepro.ramaProb\n",
      "\u001b[0mbasic.io.database: \u001b[0mDatabase file opened: scoring/score_functions/omega/omega_ppdep.all.txt\n",
      "\u001b[0mbasic.io.database: \u001b[0mDatabase file opened: scoring/score_functions/omega/omega_ppdep.gly.txt\n",
      "\u001b[0mbasic.io.database: \u001b[0mDatabase file opened: scoring/score_functions/omega/omega_ppdep.pro.txt\n",
      "\u001b[0mbasic.io.database: \u001b[0mDatabase file opened: scoring/score_functions/omega/omega_ppdep.valile.txt\n",
      "\u001b[0mbasic.io.database: \u001b[0mDatabase file opened: scoring/score_functions/P_AA_pp/P_AA\n",
      "\u001b[0mbasic.io.database: \u001b[0mDatabase file opened: scoring/score_functions/P_AA_pp/P_AA_n\n",
      "\u001b[0mcore.scoring.P_AA: \u001b[0mshapovalov_lib::shap_p_aa_pp_smooth_level of 1( aka low_smooth ) got activated.\n",
      "\u001b[0mbasic.io.database: \u001b[0mDatabase file opened: scoring/score_functions/P_AA_pp/shapovalov/10deg/kappa131/a20.prop\n"
     ]
    }
   ],
   "source": [
    "#preset\n",
    "sfxn = get_fa_scorefxn()\n",
    "classifier_path = \"classifications/\"\n",
    "data_path = \"../data\" \n",
    "pdb_path = \"crystal_structures\"\n"
   ]
  },
  {
   "cell_type": "code",
   "execution_count": null,
   "metadata": {},
   "outputs": [],
   "source": [
    "def parse_args():\n",
    "    parser.add_argument(\"-o\", \"--output\", help=\"Output name\")\n",
    "    parser.add_argument(\"-pr_path\", \"--protease_path\", default = \"\", help=\"Path to silent pose directory for protease\")\n",
    "    parser.add_argument(\"-class\", \"--classification_file\", default = \"\", help=\"Name of txt for sequences to use, must be in folder\")\n",
    "    parser.add_argument(\"-index_p1\", \"--index_p1\", default = 7, help=\"Index of p1 in the pdb, starting from 1.\")\n",
    "    parser.add_argument(\"-prot\", \"--protease\", default=\"HCV.pdb\", help=\"Protease pdb name.\")\n",
    "    parser.add_argument(\"-d\",\"--select_distance\",default=10, help=\"Distance for NeighborSelector\")\n",
    "    return parser.parse_args()\n",
    "    # parser.add_argument(\"-si\", \"--size_interface\", help=\"|Interface|\", type = int)\n",
    "    # parser.add_argument(\"-is\", \"--interface_selector\", help=\"Way Interface Is Selected, either k_nearest or residue_wise currently\")\n",
    "    # parser.add_argument(\"-unsafe\", \"--unsafe\", help=\"Overwrite datasets\", action='store_true')\n",
    "    # parser.add_argument(\"-params\", \"--params\", default = \"\", help= \"parameters dict for the graphs\")"
   ]
  },
  {
   "cell_type": "code",
   "execution_count": null,
   "metadata": {},
   "outputs": [],
   "source": [
    "class_file = args.class\n",
    "output = args.output\n",
    "pr_path = args.protease_path\n",
    "index_p1 = args.index_p1\n",
    "protease = args.protease\n"
   ]
  },
  {
   "cell_type": "code",
   "execution_count": 5,
   "metadata": {},
   "outputs": [],
   "source": [
    "def get_logger(logpath, filepath, package_files=[], displaying=True, saving=True, debug=False):\n",
    "    logger = logging.getLogger()\n",
    "    if debug:\n",
    "        level = logging.DEBUG\n",
    "    else:\n",
    "        level = logging.INFO\n",
    "    logger.setLevel(level)\n",
    "    if saving:\n",
    "        info_file_handler = logging.FileHandler(logpath, mode=\"a\")\n",
    "        info_file_handler.setLevel(level)\n",
    "        logger.addHandler(info_file_handler)\n",
    "    if displaying:\n",
    "        console_handler = logging.StreamHandler()\n",
    "        console_handler.setLevel(level)\n",
    "        logger.addHandler(console_handler)\n",
    "    logger.info(filepath)\n",
    "    with open(filepath, \"r\") as f:\n",
    "        logger.info(f.read())\n",
    "\n",
    "    for f in package_files:\n",
    "        logger.info(f)\n",
    "        with open(f, \"r\") as package_f:\n",
    "            logger.info(package_f.read())\n",
    "\n",
    "    return logger"
   ]
  },
  {
   "cell_type": "code",
   "execution_count": null,
   "metadata": {},
   "outputs": [],
   "source": [
    "logger = get_logger(logpath=os.path.join(data_path, 'logs'), filepath=os.path.abspath(__file__))"
   ]
  },
  {
   "cell_type": "code",
   "execution_count": null,
   "metadata": {},
   "outputs": [],
   "source": [
    "logger.info(params)"
   ]
  },
  {
   "cell_type": "code",
   "execution_count": 10,
   "metadata": {},
   "outputs": [],
   "source": [
    "class_file = \"sample.txt\""
   ]
  },
  {
   "cell_type": "code",
   "execution_count": 13,
   "metadata": {},
   "outputs": [],
   "source": [
    "# Read in labels and sequences\n",
    "try:\n",
    "    df = pd.read_csv(os.path.join(classifier_path, class_file), sep = \"\\t\")\n",
    "    labels = list(df[\"Result\"])\n",
    "    sequences = list(df[\"Sequence\"])\n",
    "except:\n",
    "    raise ValueError(\"Path either invalid to classsifications or not properly formatted. \\\n",
    "Please check template experimental_binary_classifications.txt\")"
   ]
  },
  {
   "cell_type": "code",
   "execution_count": 14,
   "metadata": {},
   "outputs": [
    {
     "data": {
      "text/html": [
       "<div>\n",
       "<style scoped>\n",
       "    .dataframe tbody tr th:only-of-type {\n",
       "        vertical-align: middle;\n",
       "    }\n",
       "\n",
       "    .dataframe tbody tr th {\n",
       "        vertical-align: top;\n",
       "    }\n",
       "\n",
       "    .dataframe thead th {\n",
       "        text-align: right;\n",
       "    }\n",
       "</style>\n",
       "<table border=\"1\" class=\"dataframe\">\n",
       "  <thead>\n",
       "    <tr style=\"text-align: right;\">\n",
       "      <th></th>\n",
       "      <th>Sequence</th>\n",
       "      <th>Result</th>\n",
       "    </tr>\n",
       "  </thead>\n",
       "  <tbody>\n",
       "    <tr>\n",
       "      <th>0</th>\n",
       "      <td>AYYYEPC.ASHL</td>\n",
       "      <td>CLEAVED</td>\n",
       "    </tr>\n",
       "  </tbody>\n",
       "</table>\n",
       "</div>"
      ],
      "text/plain": [
       "       Sequence   Result\n",
       "0  AYYYEPC.ASHL  CLEAVED"
      ]
     },
     "execution_count": 14,
     "metadata": {},
     "output_type": "execute_result"
    }
   ],
   "source": [
    "df"
   ]
  },
  {
   "cell_type": "code",
   "execution_count": 3,
   "metadata": {},
   "outputs": [],
   "source": [
    "def get_silent_file(sequence, path_to_silent_files):\n",
    "    \"\"\"This just returns an absolute path to the silent file (windows specific possibly) false if not found\"\"\"\n",
    "    silent_file = None\n",
    "    for silent in os.listdir(path_to_silent_files):\n",
    "        correct = True\n",
    "        for counter, char in enumerate(silent):\n",
    "            if char != sequence[counter] and char != \"_\":\n",
    "                correct = False\n",
    "                break\n",
    "        if correct:\n",
    "            silent_file = silent\n",
    "            break\n",
    "    if silent_file == None:\n",
    "        print(\"Silent dir for {} not found in {}!\".format(sequence, path_to_silent_files))\n",
    "        return False\n",
    "    silent_dir = os.path.join(path_to_silent_files, silent_file)\n",
    "    silent_file_path = os.path.join(silent_dir, silent_file)\n",
    "    \n",
    "    if os.path.exists(silent_file_path):\n",
    "        return silent_file_path\n",
    "    else:\n",
    "        print(\"Silent file for {} not found {}!\".format(sequence, silent_file_path))\n",
    "        return False"
   ]
  },
  {
   "cell_type": "code",
   "execution_count": 28,
   "metadata": {},
   "outputs": [],
   "source": [
    "silent = get_silent_file(\"AYAKEPC.ASHL\",\"silent\")"
   ]
  },
  {
   "cell_type": "code",
   "execution_count": 29,
   "metadata": {},
   "outputs": [
    {
     "data": {
      "text/plain": [
       "'silent/AYAK__C.ASHL/AYAK__C.ASHL'"
      ]
     },
     "execution_count": 29,
     "metadata": {},
     "output_type": "execute_result"
    }
   ],
   "source": [
    "silent"
   ]
  },
  {
   "cell_type": "code",
   "execution_count": 5,
   "metadata": {},
   "outputs": [],
   "source": [
    "def makedirs(dirname):\n",
    "    if not os.path.exists(dirname):\n",
    "        os.makedirs(dirname)"
   ]
  },
  {
   "cell_type": "code",
   "execution_count": 4,
   "metadata": {},
   "outputs": [],
   "source": [
    "def generate_dummy_silent(sequence, path_to_silent_files):\n",
    "    silent_file = get_silent_file(sequence, path_to_silent_files)\n",
    "    if not silent_file:\n",
    "            return \"Error: No Silent\"\n",
    "    with open(silent_file) as f:\n",
    "        lineList = f.readlines()\n",
    "    tag_ending = \"substrate.{}\".format(sequence)\n",
    "    found, done = (False, False)\n",
    "    ind, start, end, last_score = (0,0,0,0)\n",
    "    while ind < len(lineList) and not done:\n",
    "        x = lineList[ind]\n",
    "        if \"SCORE\" in x:\n",
    "            last_score = ind\n",
    "        if not found and \"ANNOTATED_SEQUENCE: \" in x and tag_ending in x:\n",
    "            start = last_score\n",
    "            found = True\n",
    "        elif found and \"ANNOTATED_SEQUENCE: \" in x:\n",
    "            end = last_score\n",
    "            done = True\n",
    "        ind += 1\n",
    "    if not found:\n",
    "        print(\"The requested sequence {} was not found in the silent file {} (Parsing Error)\".format(sequence, silent_file))\n",
    "        raise ValueError(\"The requested sequence {} was not found in the silent file {} (Parsing Error)\".format(sequence, silent_file))\n",
    "    if not done:\n",
    "        end = len(lineList)\n",
    "    \n",
    "    filename = sequence + str(np.random.randint(10000, 100000))\n",
    "    path_bin = os.path.join(os.getcwd(), \"bin\")\n",
    "    makedirs(path_bin)\n",
    "    filename = os.path.join(path_bin, filename)\n",
    "    with open(filename, \"w\") as f:\n",
    "        # add header\n",
    "        for i in range(3):\n",
    "            f.write(lineList[i])\n",
    "        # add binary information\n",
    "        for i in range(start, end):\n",
    "            f.write(lineList[i])\n",
    "    return filename"
   ]
  },
  {
   "cell_type": "code",
   "execution_count": 6,
   "metadata": {},
   "outputs": [],
   "source": [
    "filename = generate_dummy_silent(\"AYYYEPC.ASHL\",\"silent\")"
   ]
  },
  {
   "cell_type": "code",
   "execution_count": 8,
   "metadata": {},
   "outputs": [
    {
     "data": {
      "text/plain": [
       "'/Users/cplu/Downloads/Documents/RESEARCH/GCNN/protease-gcnn-pytorch/graph/bin/AYYYEPC.ASHL58135'"
      ]
     },
     "execution_count": 8,
     "metadata": {},
     "output_type": "execute_result"
    }
   ],
   "source": [
    "filename"
   ]
  },
  {
   "cell_type": "code",
   "execution_count": 7,
   "metadata": {},
   "outputs": [
    {
     "name": "stdout",
     "output_type": "stream",
     "text": [
      "\u001b[0mcore.io.silent.SilentFileData: \u001b[0mReading all structures from /Users/cplu/Downloads/Documents/RESEARCH/GCNN/protease-gcnn-pytorch/graph/bin/AYYYEPC.ASHL58135\n",
      "\u001b[0mcore.io.silent.SilentFileData: \u001b[0mFinished reading 1 structures from /Users/cplu/Downloads/Documents/RESEARCH/GCNN/protease-gcnn-pytorch/graph/bin/AYYYEPC.ASHL58135\n"
     ]
    }
   ],
   "source": [
    "for pose in poses_from_silent(filename):\n",
    "    ret = pose"
   ]
  },
  {
   "cell_type": "code",
   "execution_count": 43,
   "metadata": {},
   "outputs": [
    {
     "data": {
      "text/plain": [
       "<pyrosetta.rosetta.core.pose.Pose at 0x145af4ce0>"
      ]
     },
     "execution_count": 43,
     "metadata": {},
     "output_type": "execute_result"
    }
   ],
   "source": [
    "ret"
   ]
  },
  {
   "cell_type": "code",
   "execution_count": 9,
   "metadata": {},
   "outputs": [],
   "source": [
    "def get_pose_from_pdb(sequence, path):\n",
    "    for pdb in os.listdir(path):\n",
    "        if pdb == sequence:\n",
    "            ret = pose_from_pdb(os.path.join(path, pdb))\n",
    "    return ret"
   ]
  },
  {
   "cell_type": "code",
   "execution_count": 10,
   "metadata": {},
   "outputs": [],
   "source": [
    "def get_pose(sequence, path, is_silent = True):\n",
    "    if is_silent == True:\n",
    "        try:\n",
    "            filename = generate_dummy_silent(sequence, path)\n",
    "            for pose in poses_from_silent(filename):\n",
    "                ret = pose\n",
    "            os.remove(filename)\n",
    "            return ret\n",
    "        except:\n",
    "            return \"Error: Invalid Silent\"        \n",
    "    else:\n",
    "        ret = get_pose_from_pdb(sequence) # need to modify"
   ]
  },
  {
   "cell_type": "code",
   "execution_count": 11,
   "metadata": {},
   "outputs": [
    {
     "name": "stdout",
     "output_type": "stream",
     "text": [
      "\u001b[0mcore.io.silent.SilentFileData: \u001b[0mReading all structures from /Users/cplu/Downloads/Documents/RESEARCH/GCNN/protease-gcnn-pytorch/graph/bin/AYYYEPC.ASHL75824\n",
      "\u001b[0mcore.io.silent.SilentFileData: \u001b[0mFinished reading 1 structures from /Users/cplu/Downloads/Documents/RESEARCH/GCNN/protease-gcnn-pytorch/graph/bin/AYYYEPC.ASHL75824\n"
     ]
    }
   ],
   "source": [
    "pose = get_pose(\"AYYYEPC.ASHL\",\"silent\")"
   ]
  },
  {
   "cell_type": "code",
   "execution_count": 63,
   "metadata": {},
   "outputs": [
    {
     "data": {
      "text/plain": [
       "True"
      ]
     },
     "execution_count": 63,
     "metadata": {},
     "output_type": "execute_result"
    }
   ],
   "source": [
    "pose.dump_pdb(\"AYYYEPC.ASHL.pdb\")"
   ]
  },
  {
   "cell_type": "code",
   "execution_count": 12,
   "metadata": {},
   "outputs": [],
   "source": [
    "def index_substrate(pose):\n",
    "    \"\"\"Takes a pose and returns the indices of the substrate.\"\"\"\n",
    "    # get substrate with built in selector\n",
    "    num_chains = pose.num_chains()\n",
    "    chain_name = get_chain_from_chain_id(num_chains, pose)\n",
    "    sub_sel = ChainSelector(chain_name)\n",
    "    v1 = sub_sel.apply(pose)\n",
    "    substrate_indices = []\n",
    "    for count,ele in enumerate(v1):\n",
    "        if ele:\n",
    "            substrate_indices.append(count + 1)\n",
    "    return substrate_indices"
   ]
  },
  {
   "cell_type": "code",
   "execution_count": 13,
   "metadata": {},
   "outputs": [],
   "source": [
    "substrate_ind = index_substrate(pose)"
   ]
  },
  {
   "cell_type": "code",
   "execution_count": 14,
   "metadata": {},
   "outputs": [
    {
     "data": {
      "text/plain": [
       "[197, 198, 199, 200, 201, 202, 203, 204, 205, 206, 207]"
      ]
     },
     "execution_count": 14,
     "metadata": {},
     "output_type": "execute_result"
    }
   ],
   "source": [
    "substrate_ind"
   ]
  },
  {
   "cell_type": "code",
   "execution_count": 15,
   "metadata": {},
   "outputs": [
    {
     "data": {
      "text/plain": [
       "7"
      ]
     },
     "execution_count": 15,
     "metadata": {},
     "output_type": "execute_result"
    }
   ],
   "source": [
    "index_p1 = \"AYYYEPC.ASHL\".index(\".\")\n",
    "index_p1"
   ]
  },
  {
   "cell_type": "code",
   "execution_count": 16,
   "metadata": {},
   "outputs": [],
   "source": [
    "def index_substrate_cut_site(pose, index_p1 = 7, upstream_buffer = 6, downstream_buffer = -1, protease = None):\n",
    "    \"\"\"This function takes the ROSETTA INDEX of the P1 residue for a substrate within its chain, a pose, and\n",
    "    the number of upstream and downstream residues to model, and returns the indices of the substrate. If the\n",
    "    buffer actually goes OOB of the substrate, a None type for that ind is instead returned for 0 pad modelling\"\"\"\n",
    "    ind_sub = index_substrate(pose)\n",
    "    ind_active = []\n",
    "    for i in range(-upstream_buffer, downstream_buffer):\n",
    "        index_interest = i + index_p1\n",
    "        if index_interest < 0 or index_interest >= len(ind_sub):\n",
    "            ind_active.append(None)\n",
    "        else:\n",
    "            ind_active.append(ind_sub[index_interest])\n",
    "    return ind_active"
   ]
  },
  {
   "cell_type": "code",
   "execution_count": 17,
   "metadata": {},
   "outputs": [
    {
     "data": {
      "text/plain": [
       "[198, 199, 200, 201, 202]"
      ]
     },
     "execution_count": 17,
     "metadata": {},
     "output_type": "execute_result"
    }
   ],
   "source": [
    "#try\n",
    "cutsite_ind = index_substrate_cut_site(pose)\n",
    "cutsite_ind"
   ]
  },
  {
   "cell_type": "code",
   "execution_count": 18,
   "metadata": {},
   "outputs": [],
   "source": [
    "def selector_to_list(pose, selector):\n",
    "    \"\"\"\n",
    "    Produces a list of residues from a pose identified by a given selector\n",
    "    \"\"\"\n",
    "\n",
    "    return list(get_residues_from_subset(selector.apply(pose)))"
   ]
  },
  {
   "cell_type": "code",
   "execution_count": 19,
   "metadata": {},
   "outputs": [],
   "source": [
    "def index_interface(pose,\n",
    "                    active_site,\n",
    "                    substrate_indices,\n",
    "                    d=10):\n",
    "    \"\"\"This function takes a pose and a number of interface/substrate to consider and returns interface indices. The\n",
    "    value k and pose are not used...\"\"\"\n",
    "    \n",
    "    # Selection for neighbor residues\n",
    "    focus_res = ','.join([str(j) for j in substrate_indices])\n",
    "    focus_selector = ResidueIndexSelector(focus_res)\n",
    "\n",
    "    interface = NeighborhoodResidueSelector()\n",
    "    interface.set_focus_selector(focus_selector)\n",
    "    interface.set_distance(d)\n",
    "    interface.set_include_focus_in_subset(False)\n",
    "    interface_indices = selector_to_list(pose, interface)\n",
    "    interface_indices.sort()\n",
    "            \n",
    "    return interface_indices"
   ]
  },
  {
   "cell_type": "code",
   "execution_count": 79,
   "metadata": {},
   "outputs": [],
   "source": [
    "# try\n",
    "index_p1 = 7"
   ]
  },
  {
   "cell_type": "code",
   "execution_count": 91,
   "metadata": {},
   "outputs": [
    {
     "name": "stdout",
     "output_type": "stream",
     "text": [
      "\u001b[0mbasic.io.database: \u001b[0mDatabase file opened: scoring/score_functions/elec_cp_reps.dat\n",
      "\u001b[0mcore.scoring.elec.util: \u001b[0mRead 40 countpair representative atoms\n",
      "\u001b[0mcore.pack.dunbrack.RotamerLibrary: \u001b[0mshapovalov_lib_fixes_enable option is true.\n",
      "\u001b[0mcore.pack.dunbrack.RotamerLibrary: \u001b[0mshapovalov_lib::shap_dun10_smooth_level of 1( aka lowest_smooth ) got activated.\n",
      "\u001b[0mcore.pack.dunbrack.RotamerLibrary: \u001b[0mBinary rotamer library selected: /Users/cplu/anaconda3/envs/pyrosetta4/lib/python3.7/site-packages/pyrosetta/database/rotamer/shapovalov/StpDwn_0-0-0/Dunbrack10.lib.bin\n",
      "\u001b[0mcore.pack.dunbrack.RotamerLibrary: \u001b[0mUsing Dunbrack library binary file '/Users/cplu/anaconda3/envs/pyrosetta4/lib/python3.7/site-packages/pyrosetta/database/rotamer/shapovalov/StpDwn_0-0-0/Dunbrack10.lib.bin'.\n",
      "\u001b[0mcore.pack.dunbrack.RotamerLibrary: \u001b[0mDunbrack 2010 library took 0.302067 seconds to load from binary\n"
     ]
    },
    {
     "data": {
      "text/plain": [
       "-483.2861533494107"
      ]
     },
     "execution_count": 91,
     "metadata": {},
     "output_type": "execute_result"
    }
   ],
   "source": [
    "sfxn.score(pose)"
   ]
  },
  {
   "cell_type": "code",
   "execution_count": 20,
   "metadata": {},
   "outputs": [
    {
     "name": "stdout",
     "output_type": "stream",
     "text": [
      "\u001b[0mcore.import_pose.import_pose: \u001b[0mFile 'crystal_structures/HCV.pdb' automatically determined to be of type PDB\n",
      "\u001b[0mbasic.io.database: \u001b[0mDatabase file opened: scoring/score_functions/elec_cp_reps.dat\n",
      "\u001b[0mcore.scoring.elec.util: \u001b[0mRead 40 countpair representative atoms\n",
      "\u001b[0mcore.pack.dunbrack.RotamerLibrary: \u001b[0mshapovalov_lib_fixes_enable option is true.\n",
      "\u001b[0mcore.pack.dunbrack.RotamerLibrary: \u001b[0mshapovalov_lib::shap_dun10_smooth_level of 1( aka lowest_smooth ) got activated.\n",
      "\u001b[0mcore.pack.dunbrack.RotamerLibrary: \u001b[0mBinary rotamer library selected: /Users/cplu/anaconda3/envs/pyrosetta4/lib/python3.7/site-packages/pyrosetta/database/rotamer/shapovalov/StpDwn_0-0-0/Dunbrack10.lib.bin\n",
      "\u001b[0mcore.pack.dunbrack.RotamerLibrary: \u001b[0mUsing Dunbrack library binary file '/Users/cplu/anaconda3/envs/pyrosetta4/lib/python3.7/site-packages/pyrosetta/database/rotamer/shapovalov/StpDwn_0-0-0/Dunbrack10.lib.bin'.\n",
      "\u001b[0mcore.pack.dunbrack.RotamerLibrary: \u001b[0mDunbrack 2010 library took 0.321671 seconds to load from binary\n"
     ]
    }
   ],
   "source": [
    "hcv_pose = pose_from_pdb(os.path.join(pdb_path, \"HCV.pdb\"))\n",
    "sfxn.score(hcv_pose)\n",
    "interface_ind = index_interface(hcv_pose, cutsite_ind, substrate_ind, 10)"
   ]
  },
  {
   "cell_type": "code",
   "execution_count": 103,
   "metadata": {},
   "outputs": [
    {
     "data": {
      "text/plain": [
       "44"
      ]
     },
     "execution_count": 103,
     "metadata": {},
     "output_type": "execute_result"
    }
   ],
   "source": [
    "len(interface_ind)"
   ]
  },
  {
   "cell_type": "code",
   "execution_count": 23,
   "metadata": {},
   "outputs": [],
   "source": [
    "def get_ind_from_protease(protease_name, pdb_path, index_p1, dis, sfxn):\n",
    "    # load default pose as original\n",
    "    pose = pose_from_pdb(os.path.join(pdb_path, protease_name))\n",
    "    sfxn.score(pose)\n",
    "    substrate_ind = index_substrate(pose) #the whole substrate\n",
    "    cutsite_ind = index_substrate_cut_site(pose, index_p1) #p2-p6 on the substrate\n",
    "    interface_ind = index_interface(pose, cutsite_ind, substrate_ind, dis)\n",
    "    return cutsite_ind, interface_ind"
   ]
  },
  {
   "cell_type": "code",
   "execution_count": 24,
   "metadata": {},
   "outputs": [
    {
     "name": "stdout",
     "output_type": "stream",
     "text": [
      "\u001b[0mcore.import_pose.import_pose: \u001b[0mFile 'crystal_structures/HCV.pdb' automatically determined to be of type PDB\n"
     ]
    }
   ],
   "source": [
    "#try\n",
    "cutsite_ind, interface_ind = get_ind_from_protease(\"HCV.pdb\", pdb_path, index_p1, 10, sfxn)\n"
   ]
  },
  {
   "cell_type": "code",
   "execution_count": 130,
   "metadata": {},
   "outputs": [
    {
     "data": {
      "text/plain": [
       "'198,199,200,201,202'"
      ]
     },
     "execution_count": 130,
     "metadata": {},
     "output_type": "execute_result"
    }
   ],
   "source": [
    "','.join([str(u) for u in cutsite_ind])"
   ]
  },
  {
   "cell_type": "code",
   "execution_count": 109,
   "metadata": {},
   "outputs": [
    {
     "data": {
      "text/plain": [
       "'GSVVIVGRIILSGRGGPITAYAQQTRGLLGCIITSLTGRDKNQVEGEVQIVSTAAQTFLATCINGVCWTVYHGAGTRTIASPKGPVIQMYTNVDQDLVGWPASQGTRSLTPCTCGSSDLYLVTRHADVIPVRRRGDSRGSLLSPRPISYLKGSSGGPLLCPAGHAVGIFRAAVCTRGVAKAVDFIPVENLETTMRSAYYYEPCASHL'"
      ]
     },
     "execution_count": 109,
     "metadata": {},
     "output_type": "execute_result"
    }
   ],
   "source": [
    "pose.sequence()"
   ]
  },
  {
   "cell_type": "code",
   "execution_count": 108,
   "metadata": {},
   "outputs": [
    {
     "name": "stdout",
     "output_type": "stream",
     "text": [
      "      22.51380220451573      -23.18137728952420       40.13473036273557\n"
     ]
    }
   ],
   "source": [
    "print(center_of_mass(pose, 1, len(pose.sequence())))"
   ]
  },
  {
   "cell_type": "code",
   "execution_count": 116,
   "metadata": {},
   "outputs": [],
   "source": [
    "class protein_graph:\n",
    "    \"\"\"This class is going to hold a graphical representation of a protein. It can be generated from two sources:\n",
    "    a pose object, or the file path of a pdb. Since we are attempting to model a substrate/protein complex,\n",
    "    the substrate and interface indices are ROSETTA(starting at 1) based indexes. When specified, these indices are\n",
    "    the indices that are used as nodes. When not supplied, all indices are used. It is assumed that:\n",
    "    \n",
    "    The substrate's indices are the last in the pdb/pose\n",
    "    When supplied interface and substrate are non-zero length\n",
    "    The intersection of substrate and interface indices is empty\n",
    "    Only canonical amino acids are not supported\n",
    "\n",
    "    Possible Values:\n",
    "    energy_terms = [fa_intra_sol_xover4, fa_intra_rep, rama_prepro, omega, p_aa_pp, fa_dun, ref]\n",
    "    energy_edge_terms = [pro_close, fa_atr, fa_rep, fa_sol, fa_elec, lk_ball_wtd]\"\"\"\n",
    "    \n",
    "    def __init__ (self, substrate_indices = None,\n",
    "                  interface_indices = None,\n",
    "                  pdb_file_path = None,\n",
    "                  pose = None,\n",
    "                  params = dict(),\n",
    "                  sfxn = None):\n",
    "\n",
    "        # assure user provided a source\n",
    "        if pdb_file_path == None and pose == None:\n",
    "            raise PathNotDeclaredError(\"No pose or pdb path provided\")\n",
    "        \n",
    "        # make pose from pdb\n",
    "        if pdb_file_path != None:\n",
    "            try:\n",
    "                cleanATOM(pdb_file_path)##### Need to fix this #####\n",
    "                pose = pose_from_pdb(pdb_file_path)\n",
    "            except:\n",
    "                raise PathNotDeclaredError(\"Failed to generate pose, file path invalid or other issue\")\n",
    "        \n",
    "        # if substrate or interface indices are given we will make vertice_arr specially tailored\n",
    "        ls = substrate_indices + interface_indices\n",
    "        vertice_arr = np.array(ls)\n",
    "        interface_indices = np.array(interface_indices)\n",
    "        substrate_indices = np.array(substrate_indices)\n",
    "        \n",
    "        # Get All Node Features\n",
    "        if params[\"amino_acids\"]: num_amino = 20\n",
    "        else: num_amino = 0\n",
    "        num_dim_sine = params[\"sinusoidal_encoding\"]\n",
    "        energy_terms = len(params[\"energy_terms\"])\n",
    "        if params[\"coordinates\"]: num_coord = 3\n",
    "        else: num_coord = 0\n",
    "        \n",
    "        # Make and Apply Score Function\n",
    "        if sfxn == None: sfxn = get_fa_scorefxn()\n",
    "        sfxn(pose)\n",
    "        energies = pose.energies()\n",
    "        \n",
    "        # Determine N (number of residues)\n",
    "        N = len(vertice_arr)\n",
    "        \n",
    "        # Determine F (number of node features)\n",
    "        F = sum([num_amino, num_dim_sine, energy_terms, num_coord])\n",
    "        if params[\"substrate_boolean\"]: F += 1\n",
    "        \n",
    "        # Initialize V (Feature Tensor NxF)\n",
    "        self.V = np.zeros(shape = (N, F))\n",
    "        \n",
    "        # Determine M (number of edge features)\n",
    "        M = 0\n",
    "#         if params[\"distance\"]: M += 1\n",
    "        M += len(params[\"energy_edge_terms\"])\n",
    "        if params[\"interface_edge\"]: M += 1\n",
    "        if params[\"covalent_edge\"]: M += 1\n",
    "        if params[\"hbond\"]: M += 1\n",
    "        # initialize A (Multiple Adj. Mat. NxNxM)\n",
    "        self.A = np.zeros(shape = (N, N, M))\n",
    "        counter_F = 0\n",
    "        counter_M = 0\n",
    "\n",
    "        # One Hot Vectors for Amino Acid Type\n",
    "        if params[\"amino_acids\"]:\n",
    "            all_amino_acids = \"ACDEFGHIKLMNPQRSTVWY\"\n",
    "            seq = pose.sequence()        \n",
    "            # use the native ordering to generate features\n",
    "            for i in range(len(vertice_arr)):\n",
    "                i_ind = vertice_arr[i]\n",
    "                if i_ind != None:\n",
    "                    res = seq[i_ind - 1]\n",
    "                    j = all_amino_acids.find(res)\n",
    "                    self.V[i][j] = 1\n",
    "            counter_F += 20\n",
    "        \n",
    "        # Sinusoidal Positional Encoding\n",
    "        if num_dim_sine != 0:\n",
    "            if not substrate_indices.any() and not interface_indices.any():\n",
    "                n_position = N\n",
    "                position_enc = np.array([\n",
    "                    [pos / np.power(10000, 2*i/num_dim_sine) for i in range(num_dim_sine)]\n",
    "                    if pos != 0 else np.zeros(num_dim_sine) for pos in range(n_position)])\n",
    "                position_enc[1:, 0::2] = np.sin(position_enc[1:, 0::2]) # dim 2i\n",
    "                position_enc[1:, 1::2] = np.cos(position_enc[1:, 1::2]) # dim 2i+1\n",
    "                self.V[0:n_position,counter_F:(counter_F + num_dim_sine)] = position_enc\n",
    "            elif substrate_indices.any() and interface_indices.any():\n",
    "                # add substrates\n",
    "                n_position = len(substrate_indices)\n",
    "                position_enc = np.array([\n",
    "                    [pos / np.power(10000, 2*i/num_dim_sine) for i in range(num_dim_sine)]\n",
    "                    if pos != 0 else np.zeros(num_dim_sine) for pos in range(n_position)])\n",
    "                position_enc[1:, 0::2] = np.sin(position_enc[1:, 0::2]) # dim 2i\n",
    "                position_enc[1:, 1::2] = np.cos(position_enc[1:, 1::2]) # dim 2i+1\n",
    "                \n",
    "                for i in range(len(substrate_indices)):\n",
    "                    if substrate_indices[i] != None:\n",
    "                        self.V[i, counter_F:(counter_F + num_dim_sine)] = position_enc[i, :]\n",
    "                # add interface\n",
    "                n_position = len(pose.sequence()) - len(substrate_indices)\n",
    "                position_enc = np.array([\n",
    "                    [pos / np.power(10000, 2*i/num_dim_sine) for i in range(num_dim_sine)]\n",
    "                    if pos != 0 else np.zeros(num_dim_sine) for pos in range(n_position)])\n",
    "                position_enc[1:, 0::2] = np.sin(position_enc[1:, 0::2]) # dim 2i\n",
    "                position_enc[1:, 1::2] = np.cos(position_enc[1:, 1::2]) # dim 2i+1\n",
    "                for i in range(N - len(substrate_indices)):\n",
    "                    if interface_indices[i] != None:\n",
    "                        self.V[(len(substrate_indices) + i), counter_F:(counter_F + num_dim_sine)] = position_enc[i, :]\n",
    "            else:\n",
    "                # add substrates\n",
    "                n_position = len(substrate_indices)\n",
    "                position_enc = np.array([\n",
    "                    [pos / np.power(10000, 2*i/num_dim_sine) for i in range(num_dim_sine)]\n",
    "                    if pos != 0 else np.zeros(num_dim_sine) for pos in (substrate_indices - substrate_indices[0])])\n",
    "                position_enc[1:, 0::2] = np.sin(position_enc[1:, 0::2]) # dim 2i\n",
    "                position_enc[1:, 1::2] = np.cos(position_enc[1:, 1::2]) # dim 2i+1\n",
    "                self.V[0:n_position,counter_F:(counter_F + num_dim_sine)] = position_enc\n",
    "            counter_F += num_dim_sine\n",
    "\n",
    "        # Single Body Energy Terms\n",
    "        for counter, term in enumerate(params[\"energy_terms\"], counter_F):\n",
    "            for i in range(N):\n",
    "                if vertice_arr[i] != None:\n",
    "                    self.V[i, counter] = energies.residue_total_energies(vertice_arr[i])[term]\n",
    "        counter_F += energy_terms\n",
    "\n",
    "        if params[\"coordinates\"]:\n",
    "            for i in range(len(vertice_arr)):\n",
    "                if vertice_arr[i] != None:\n",
    "                    C_alpha_coord = to_numpy(pose.residue(vertice_arr[i]).xyz(\"CA\"))\n",
    "                    self.V[i, counter_F : (counter_F + 3)] = C_alpha_coord\n",
    "            counter_F += 3\n",
    "            print(self.V[i, counter_F : (counter_F + 3)])\n",
    "        # New node feature\n",
    "        \"\"\"\n",
    "        if params[\"new feature\"]:\n",
    "            self.V[:, counter_F] = whatever\n",
    "            counter_F += 1\n",
    "        \"\"\"\n",
    "        \n",
    "        # Substrate boolean\n",
    "        if params[\"substrate_boolean\"]:\n",
    "            self.V[0:len(substrate_indices),counter_F] = np.array([1 for x in range(len(substrate_indices))])\n",
    "\n",
    "        # Total Two Body Energy and Energy Terms\n",
    "        if len(params[\"energy_edge_terms\"]) != 0:\n",
    "            for i in range(len(vertice_arr)):\n",
    "                for j in range(i, len(vertice_arr)):\n",
    "                    if vertice_arr[i] != None and vertice_arr[j] != None:\n",
    "                        if i != j:\n",
    "                            rsd1 = pose.residue(vertice_arr[i])\n",
    "                            rsd2 = pose.residue(vertice_arr[j])\n",
    "                            emap = EMapVector()\n",
    "                            sfxn.eval_ci_2b(rsd1, rsd2, pose, emap)\n",
    "                            for counter, term in enumerate(params[\"energy_edge_terms\"]):\n",
    "                                self.A[i, j, counter_M + counter] = emap[term]\n",
    "                                self.A[j, i, counter_M + counter] = emap[term]\n",
    "            counter_M += len(params[\"energy_edge_terms\"])\n",
    "\n",
    "        # Hydrogen Bonding Energies\n",
    "        if params[\"hbond\"]:\n",
    "            hbs=pose.get_hbonds()\n",
    "            res_dict = dict()\n",
    "            for res in vertice_arr:\n",
    "                hbl = hbs.residue_hbonds(res)\n",
    "                for hb in hbl:\n",
    "                    residues = (hb.don_res(), hb.acc_res())\n",
    "                    if residues[0] > residues[1]: residues = (hb.acc_res(), hb.don_res())\n",
    "                    if residues[0] in vertice_arr and residues[1] in vertice_arr: res_dict[residues] = hb.energy()\n",
    "            for residues in res_dict:\n",
    "                for i in np.where(vertice_arr==residues[0])[0]:\n",
    "                    for j in np.where(vertice_arr==residues[1])[0]:\n",
    "                        self.A[i,j,counter_M] += self.A[i,j,counter_M] + res_dict[residues]\n",
    "                        self.A[j,i,counter_M] += self.A[j,i,counter_M] + res_dict[residues]\n",
    "            counter_M += 1\n",
    "\n",
    "        # Protease - Substrate Interactions Boolean\n",
    "        if params[\"interface_edge\"]:\n",
    "            self.A[0:len(substrate_indices), len(substrate_indices):len(vertice_arr), counter_M] = 1\n",
    "            self.A[len(substrate_indices):len(vertice_arr), 0:len(substrate_indices), counter_M] = 1\n",
    "            counter_M += 1\n",
    "\n",
    "        # Covalent Bond Connection Boolean\n",
    "        if params[\"covalent_edge\"]:\n",
    "            for i in range(len(vertice_arr) - 1):\n",
    "                if vertice_arr[i + 1] - vertice_arr[i] == 1:\n",
    "                    self.A[i, i + 1, counter_M] = 1\n",
    "                    self.A[i + 1, i, counter_M] = 1\n",
    "            counter_M += 1\n",
    "        print(vertice_arr)"
   ]
  },
  {
   "cell_type": "code",
   "execution_count": 122,
   "metadata": {},
   "outputs": [],
   "source": [
    "# Goes from a sequence to a graph representation.\n",
    "def generate_graph(seq, pr_path, substrate_ind, interface_ind, params, sfxn):\n",
    "    pose = get_pose(seq, pr_path)\n",
    "    if type(pose) == type(\"string\"):\n",
    "        return pose\n",
    "    g = protein_graph(pose = pose,\n",
    "                       substrate_indices = cutsite_ind,\n",
    "                       interface_indices = interface_ind,\n",
    "                       sfxn = sfxn,\n",
    "                       params = params)\n",
    "    return g"
   ]
  },
  {
   "cell_type": "code",
   "execution_count": 124,
   "metadata": {},
   "outputs": [
    {
     "name": "stdout",
     "output_type": "stream",
     "text": [
      "\u001b[0mcore.io.silent.SilentFileData: \u001b[0mReading all structures from /Users/cplu/Downloads/Documents/RESEARCH/GCNN/protease-gcnn-pytorch/graph/bin/AYYYEPC.ASHL54063\n",
      "\u001b[0mcore.io.silent.SilentFileData: \u001b[0mFinished reading 1 structures from /Users/cplu/Downloads/Documents/RESEARCH/GCNN/protease-gcnn-pytorch/graph/bin/AYYYEPC.ASHL54063\n",
      "[198 199 200 201 202  51  52  53  55  56  57  58  59  69  70  71  72  73\n",
      "  74  75  96 123 124 138 147 148 149 150 151 152 153 154 155 156 169 170\n",
      " 171 172 173 174 175 176 177 178 179 180 181 182 183]\n"
     ]
    }
   ],
   "source": [
    "gg =generate_graph(\"AYYYEPC.ASHL\",\"silent\",substrate_ind,interface_ind,params,sfxn)"
   ]
  },
  {
   "cell_type": "code",
   "execution_count": 117,
   "metadata": {},
   "outputs": [],
   "source": [
    "params = {\"amino_acids\":True,\n",
    "                \"sinusoidal_encoding\":2,\n",
    "#                 \"cosine_similarity\":False,\n",
    "                \"coordinates\": False,\n",
    "                \"substrate_boolean\":True,\n",
    "                \"energy_terms\":[fa_intra_sol_xover4, fa_intra_rep, rama_prepro, omega, p_aa_pp, fa_dun, ref],\n",
    "                \"energy_edge_terms\":[fa_atr, fa_rep, fa_sol, fa_elec, lk_ball_wtd],\n",
    "                \"hbond\": True,\n",
    "                \"interface_edge\": True,\n",
    "                \"covalent_edge\": True,\n",
    "#                 \"distance\":True,\n",
    "#                 \"energy\":True\n",
    "         }"
   ]
  },
  {
   "cell_type": "code",
   "execution_count": 118,
   "metadata": {},
   "outputs": [
    {
     "name": "stdout",
     "output_type": "stream",
     "text": [
      "[198 199 200 201 202  51  52  53  55  56  57  58  59  69  70  71  72  73\n",
      "  74  75  96 123 124 138 147 148 149 150 151 152 153 154 155 156 169 170\n",
      " 171 172 173 174 175 176 177 178 179 180 181 182 183]\n"
     ]
    }
   ],
   "source": [
    "g = protein_graph(pose = pose,\n",
    "                       substrate_indices = cutsite_ind,\n",
    "                       interface_indices = interface_ind,\n",
    "                       sfxn = sfxn,\n",
    "                       params = params)"
   ]
  },
  {
   "cell_type": "code",
   "execution_count": 126,
   "metadata": {},
   "outputs": [
    {
     "data": {
      "text/plain": [
       "array([ 0.        ,  0.        ,  0.        ,  0.        ,  0.        ,\n",
       "        0.        ,  0.        ,  0.        ,  0.        ,  0.        ,\n",
       "        0.        ,  0.        ,  0.        ,  0.        ,  0.        ,\n",
       "        0.        ,  0.        ,  0.        ,  0.        ,  1.        ,\n",
       "        0.        ,  0.        ,  0.24161177,  4.16952966, -0.49597924,\n",
       "        0.02561926,  0.09068901,  3.8212185 ,  0.58223   ,  1.        ])"
      ]
     },
     "execution_count": 126,
     "metadata": {},
     "output_type": "execute_result"
    }
   ],
   "source": [
    "gg.V[0]"
   ]
  },
  {
   "cell_type": "code",
   "execution_count": 32,
   "metadata": {},
   "outputs": [
    {
     "data": {
      "text/plain": [
       "((49, 30), (49, 49, 10))"
      ]
     },
     "execution_count": 32,
     "metadata": {},
     "output_type": "execute_result"
    }
   ],
   "source": [
    "g.V.shape, g.A.shape"
   ]
  },
  {
   "cell_type": "code",
   "execution_count": 41,
   "metadata": {},
   "outputs": [],
   "source": [
    "columns = [\"aa1\",\"aa2\",\"aa3\",\"aa4\",\"aa5\",\"aa6\",\"aa7\",\"aa8\",\"aa9\",\"aa10\",\n",
    "          \"aa11\",\"aa12\",\"aa13\",\"aa14\",\"aa15\",\"aa16\",\"aa17\",\"aa18\",\"aa19\",\"aa20\",\n",
    "          \"sin1\",\"sin2\",\"fa_intra_sol_xover4\", \"fa_intra_rep\", \"rama_prepro\", \n",
    "           \"omega\", \"p_aa_pp\", \"fa_dun\", \"ref\",\"is_substrate\"]"
   ]
  },
  {
   "cell_type": "code",
   "execution_count": 42,
   "metadata": {},
   "outputs": [],
   "source": [
    "df = pd.DataFrame(g.V, columns = columns)"
   ]
  },
  {
   "cell_type": "code",
   "execution_count": 49,
   "metadata": {},
   "outputs": [
    {
     "data": {
      "text/plain": [
       "1.0"
      ]
     },
     "execution_count": 49,
     "metadata": {},
     "output_type": "execute_result"
    }
   ],
   "source": [
    "df.iloc[0,19]"
   ]
  },
  {
   "cell_type": "code",
   "execution_count": 51,
   "metadata": {},
   "outputs": [
    {
     "data": {
      "text/html": [
       "<div>\n",
       "<style scoped>\n",
       "    .dataframe tbody tr th:only-of-type {\n",
       "        vertical-align: middle;\n",
       "    }\n",
       "\n",
       "    .dataframe tbody tr th {\n",
       "        vertical-align: top;\n",
       "    }\n",
       "\n",
       "    .dataframe thead th {\n",
       "        text-align: right;\n",
       "    }\n",
       "</style>\n",
       "<table border=\"1\" class=\"dataframe\">\n",
       "  <thead>\n",
       "    <tr style=\"text-align: right;\">\n",
       "      <th></th>\n",
       "      <th>aa1</th>\n",
       "      <th>aa2</th>\n",
       "      <th>aa3</th>\n",
       "      <th>aa4</th>\n",
       "      <th>aa5</th>\n",
       "      <th>aa6</th>\n",
       "      <th>aa7</th>\n",
       "      <th>aa8</th>\n",
       "      <th>aa9</th>\n",
       "      <th>aa10</th>\n",
       "      <th>...</th>\n",
       "      <th>sin1</th>\n",
       "      <th>sin2</th>\n",
       "      <th>fa_intra_sol_xover4</th>\n",
       "      <th>fa_intra_rep</th>\n",
       "      <th>rama_prepro</th>\n",
       "      <th>omega</th>\n",
       "      <th>p_aa_pp</th>\n",
       "      <th>fa_dun</th>\n",
       "      <th>ref</th>\n",
       "      <th>is_substrate</th>\n",
       "    </tr>\n",
       "  </thead>\n",
       "  <tbody>\n",
       "    <tr>\n",
       "      <th>0</th>\n",
       "      <td>0.0</td>\n",
       "      <td>0.0</td>\n",
       "      <td>0.0</td>\n",
       "      <td>0.0</td>\n",
       "      <td>0.0</td>\n",
       "      <td>0.0</td>\n",
       "      <td>0.0</td>\n",
       "      <td>0.0</td>\n",
       "      <td>0.0</td>\n",
       "      <td>0.0</td>\n",
       "      <td>...</td>\n",
       "      <td>0.000000</td>\n",
       "      <td>0.0</td>\n",
       "      <td>0.241612</td>\n",
       "      <td>4.169530</td>\n",
       "      <td>-0.495979</td>\n",
       "      <td>0.025619</td>\n",
       "      <td>0.090689</td>\n",
       "      <td>3.821219</td>\n",
       "      <td>0.58223</td>\n",
       "      <td>1.0</td>\n",
       "    </tr>\n",
       "    <tr>\n",
       "      <th>1</th>\n",
       "      <td>0.0</td>\n",
       "      <td>0.0</td>\n",
       "      <td>0.0</td>\n",
       "      <td>0.0</td>\n",
       "      <td>0.0</td>\n",
       "      <td>0.0</td>\n",
       "      <td>0.0</td>\n",
       "      <td>0.0</td>\n",
       "      <td>0.0</td>\n",
       "      <td>0.0</td>\n",
       "      <td>...</td>\n",
       "      <td>0.841471</td>\n",
       "      <td>1.0</td>\n",
       "      <td>0.268187</td>\n",
       "      <td>4.235788</td>\n",
       "      <td>0.959456</td>\n",
       "      <td>1.152130</td>\n",
       "      <td>-0.566650</td>\n",
       "      <td>2.408025</td>\n",
       "      <td>0.58223</td>\n",
       "      <td>1.0</td>\n",
       "    </tr>\n",
       "    <tr>\n",
       "      <th>2</th>\n",
       "      <td>0.0</td>\n",
       "      <td>0.0</td>\n",
       "      <td>0.0</td>\n",
       "      <td>0.0</td>\n",
       "      <td>0.0</td>\n",
       "      <td>0.0</td>\n",
       "      <td>0.0</td>\n",
       "      <td>0.0</td>\n",
       "      <td>0.0</td>\n",
       "      <td>0.0</td>\n",
       "      <td>...</td>\n",
       "      <td>0.909297</td>\n",
       "      <td>1.0</td>\n",
       "      <td>0.286675</td>\n",
       "      <td>4.379675</td>\n",
       "      <td>1.205627</td>\n",
       "      <td>-0.092665</td>\n",
       "      <td>0.053928</td>\n",
       "      <td>4.067401</td>\n",
       "      <td>0.58223</td>\n",
       "      <td>1.0</td>\n",
       "    </tr>\n",
       "    <tr>\n",
       "      <th>3</th>\n",
       "      <td>0.0</td>\n",
       "      <td>0.0</td>\n",
       "      <td>0.0</td>\n",
       "      <td>1.0</td>\n",
       "      <td>0.0</td>\n",
       "      <td>0.0</td>\n",
       "      <td>0.0</td>\n",
       "      <td>0.0</td>\n",
       "      <td>0.0</td>\n",
       "      <td>0.0</td>\n",
       "      <td>...</td>\n",
       "      <td>0.141120</td>\n",
       "      <td>1.0</td>\n",
       "      <td>0.297897</td>\n",
       "      <td>1.398956</td>\n",
       "      <td>1.115776</td>\n",
       "      <td>-0.055925</td>\n",
       "      <td>0.326248</td>\n",
       "      <td>4.119510</td>\n",
       "      <td>-2.72453</td>\n",
       "      <td>1.0</td>\n",
       "    </tr>\n",
       "    <tr>\n",
       "      <th>4</th>\n",
       "      <td>0.0</td>\n",
       "      <td>0.0</td>\n",
       "      <td>0.0</td>\n",
       "      <td>0.0</td>\n",
       "      <td>0.0</td>\n",
       "      <td>0.0</td>\n",
       "      <td>0.0</td>\n",
       "      <td>0.0</td>\n",
       "      <td>0.0</td>\n",
       "      <td>0.0</td>\n",
       "      <td>...</td>\n",
       "      <td>-0.756802</td>\n",
       "      <td>1.0</td>\n",
       "      <td>0.116397</td>\n",
       "      <td>0.797717</td>\n",
       "      <td>0.684848</td>\n",
       "      <td>1.322425</td>\n",
       "      <td>-1.481414</td>\n",
       "      <td>0.895828</td>\n",
       "      <td>-1.64321</td>\n",
       "      <td>1.0</td>\n",
       "    </tr>\n",
       "  </tbody>\n",
       "</table>\n",
       "<p>5 rows × 30 columns</p>\n",
       "</div>"
      ],
      "text/plain": [
       "   aa1  aa2  aa3  aa4  aa5  aa6  aa7  aa8  aa9  aa10  ...      sin1  sin2  \\\n",
       "0  0.0  0.0  0.0  0.0  0.0  0.0  0.0  0.0  0.0   0.0  ...  0.000000   0.0   \n",
       "1  0.0  0.0  0.0  0.0  0.0  0.0  0.0  0.0  0.0   0.0  ...  0.841471   1.0   \n",
       "2  0.0  0.0  0.0  0.0  0.0  0.0  0.0  0.0  0.0   0.0  ...  0.909297   1.0   \n",
       "3  0.0  0.0  0.0  1.0  0.0  0.0  0.0  0.0  0.0   0.0  ...  0.141120   1.0   \n",
       "4  0.0  0.0  0.0  0.0  0.0  0.0  0.0  0.0  0.0   0.0  ... -0.756802   1.0   \n",
       "\n",
       "   fa_intra_sol_xover4  fa_intra_rep  rama_prepro     omega   p_aa_pp  \\\n",
       "0             0.241612      4.169530    -0.495979  0.025619  0.090689   \n",
       "1             0.268187      4.235788     0.959456  1.152130 -0.566650   \n",
       "2             0.286675      4.379675     1.205627 -0.092665  0.053928   \n",
       "3             0.297897      1.398956     1.115776 -0.055925  0.326248   \n",
       "4             0.116397      0.797717     0.684848  1.322425 -1.481414   \n",
       "\n",
       "     fa_dun      ref  is_substrate  \n",
       "0  3.821219  0.58223           1.0  \n",
       "1  2.408025  0.58223           1.0  \n",
       "2  4.067401  0.58223           1.0  \n",
       "3  4.119510 -2.72453           1.0  \n",
       "4  0.895828 -1.64321           1.0  \n",
       "\n",
       "[5 rows x 30 columns]"
      ]
     },
     "execution_count": 51,
     "metadata": {},
     "output_type": "execute_result"
    }
   ],
   "source": [
    "df.head()"
   ]
  },
  {
   "cell_type": "code",
   "execution_count": 119,
   "metadata": {},
   "outputs": [],
   "source": [
    "columns=[\"fa_atr\", \"fa_rep\", \"fa_sol\", \"fa_elec\", \"lk_ball_wtd\", \"hbond\",\n",
    "        \"link_interface_substrate\",\"is_covalent\"]\n",
    "df_edge = pd.DataFrame(g.A[1], columns = columns)"
   ]
  },
  {
   "cell_type": "code",
   "execution_count": 80,
   "metadata": {},
   "outputs": [
    {
     "data": {
      "text/plain": [
       "(array([   0.,    0.,    0.,    0.,    0.,    0.,    0.,    0.,    0.,\n",
       "           0.,    0.,    0.,    0.,    0.,    0.,    0.,    0.,    0.,\n",
       "           0.,    0., 2401.,    0.,    0.,    0.,    0.,    0.,    0.,\n",
       "           0.,    0.,    0.,    0.,    0.,    0.,    0.,    0.,    0.,\n",
       "           0.,    0.,    0.,    0.]),\n",
       " array([-0.5  , -0.475, -0.45 , -0.425, -0.4  , -0.375, -0.35 , -0.325,\n",
       "        -0.3  , -0.275, -0.25 , -0.225, -0.2  , -0.175, -0.15 , -0.125,\n",
       "        -0.1  , -0.075, -0.05 , -0.025,  0.   ,  0.025,  0.05 ,  0.075,\n",
       "         0.1  ,  0.125,  0.15 ,  0.175,  0.2  ,  0.225,  0.25 ,  0.275,\n",
       "         0.3  ,  0.325,  0.35 ,  0.375,  0.4  ,  0.425,  0.45 ,  0.475,\n",
       "         0.5  ]),\n",
       " <a list of 40 Patch objects>)"
      ]
     },
     "execution_count": 80,
     "metadata": {},
     "output_type": "execute_result"
    },
    {
     "data": {
      "image/png": "[encoded data removed]",
      "text/plain": [
       "<Figure size 432x288 with 1 Axes>"
      ]
     },
     "metadata": {
      "needs_background": "light"
     },
     "output_type": "display_data"
    }
   ],
   "source": [
    "import matplotlib.pyplot as plt\n",
    "plt.hist(g.A[:,:,5].flatten(),bins=40)"
   ]
  },
  {
   "cell_type": "code",
   "execution_count": null,
   "metadata": {},
   "outputs": [],
   "source": [
    "#pro_close, hbond_sc = 0?"
   ]
  },
  {
   "cell_type": "code",
   "execution_count": 68,
   "metadata": {},
   "outputs": [
    {
     "data": {
      "text/plain": [
       "66"
      ]
     },
     "execution_count": 68,
     "metadata": {},
     "output_type": "execute_result"
    }
   ],
   "source": [
    "sum(g.A[:,:,7].flatten()!=0)"
   ]
  },
  {
   "cell_type": "code",
   "execution_count": 69,
   "metadata": {},
   "outputs": [
    {
     "data": {
      "text/plain": [
       "(array([ 1,  3,  3,  5,  6,  7,  7,  7,  8,  9,  9,  9, 10, 11, 12, 12, 13,\n",
       "        13, 14, 14, 14, 15, 15, 16, 16, 17, 17, 18, 19, 20, 20, 20, 22, 22,\n",
       "        22, 23, 24, 24, 27, 28, 28, 29, 30, 30, 30, 31, 32, 33, 33, 34, 34,\n",
       "        35, 35, 36, 37, 38, 38, 39, 40, 42, 43, 45, 46, 48, 48, 48]),\n",
       " array([39, 28, 37, 11,  7,  6,  8,  9,  7,  7, 16, 17, 22,  5, 13, 31, 12,\n",
       "        14, 13, 17, 18, 19, 20,  9, 20,  9, 14, 14, 15, 15, 16, 35, 10, 29,\n",
       "        30, 48, 28, 42, 30,  3, 24, 22, 22, 27, 33, 12, 34, 30, 34, 32, 33,\n",
       "        20, 48, 48,  3, 45, 46,  1, 43, 24, 40, 38, 38, 23, 35, 36]))"
      ]
     },
     "execution_count": 69,
     "metadata": {},
     "output_type": "execute_result"
    }
   ],
   "source": [
    "np.where(g.A[:,:,7]!=0)"
   ]
  },
  {
   "cell_type": "code",
   "execution_count": 81,
   "metadata": {},
   "outputs": [],
   "source": [
    "hbs=pose.get_hbonds()\n"
   ]
  },
  {
   "cell_type": "code",
   "execution_count": 95,
   "metadata": {},
   "outputs": [],
   "source": [
    "vertice_arr = \"198 199 200 201 202  51  52  53  55  56  57  58  59  69  70  71  72  73  74  75  96 123 124 138 147 148 149 150 151 152 153 154 155 156 169 170 171 172 173 174 175 176 177 178 179 180 181 182 183\".split(\" \")\n",
    "while '' in vertice_arr:\n",
    "    vertice_arr.pop(vertice_arr.index(''))\n",
    "vertice_arr = [int(x) for x in vertice_arr]\n"
   ]
  },
  {
   "cell_type": "code",
   "execution_count": 110,
   "metadata": {},
   "outputs": [
    {
     "name": "stdout",
     "output_type": "stream",
     "text": [
      "9 don: protein backbone 174 7 acc: protein backbone 199 4 -1.38681 1\n",
      "\n",
      "174 199\n"
     ]
    }
   ],
   "source": [
    "for hb in hbs.residue_hbonds(199):\n",
    "    print(hb)\n",
    "    print(hb.don_res(),hb.acc_res())"
   ]
  },
  {
   "cell_type": "code",
   "execution_count": null,
   "metadata": {},
   "outputs": [],
   "source": [
    "def main(args):\n",
    "    #preset\n",
    "    pr.init()\n",
    "    sfxn = get_fa_scorefxn()\n",
    "    classifier_path = \"classifications/\"\n",
    "    data_path = \"../data\" \n",
    "    pdb_path = \"crystal_structures\"\n",
    "    \n",
    "    class_file = args.class #list of samples\n",
    "    output = args.output \n",
    "    pr_path = args.protease_path\n",
    "    index_p1 = args.index_p1\n",
    "    protease = args.protease\n",
    "    dis = args.select_sequence\n",
    "    \n",
    "    logger = get_logger(logpath=os.path.join(data_path, 'logs'), filepath=os.path.abspath(__file__))\n",
    "    \n",
    "    params = {\"amino_acids\":True,\n",
    "                \"sinusoidal_encoding\":2,\n",
    "                \"coordinates\": False,\n",
    "                \"substrate_boolean\":True,\n",
    "                \"energy_terms\":[fa_intra_sol_xover4, fa_intra_rep, rama_prepro, omega, p_aa_pp, fa_dun, ref],\n",
    "                \"energy_edge_terms\":[fa_atr, fa_rep, fa_sol, fa_elec, lk_ball_wtd],\n",
    "                \"hbond\": True,\n",
    "                \"interface_edge\": True,\n",
    "                \"covalent_edge\": True,}\n",
    "    logger.info(\"Features Info: {}\".format(params))\n",
    "    \n",
    "    cutsite_ind, interface_ind = get_ind_from_protease(args.protease, pdb_path, index_p1, d, sfxn)\n",
    "    logger.info(\"Focus substrate indices are {}\".format(','.join(cutsite_ind)))\n",
    "    logger.info(\"Neighbor residues indices are {}\".format(','.join(interface_ind)))\n",
    "    \n",
    "    # Read in labels and sequences\n",
    "    try:\n",
    "        df = pd.read_csv(os.path.join(classifier_path, class_file), sep = \"\\t\")\n",
    "        labels = list(df[\"Result\"])\n",
    "        sequences = list(df[\"Sequence\"])\n",
    "    except:\n",
    "        raise ValueError(\"Path either invalid to classsifications or not properly formatted. \\\n",
    "    Please check template sample.txt\")\n",
    "    \n",
    "    # get all graphs into a list\n",
    "    missed_sequences = []\n",
    "    error_sequences = []\n",
    "    seq_final = []\n",
    "    label_final = []\n",
    "    graphs = []\n",
    "    for i in range(len(sequences)):\n",
    "        seq = sequences[i]\n",
    "        graph = generate_graph(seq, pr_path, cutsite_ind, interface_ind)\n",
    "        logger.info(\"Graph for {} has been generated successfully.\".format(seq))\n",
    "        if graph == \"Error: No Silent\":\n",
    "            missed_sequences.append(seq)\n",
    "        elif graph == \"Error: Invalid Silent\":\n",
    "            error_sequences.append(seq)\n",
    "        else:\n",
    "            seq_final.append(seq)\n",
    "            graphs.append(graph)\n",
    "            label_final.append(labels[i])\n",
    "    \n",
    "    logger.info(\"There were {} poses which loaded\".format(len(graphs)))\n",
    "    logger.info(\"There were {} poses missing due to silent files.\".format(len(missed_sequences)))\n",
    "    logger.info(\"There were {} poses which failed to be loaded.\".format(len(error_sequences)))\n",
    "    \n",
    "if __name__ == '__main__':\n",
    "    args = parse_args()\n",
    "    main(args)    "
   ]
  },
  {
   "cell_type": "code",
   "execution_count": 131,
   "metadata": {},
   "outputs": [],
   "source": [
    "x = pkl.load(open(os.path.join(data_path, \"ind.sample.x\"),\"rb\"))\n",
    "y = pkl.load(open(os.path.join(data_path, \"ind.sample.y\"),\"rb\"))\n",
    "graph = pkl.load(open(os.path.join(data_path,\"ind.sample.graph\"),\"rb\"))\n",
    "labelorder = pkl.load(open(os.path.join(data_path,\"ind.sample.labelorder\"),\"rb\"))\n",
    "sequences = pkl.load(open(os.path.join(data_path,\"ind.sample.sequences\"),\"rb\"))"
   ]
  },
  {
   "cell_type": "code",
   "execution_count": 149,
   "metadata": {},
   "outputs": [
    {
     "data": {
      "text/plain": [
       "array([[1]])"
      ]
     },
     "execution_count": 149,
     "metadata": {},
     "output_type": "execute_result"
    }
   ],
   "source": [
    "y"
   ]
  },
  {
   "cell_type": "markdown",
   "metadata": {},
   "source": [
    "# Import data and Transformation"
   ]
  },
  {
   "cell_type": "code",
   "execution_count": 1,
   "metadata": {},
   "outputs": [],
   "source": [
    "import pickle as pkl\n",
    "graph = pkl.load(open(\"../data/ind.HCV_binary_10_ang_aa_sinusoidal_encoding_2_energy_7_energyedge_5_hbond.graph\",\"rb\"))\n",
    "x = pkl.load(open(\"../data/ind.HCV_binary_10_ang_aa_sinusoidal_encoding_2_energy_7_energyedge_5_hbond.x\",\"rb\"))\n",
    "y = pkl.load(open(\"../data/ind.HCV_binary_10_ang_aa_sinusoidal_encoding_2_energy_7_energyedge_5_hbond.y\",\"rb\"))\n",
    "sequences = pkl.load(open(\"../data/ind.HCV_binary_10_ang_aa_sinusoidal_encoding_2_energy_7_energyedge_5_hbond.sequences\",\"rb\"))\n",
    "labelorder = pkl.load(open(\"../data/ind.HCV_binary_10_ang_aa_sinusoidal_encoding_2_energy_7_energyedge_5_hbond.labelorder\",\"rb\"))\n"
   ]
  },
  {
   "cell_type": "code",
   "execution_count": 159,
   "metadata": {},
   "outputs": [
    {
     "data": {
      "text/plain": [
       "((7342, 34, 30), (7342, 2), 7342, (7342, 34, 34, 8))"
      ]
     },
     "execution_count": 159,
     "metadata": {},
     "output_type": "execute_result"
    }
   ],
   "source": [
    "x.shape, y.shape, len(sequences), graph.shape"
   ]
  },
  {
   "cell_type": "code",
   "execution_count": 161,
   "metadata": {},
   "outputs": [
    {
     "data": {
      "text/plain": [
       "['CLEAVED', 'UNCLEAVED']"
      ]
     },
     "execution_count": 161,
     "metadata": {},
     "output_type": "execute_result"
    }
   ],
   "source": [
    "labelorder"
   ]
  },
  {
   "cell_type": "code",
   "execution_count": 127,
   "metadata": {},
   "outputs": [
    {
     "data": {
      "text/plain": [
       "(7342, 34, 3)"
      ]
     },
     "execution_count": 127,
     "metadata": {},
     "output_type": "execute_result"
    }
   ],
   "source": [
    "lis = [22,23,24]\n",
    "features.numpy()[...,lis].shape"
   ]
  },
  {
   "cell_type": "code",
   "execution_count": 135,
   "metadata": {},
   "outputs": [],
   "source": [
    "tmp = features.numpy().copy()\n",
    "tmp[...,lis] = np.exp(-tmp[...,lis])\n"
   ]
  },
  {
   "cell_type": "code",
   "execution_count": 148,
   "metadata": {},
   "outputs": [
    {
     "data": {
      "text/plain": [
       "tensor([0.2416, 0.2682, 0.2867, 0.2979, 0.1164, 0.4488, 0.0388, 0.7256, 0.0000,\n",
       "        0.7690, 0.7373, 0.1302, 0.0930, 0.2102, 0.0000, 0.0260, 0.2767, 0.0000,\n",
       "        0.0000, 0.0400, 0.0452, 0.0571, 0.2590, 0.0000, 0.0496, 0.0000, 0.1314,\n",
       "        0.0000, 0.0512, 0.2857, 0.0000, 0.0163, 0.0000, 0.0308])"
      ]
     },
     "execution_count": 148,
     "metadata": {},
     "output_type": "execute_result"
    }
   ],
   "source": [
    "features[0,:,22]"
   ]
  },
  {
   "cell_type": "code",
   "execution_count": 137,
   "metadata": {},
   "outputs": [
    {
     "data": {
      "text/plain": [
       "array([0.785361  , 0.764765  , 0.7507559 , 0.7423777 , 0.8901221 ,\n",
       "       0.63842046, 0.9619834 , 0.4840394 , 1.        , 0.46346763,\n",
       "       0.47838128, 0.87791383, 0.91121656, 0.8104091 , 1.        ,\n",
       "       0.9743129 , 0.7582452 , 1.        , 1.        , 0.96078444,\n",
       "       0.9557751 , 0.944509  , 0.77181405, 1.        , 0.9515775 ,\n",
       "       1.        , 0.87682766, 1.        , 0.9500952 , 0.75145054,\n",
       "       1.        , 0.9838514 , 1.        , 0.96968603], dtype=float32)"
      ]
     },
     "execution_count": 137,
     "metadata": {},
     "output_type": "execute_result"
    }
   ],
   "source": [
    "tmp[0,:,22]"
   ]
  },
  {
   "cell_type": "code",
   "execution_count": 146,
   "metadata": {},
   "outputs": [],
   "source": [
    "# exp(-x) for features\n",
    "def transform(mat, ind = 'all'): # ind saves indices that needs to be transformed, like '(22,29)'\n",
    "    try:\n",
    "        mat = mat.numpy().copy()\n",
    "    except AttributeError:\n",
    "        pass\n",
    "    if ind == 'all':\n",
    "        return np.exp(-mat)\n",
    "    else:\n",
    "        ind_ends = [int(x) for x in ind.strip('()').split(',')]\n",
    "        ind_list = np.arange(ind_ends[0],ind_ends[1])\n",
    "        mat[...,ind_list] = np.exp(-mat[...,ind_list])\n",
    "    return mat"
   ]
  },
  {
   "cell_type": "code",
   "execution_count": 149,
   "metadata": {},
   "outputs": [
    {
     "data": {
      "text/plain": [
       "array([0.785361  , 0.764765  , 0.7507559 , 0.7423777 , 0.8901221 ,\n",
       "       0.63842046, 0.9619834 , 0.4840394 , 1.        , 0.46346763,\n",
       "       0.47838128, 0.87791383, 0.91121656, 0.8104091 , 1.        ,\n",
       "       0.9743129 , 0.7582452 , 1.        , 1.        , 0.96078444,\n",
       "       0.9557751 , 0.944509  , 0.77181405, 1.        , 0.9515775 ,\n",
       "       1.        , 0.87682766, 1.        , 0.9500952 , 0.75145054,\n",
       "       1.        , 0.9838514 , 1.        , 0.96968603], dtype=float32)"
      ]
     },
     "execution_count": 149,
     "metadata": {},
     "output_type": "execute_result"
    }
   ],
   "source": [
    "tmp = transform(features,ind='(-8,-1)')\n",
    "tmp[0,:,22]"
   ]
  },
  {
   "cell_type": "code",
   "execution_count": 150,
   "metadata": {},
   "outputs": [
    {
     "data": {
      "text/plain": [
       "torch.Size([7342, 34, 34, 8])"
      ]
     },
     "execution_count": 150,
     "metadata": {},
     "output_type": "execute_result"
    }
   ],
   "source": [
    "adj_ls.shape"
   ]
  },
  {
   "cell_type": "code",
   "execution_count": null,
   "metadata": {},
   "outputs": [],
   "source": [
    "tmp = transform(adj_ls,ind='(-8,-1)')"
   ]
  },
  {
   "cell_type": "code",
   "execution_count": 159,
   "metadata": {},
   "outputs": [],
   "source": [
    "# edge\n",
    "tmp1 = transform(adj_ls, ind='(0,6)')\n"
   ]
  },
  {
   "cell_type": "code",
   "execution_count": 158,
   "metadata": {},
   "outputs": [
    {
     "data": {
      "text/plain": [
       "tensor([-3.5018e-04,  0.0000e+00,  0.0000e+00,  0.0000e+00,  0.0000e+00,\n",
       "         0.0000e+00,  1.0000e+00,  0.0000e+00])"
      ]
     },
     "execution_count": 158,
     "metadata": {},
     "output_type": "execute_result"
    }
   ],
   "source": [
    "adj_ls[0,4,6,:]"
   ]
  },
  {
   "cell_type": "code",
   "execution_count": 160,
   "metadata": {},
   "outputs": [
    {
     "data": {
      "text/plain": [
       "array([1.0003502, 1.       , 1.       , 1.       , 1.       , 1.       ,\n",
       "       1.       , 0.       ], dtype=float32)"
      ]
     },
     "execution_count": 160,
     "metadata": {},
     "output_type": "execute_result"
    }
   ],
   "source": [
    "tmp1[0,4,6,:]"
   ]
  },
  {
   "cell_type": "markdown",
   "metadata": {},
   "source": [
    "# Feature distribution"
   ]
  },
  {
   "cell_type": "code",
   "execution_count": 14,
   "metadata": {},
   "outputs": [],
   "source": [
    "columns = [\"aa1\",\"aa2\",\"aa3\",\"aa4\",\"aa5\",\"aa6\",\"aa7\",\"aa8\",\"aa9\",\"aa10\",\n",
    "          \"aa11\",\"aa12\",\"aa13\",\"aa14\",\"aa15\",\"aa16\",\"aa17\",\"aa18\",\"aa19\",\"aa20\",\n",
    "          \"sin1\",\"sin2\",\"fa_intra_sol_xover4\", \"fa_intra_rep\", \"rama_prepro\", \n",
    "           \"omega\", \"p_aa_pp\", \"fa_dun\", \"ref\",\"is_substrate\"]\n",
    "df = pd.DataFrame(features.numpy()[0], columns = columns)"
   ]
  },
  {
   "cell_type": "code",
   "execution_count": 2,
   "metadata": {},
   "outputs": [],
   "source": [
    "import matplotlib.pyplot as plt\n",
    "%matplotlib inline"
   ]
  },
  {
   "cell_type": "code",
   "execution_count": 27,
   "metadata": {},
   "outputs": [
    {
     "data": {
      "text/plain": [
       "(array([22026.,  7342.,     0.,  7342., 14684.,  7342.,     0.,     0.,\n",
       "            0., 14684.,     0.,     0.,     0.,     0., 14684.,     0.,\n",
       "            0.,  7342.,     0.,  7342., 14684.,     0., 14684.,  7342.,\n",
       "            0.,  7342.,     0.,     0., 14684.,     0.,     0.,     0.,\n",
       "            0., 14684.,     0.,  7342.,  7342., 14684., 22026., 22026.]),\n",
       " array([-0.9999902 , -0.9502253 , -0.90046036, -0.85069543, -0.80093044,\n",
       "        -0.7511655 , -0.7014006 , -0.65163565, -0.6018707 , -0.5521058 ,\n",
       "        -0.5023408 , -0.4525759 , -0.40281093, -0.353046  , -0.30328107,\n",
       "        -0.25351614, -0.20375118, -0.15398625, -0.1042213 , -0.05445636,\n",
       "        -0.00469142,  0.04507352,  0.09483846,  0.1446034 ,  0.19436833,\n",
       "         0.24413328,  0.29389822,  0.34366316,  0.3934281 ,  0.44319305,\n",
       "         0.49295798,  0.54272294,  0.5924879 ,  0.6422528 ,  0.69201773,\n",
       "         0.74178267,  0.7915476 ,  0.8413126 ,  0.8910775 ,  0.94084245,\n",
       "         0.9906074 ], dtype=float32),\n",
       " <a list of 40 Patch objects>)"
      ]
     },
     "execution_count": 27,
     "metadata": {},
     "output_type": "execute_result"
    },
    {
     "data": {
      "image/png": "[encoded data removed]",
      "text/plain": [
       "<Figure size 432x288 with 1 Axes>"
      ]
     },
     "metadata": {
      "needs_background": "light"
     },
     "output_type": "display_data"
    }
   ],
   "source": [
    "# sinusoidal encoding\n",
    "plt.hist(features[:,:,20].flatten(),bins=40)"
   ]
  },
  {
   "cell_type": "code",
   "execution_count": 25,
   "metadata": {},
   "outputs": [
    {
     "data": {
      "image/png": "[encoded data removed]",
      "text/plain": [
       "<Figure size 1080x720 with 7 Axes>"
      ]
     },
     "metadata": {
      "needs_background": "light"
     },
     "output_type": "display_data"
    }
   ],
   "source": [
    "plt.figure(figsize=(15,10))\n",
    "for i in range(1,8):\n",
    "    plt.subplot(3,3,i)\n",
    "    plt.hist(features[:,:,i+21].flatten(),bins=40)"
   ]
  },
  {
   "cell_type": "code",
   "execution_count": 20,
   "metadata": {},
   "outputs": [
    {
     "data": {
      "text/plain": [
       "(0, 50)"
      ]
     },
     "execution_count": 20,
     "metadata": {},
     "output_type": "execute_result"
    },
    {
     "data": {
      "image/png": "[encoded data removed]",
      "text/plain": [
       "<Figure size 432x288 with 1 Axes>"
      ]
     },
     "metadata": {
      "needs_background": "light"
     },
     "output_type": "display_data"
    }
   ],
   "source": [
    "#fa_intra_rep\n",
    "plt.hist(features[:,:,23].flatten())\n",
    "plt.xlim((0,50))"
   ]
  },
  {
   "cell_type": "code",
   "execution_count": 152,
   "metadata": {},
   "outputs": [
    {
     "data": {
      "image/png": "[encoded data removed]",
      "text/plain": [
       "<Figure size 1080x720 with 8 Axes>"
      ]
     },
     "metadata": {
      "needs_background": "light"
     },
     "output_type": "display_data"
    }
   ],
   "source": [
    "# edge_features\n",
    "edge_columns = [\"fa_atr\", \"fa_rep\", \"fa_sol\", \"fa_elec\", \"lk_ball_wtd\", \"hbond\", \"is_interface\", \"covalent_bond\"]\n",
    "plt.figure(figsize=(15,10))\n",
    "for i in range(1,9):\n",
    "    plt.subplot(3,3,i)\n",
    "    plt.hist(adj_ls[:,:,:,i-1].flatten(),bins=40)"
   ]
  },
  {
   "cell_type": "markdown",
   "metadata": {},
   "source": [
    "# Features distribution after transformation"
   ]
  },
  {
   "cell_type": "code",
   "execution_count": 153,
   "metadata": {},
   "outputs": [
    {
     "data": {
      "image/png": "[encoded data removed]",
      "text/plain": [
       "<Figure size 1080x720 with 7 Axes>"
      ]
     },
     "metadata": {
      "needs_background": "light"
     },
     "output_type": "display_data"
    }
   ],
   "source": [
    "#node features\n",
    "plt.figure(figsize=(15,10))\n",
    "for i in range(1,8):\n",
    "    plt.subplot(3,3,i)\n",
    "    plt.hist(tmp[:,:,i+21].flatten(),bins=40)"
   ]
  },
  {
   "cell_type": "code",
   "execution_count": 164,
   "metadata": {},
   "outputs": [
    {
     "data": {
      "image/png": "[encoded data removed]",
      "text/plain": [
       "<Figure size 1080x720 with 8 Axes>"
      ]
     },
     "metadata": {
      "needs_background": "light"
     },
     "output_type": "display_data"
    }
   ],
   "source": [
    "#edge\n",
    "plt.figure(figsize=(15,10))\n",
    "for i in range(1,9):\n",
    "    plt.subplot(3,3,i)\n",
    "    plt.hist(tmp1[:,:,:,i-1].flatten())"
   ]
  },
  {
   "cell_type": "markdown",
   "metadata": {},
   "source": [
    "# normalize part"
   ]
  },
  {
   "cell_type": "code",
   "execution_count": 1,
   "metadata": {},
   "outputs": [],
   "source": [
    "import torch\n",
    "import sys\n",
    "import numpy as np\n",
    "import pandas as pd\n",
    "import pickle as pkl\n",
    "import scipy.sparse as sp"
   ]
  },
  {
   "cell_type": "code",
   "execution_count": 5,
   "metadata": {},
   "outputs": [],
   "source": [
    "def sample_mask(idx, l):\n",
    "    \"\"\"Create mask.\"\"\"\n",
    "    mask = np.zeros(l)\n",
    "    mask[idx] = 1\n",
    "    return np.array(mask, dtype=np.bool)\n",
    "def load_data(dataset_str, is_test=None, norm_type=False, protease=\"HCV\"):\n",
    "    protease = protease\n",
    "    names = ['x', 'y', 'graph', 'sequences', 'labelorder']\n",
    "    objects = []\n",
    "    for i in range(len(names)):\n",
    "        with open(\"../data/ind.{}.{}\".format(dataset_str, names[i]), 'rb') as f:\n",
    "            if sys.version_info > (3, 0):\n",
    "                objects.append(pkl.load(f, encoding='latin1'))\n",
    "            else:\n",
    "                objects.append(pkl.load(f))\n",
    "\n",
    "    features, y_arr, adj_ls, sequences, labelorder = tuple(objects)\n",
    "    proteases = [protease for x in sequences]\n",
    "    # turn edges into nodes\n",
    "    # node feature matrix\n",
    "\n",
    "    # Split all datasets into testing, training, and validation. The split of this data is fixed for each dataset\n",
    "    # because the numpy seed is fixed, currently the breakdown is train: 60, validation: 10, test: 30\n",
    "    idx = [y_ind for y_ind in range(y_arr.shape[0])]\n",
    "    np.random.shuffle(idx)\n",
    "    cutoff_1 = int(6*len(idx)/10)\n",
    "    cutoff_2 = int(7*len(idx)/10)\n",
    "    idx_train = idx[:cutoff_1]\n",
    "    idx_val = idx[cutoff_1:cutoff_2]\n",
    "    idx_test = idx[cutoff_2:]\n",
    "    idx_train, idx_val, idx_test = np.sort(idx_train), np.sort(idx_val), np.sort(idx_test)\n",
    "    # make logical indices (they are the size BATCH)\n",
    "    train_mask = sample_mask(idx_train, y_arr.shape[0])\n",
    "    val_mask = sample_mask(idx_val, y_arr.shape[0])\n",
    "    test_mask = sample_mask(idx_test, y_arr.shape[0])\n",
    "\n",
    "    if is_test != None:\n",
    "        test_idx_reorder = parse_index_file(\"../data/ind.{}.test.index\".format(is_test))\n",
    "        test_idx_range = np.sort(test_idx_reorder)\n",
    "        test_mask = np.zeros(len(train_mask), dtype=np.bool)\n",
    "        test_mask[test_idx_range] = True\n",
    "        # make train test split\n",
    "        tmp_mask = test_mask.copy()\n",
    "        train_mask = np.array([(not idx) for idx in test_mask],dtype=np.bool)\n",
    "        \n",
    "        train_ind = set(range(len(train_mask))) - set(test_idx_range)\n",
    "        val_ind = np.random.choice(list(train_ind), int(len(train_mask)*0.1),replace=False)\n",
    "        \n",
    "        val_mask = np.zeros(len(train_mask), dtype=np.bool)\n",
    "        val_mask[val_ind] = True\n",
    "        tmp_mask[val_ind] = True\n",
    "        train_mask = np.array([(not idx) for idx in tmp_mask], dtype=np.bool)\n",
    "\n",
    "#     adj_ls = normalize(adj_ls, norm_type)\n",
    "    features = transform(features,ind='(-8,-1)') #only energy features\n",
    "    adj_ls = transform(adj_ls, ind='(0,6)') # only energy features\n",
    "    \n",
    "    features = torch.FloatTensor(np.array(features))\n",
    "    y_arr = torch.LongTensor(y_arr)\n",
    "    adj_ls = torch.FloatTensor(np.array(adj_ls))\n",
    "\n",
    "    return adj_ls, features, y_arr, sequences, proteases, labelorder, train_mask, val_mask, test_mask"
   ]
  },
  {
   "cell_type": "code",
   "execution_count": 145,
   "metadata": {},
   "outputs": [],
   "source": [
    "adj_ls, features, labels, sequences, proteases, labelorder, train_mask, val_mask, test_mask = load_data(\"HCV_binary_10_ang_aa_sinusoidal_encoding_2_energy_7_energyedge_5_hbond\", is_test=None, norm_type=False,protease=\"HCV\")\n"
   ]
  },
  {
   "cell_type": "code",
   "execution_count": 8,
   "metadata": {},
   "outputs": [
    {
     "data": {
      "text/plain": [
       "(torch.Size([7342, 34, 34, 8]), torch.Size([7342, 34, 30]))"
      ]
     },
     "execution_count": 8,
     "metadata": {},
     "output_type": "execute_result"
    }
   ],
   "source": [
    "adj_ls.shape, features.shape"
   ]
  },
  {
   "cell_type": "code",
   "execution_count": 27,
   "metadata": {},
   "outputs": [],
   "source": [
    "columns = [\"aa1\",\"aa2\",\"aa3\",\"aa4\",\"aa5\",\"aa6\",\"aa7\",\"aa8\",\"aa9\",\"aa10\",\n",
    "          \"aa11\",\"aa12\",\"aa13\",\"aa14\",\"aa15\",\"aa16\",\"aa17\",\"aa18\",\"aa19\",\"aa20\",\n",
    "          \"sin1\",\"sin2\",\"fa_intra_sol_xover4\", \"fa_intra_rep\", \"rama_prepro\", \n",
    "           \"omega\", \"p_aa_pp\", \"fa_dun\", \"ref\",\"is_substrate\"]\n",
    "df = pd.DataFrame(features.numpy()[0], columns = columns)"
   ]
  },
  {
   "cell_type": "code",
   "execution_count": 29,
   "metadata": {},
   "outputs": [
    {
     "data": {
      "text/html": [
       "<div>\n",
       "<style scoped>\n",
       "    .dataframe tbody tr th:only-of-type {\n",
       "        vertical-align: middle;\n",
       "    }\n",
       "\n",
       "    .dataframe tbody tr th {\n",
       "        vertical-align: top;\n",
       "    }\n",
       "\n",
       "    .dataframe thead th {\n",
       "        text-align: right;\n",
       "    }\n",
       "</style>\n",
       "<table border=\"1\" class=\"dataframe\">\n",
       "  <thead>\n",
       "    <tr style=\"text-align: right;\">\n",
       "      <th></th>\n",
       "      <th>aa1</th>\n",
       "      <th>aa2</th>\n",
       "      <th>aa3</th>\n",
       "      <th>aa4</th>\n",
       "      <th>aa5</th>\n",
       "      <th>aa6</th>\n",
       "      <th>aa7</th>\n",
       "      <th>aa8</th>\n",
       "      <th>aa9</th>\n",
       "      <th>aa10</th>\n",
       "      <th>...</th>\n",
       "      <th>sin1</th>\n",
       "      <th>sin2</th>\n",
       "      <th>fa_intra_sol_xover4</th>\n",
       "      <th>fa_intra_rep</th>\n",
       "      <th>rama_prepro</th>\n",
       "      <th>omega</th>\n",
       "      <th>p_aa_pp</th>\n",
       "      <th>fa_dun</th>\n",
       "      <th>ref</th>\n",
       "      <th>is_substrate</th>\n",
       "    </tr>\n",
       "  </thead>\n",
       "  <tbody>\n",
       "    <tr>\n",
       "      <th>0</th>\n",
       "      <td>0.0</td>\n",
       "      <td>0.0</td>\n",
       "      <td>0.0</td>\n",
       "      <td>0.0</td>\n",
       "      <td>0.0</td>\n",
       "      <td>0.0</td>\n",
       "      <td>0.0</td>\n",
       "      <td>0.0</td>\n",
       "      <td>0.0</td>\n",
       "      <td>0.0</td>\n",
       "      <td>...</td>\n",
       "      <td>0.000000</td>\n",
       "      <td>0.0</td>\n",
       "      <td>0.241612</td>\n",
       "      <td>4.169529</td>\n",
       "      <td>-0.495979</td>\n",
       "      <td>0.025619</td>\n",
       "      <td>0.090689</td>\n",
       "      <td>3.821218</td>\n",
       "      <td>0.58223</td>\n",
       "      <td>1.0</td>\n",
       "    </tr>\n",
       "    <tr>\n",
       "      <th>1</th>\n",
       "      <td>0.0</td>\n",
       "      <td>0.0</td>\n",
       "      <td>0.0</td>\n",
       "      <td>0.0</td>\n",
       "      <td>0.0</td>\n",
       "      <td>0.0</td>\n",
       "      <td>0.0</td>\n",
       "      <td>0.0</td>\n",
       "      <td>0.0</td>\n",
       "      <td>0.0</td>\n",
       "      <td>...</td>\n",
       "      <td>0.841471</td>\n",
       "      <td>1.0</td>\n",
       "      <td>0.268187</td>\n",
       "      <td>4.235788</td>\n",
       "      <td>0.959456</td>\n",
       "      <td>1.152130</td>\n",
       "      <td>-0.566650</td>\n",
       "      <td>2.408025</td>\n",
       "      <td>0.58223</td>\n",
       "      <td>1.0</td>\n",
       "    </tr>\n",
       "    <tr>\n",
       "      <th>2</th>\n",
       "      <td>0.0</td>\n",
       "      <td>0.0</td>\n",
       "      <td>0.0</td>\n",
       "      <td>0.0</td>\n",
       "      <td>0.0</td>\n",
       "      <td>0.0</td>\n",
       "      <td>0.0</td>\n",
       "      <td>0.0</td>\n",
       "      <td>0.0</td>\n",
       "      <td>0.0</td>\n",
       "      <td>...</td>\n",
       "      <td>0.909297</td>\n",
       "      <td>1.0</td>\n",
       "      <td>0.286675</td>\n",
       "      <td>4.379674</td>\n",
       "      <td>1.205627</td>\n",
       "      <td>-0.092665</td>\n",
       "      <td>0.053928</td>\n",
       "      <td>4.067401</td>\n",
       "      <td>0.58223</td>\n",
       "      <td>1.0</td>\n",
       "    </tr>\n",
       "    <tr>\n",
       "      <th>3</th>\n",
       "      <td>0.0</td>\n",
       "      <td>0.0</td>\n",
       "      <td>0.0</td>\n",
       "      <td>1.0</td>\n",
       "      <td>0.0</td>\n",
       "      <td>0.0</td>\n",
       "      <td>0.0</td>\n",
       "      <td>0.0</td>\n",
       "      <td>0.0</td>\n",
       "      <td>0.0</td>\n",
       "      <td>...</td>\n",
       "      <td>0.141120</td>\n",
       "      <td>1.0</td>\n",
       "      <td>0.297897</td>\n",
       "      <td>1.398956</td>\n",
       "      <td>1.115776</td>\n",
       "      <td>-0.055925</td>\n",
       "      <td>0.326248</td>\n",
       "      <td>4.119510</td>\n",
       "      <td>-2.72453</td>\n",
       "      <td>1.0</td>\n",
       "    </tr>\n",
       "    <tr>\n",
       "      <th>4</th>\n",
       "      <td>0.0</td>\n",
       "      <td>0.0</td>\n",
       "      <td>0.0</td>\n",
       "      <td>0.0</td>\n",
       "      <td>0.0</td>\n",
       "      <td>0.0</td>\n",
       "      <td>0.0</td>\n",
       "      <td>0.0</td>\n",
       "      <td>0.0</td>\n",
       "      <td>0.0</td>\n",
       "      <td>...</td>\n",
       "      <td>-0.756802</td>\n",
       "      <td>1.0</td>\n",
       "      <td>0.116397</td>\n",
       "      <td>0.797717</td>\n",
       "      <td>0.684848</td>\n",
       "      <td>1.322425</td>\n",
       "      <td>-1.481413</td>\n",
       "      <td>0.895828</td>\n",
       "      <td>-1.64321</td>\n",
       "      <td>1.0</td>\n",
       "    </tr>\n",
       "  </tbody>\n",
       "</table>\n",
       "<p>5 rows × 30 columns</p>\n",
       "</div>"
      ],
      "text/plain": [
       "   aa1  aa2  aa3  aa4  aa5  aa6  aa7  aa8  aa9  aa10      ...           sin1  \\\n",
       "0  0.0  0.0  0.0  0.0  0.0  0.0  0.0  0.0  0.0   0.0      ...       0.000000   \n",
       "1  0.0  0.0  0.0  0.0  0.0  0.0  0.0  0.0  0.0   0.0      ...       0.841471   \n",
       "2  0.0  0.0  0.0  0.0  0.0  0.0  0.0  0.0  0.0   0.0      ...       0.909297   \n",
       "3  0.0  0.0  0.0  1.0  0.0  0.0  0.0  0.0  0.0   0.0      ...       0.141120   \n",
       "4  0.0  0.0  0.0  0.0  0.0  0.0  0.0  0.0  0.0   0.0      ...      -0.756802   \n",
       "\n",
       "   sin2  fa_intra_sol_xover4  fa_intra_rep  rama_prepro     omega   p_aa_pp  \\\n",
       "0   0.0             0.241612      4.169529    -0.495979  0.025619  0.090689   \n",
       "1   1.0             0.268187      4.235788     0.959456  1.152130 -0.566650   \n",
       "2   1.0             0.286675      4.379674     1.205627 -0.092665  0.053928   \n",
       "3   1.0             0.297897      1.398956     1.115776 -0.055925  0.326248   \n",
       "4   1.0             0.116397      0.797717     0.684848  1.322425 -1.481413   \n",
       "\n",
       "     fa_dun      ref  is_substrate  \n",
       "0  3.821218  0.58223           1.0  \n",
       "1  2.408025  0.58223           1.0  \n",
       "2  4.067401  0.58223           1.0  \n",
       "3  4.119510 -2.72453           1.0  \n",
       "4  0.895828 -1.64321           1.0  \n",
       "\n",
       "[5 rows x 30 columns]"
      ]
     },
     "execution_count": 29,
     "metadata": {},
     "output_type": "execute_result"
    }
   ],
   "source": [
    "df.head()"
   ]
  },
  {
   "cell_type": "code",
   "execution_count": 184,
   "metadata": {},
   "outputs": [],
   "source": [
    "def normalize(mx):  \n",
    "    # normalize matrix using partition probability because weights * features should avoid features = 0\n",
    "    # but distribution range is small\n",
    "    # so just do exp(-x) in transformation and then normalize edge using row normalization\n",
    "    try:\n",
    "        mat = mat.numpy().copy()\n",
    "    except AttributeError:\n",
    "        pass\n",
    "    for b in range(mx.shape[0]):\n",
    "        for m in range(mx.shape[3]):\n",
    "            mx[b][:,:,m] += np.eye(mx.shape[1])\n",
    "    rowsum = np.array(mx.sum(2)) # Here starts to multiply -1/2 degree matrix on both sides of transformed adjacency matrix\n",
    "    r_inv = np.power(rowsum, -0.5)\n",
    "    r_inv[np.isinf(r_inv)] = 0.\n",
    "    for b in range(mx.shape[0]):\n",
    "        for m in range(mx.shape[3]):\n",
    "            r_mat_inv = sp.diags(r_inv[b,:,m])\n",
    "            mx[b,:,:,m] = r_mat_inv * mx[b,:,:,m] * r_mat_inv\n",
    "    return mx"
   ]
  },
  {
   "cell_type": "code",
   "execution_count": 181,
   "metadata": {},
   "outputs": [
    {
     "data": {
      "text/plain": [
       "(7342, 34, 8)"
      ]
     },
     "execution_count": 181,
     "metadata": {},
     "output_type": "execute_result"
    }
   ],
   "source": [
    "rowsum = np.array(tmp11.sum(2))\n",
    "rowsum.shape"
   ]
  },
  {
   "cell_type": "code",
   "execution_count": 183,
   "metadata": {},
   "outputs": [
    {
     "data": {
      "text/plain": [
       "0.96877426"
      ]
     },
     "execution_count": 183,
     "metadata": {},
     "output_type": "execute_result"
    }
   ],
   "source": [
    "np.sum(tmp11[0,0,:,0])"
   ]
  },
  {
   "cell_type": "code",
   "execution_count": 182,
   "metadata": {},
   "outputs": [
    {
     "data": {
      "text/plain": [
       "0.9687742"
      ]
     },
     "execution_count": 182,
     "metadata": {},
     "output_type": "execute_result"
    }
   ],
   "source": [
    "rowsum[0,0,0]"
   ]
  },
  {
   "cell_type": "code",
   "execution_count": 171,
   "metadata": {},
   "outputs": [],
   "source": [
    "tmp11 = normalize(tmp1)"
   ]
  },
  {
   "cell_type": "code",
   "execution_count": 116,
   "metadata": {},
   "outputs": [
    {
     "data": {
      "text/plain": [
       "tensor([[ 0.0000,  0.0000,  0.0000,  ...,  3.8212,  0.5822,  1.0000],\n",
       "        [ 0.0000,  0.0000,  0.0000,  ...,  2.4080,  0.5822,  1.0000],\n",
       "        [ 0.0000,  0.0000,  0.0000,  ...,  4.0674,  0.5822,  1.0000],\n",
       "        ...,\n",
       "        [ 0.0000,  1.0000,  0.0000,  ...,  0.4410,  3.2548,  0.0000],\n",
       "        [ 1.0000,  0.0000,  0.0000,  ...,  0.0000,  1.3247,  0.0000],\n",
       "        [ 0.0000,  0.0000,  0.0000,  ...,  0.3211, -0.2897,  0.0000]])"
      ]
     },
     "execution_count": 116,
     "metadata": {},
     "output_type": "execute_result"
    }
   ],
   "source": [
    "features[0]"
   ]
  },
  {
   "cell_type": "code",
   "execution_count": 50,
   "metadata": {},
   "outputs": [],
   "source": [
    "exp_mat = np.exp(-features.numpy())"
   ]
  },
  {
   "cell_type": "code",
   "execution_count": 51,
   "metadata": {},
   "outputs": [
    {
     "data": {
      "text/plain": [
       "array([[1.        , 1.        , 1.        , ..., 0.0219011 , 0.5586512 ,\n",
       "        0.36787945],\n",
       "       [1.        , 1.        , 1.        , ..., 0.08999287, 0.5586512 ,\n",
       "        0.36787945],\n",
       "       [1.        , 1.        , 1.        , ..., 0.01712182, 0.5586512 ,\n",
       "        0.36787945],\n",
       "       ...,\n",
       "       [1.        , 0.36787945, 1.        , ..., 0.6433931 , 0.03858892,\n",
       "        1.        ],\n",
       "       [0.36787945, 1.        , 1.        , ..., 1.        , 0.26588804,\n",
       "        1.        ],\n",
       "       [1.        , 1.        , 1.        , ..., 0.7253423 , 1.3360132 ,\n",
       "        1.        ]], dtype=float32)"
      ]
     },
     "execution_count": 51,
     "metadata": {},
     "output_type": "execute_result"
    }
   ],
   "source": [
    "exp_mat[0]"
   ]
  },
  {
   "cell_type": "code",
   "execution_count": 52,
   "metadata": {},
   "outputs": [
    {
     "data": {
      "text/plain": [
       "(34, 30)"
      ]
     },
     "execution_count": 52,
     "metadata": {},
     "output_type": "execute_result"
    }
   ],
   "source": [
    "tmp = np.sum(exp_mat,axis=0)\n",
    "tmp.shape"
   ]
  },
  {
   "cell_type": "code",
   "execution_count": 53,
   "metadata": {},
   "outputs": [
    {
     "data": {
      "text/plain": [
       "(7180.8096, 7180.7686)"
      ]
     },
     "execution_count": 53,
     "metadata": {},
     "output_type": "execute_result"
    }
   ],
   "source": [
    "np.sum(exp_mat[:,0,1]),tmp[0,1]"
   ]
  },
  {
   "cell_type": "code",
   "execution_count": 54,
   "metadata": {},
   "outputs": [
    {
     "data": {
      "text/plain": [
       "(7342, 34, 30)"
      ]
     },
     "execution_count": 54,
     "metadata": {},
     "output_type": "execute_result"
    }
   ],
   "source": [
    "tmp1 = exp_mat / tmp\n",
    "tmp1.shape"
   ]
  },
  {
   "cell_type": "code",
   "execution_count": 55,
   "metadata": {},
   "outputs": [
    {
     "data": {
      "text/plain": [
       "(0.00013926085, 0.00013926085)"
      ]
     },
     "execution_count": 55,
     "metadata": {},
     "output_type": "execute_result"
    }
   ],
   "source": [
    "exp_mat[0,0,1] / tmp[0,1],tmp1[0,0,1]"
   ]
  },
  {
   "cell_type": "code",
   "execution_count": 56,
   "metadata": {},
   "outputs": [
    {
     "data": {
      "text/plain": [
       "(0.00013831067, 0.00013831067)"
      ]
     },
     "execution_count": 56,
     "metadata": {},
     "output_type": "execute_result"
    }
   ],
   "source": [
    "exp_mat[353,3,2] / tmp[3,2], tmp1[353,3,2]"
   ]
  },
  {
   "cell_type": "code",
   "execution_count": 70,
   "metadata": {},
   "outputs": [
    {
     "data": {
      "text/plain": [
       "(7342, 34, 30)"
      ]
     },
     "execution_count": 70,
     "metadata": {},
     "output_type": "execute_result"
    }
   ],
   "source": [
    "tmp = features.numpy() - np.mean(features.numpy(), axis=0)\n",
    "tmp.shape"
   ]
  },
  {
   "cell_type": "code",
   "execution_count": 108,
   "metadata": {},
   "outputs": [
    {
     "data": {
      "text/plain": [
       "array([[ 1.        ,  1.        ,  1.        , ...,  1.        ,\n",
       "        15.249245  ,  0.36787945],\n",
       "       [ 1.        ,  1.        ,  1.        , ...,  1.        ,\n",
       "        15.249245  ,  0.36787945],\n",
       "       [ 1.        ,  1.        ,  1.        , ...,  1.        ,\n",
       "        15.249245  ,  0.36787945],\n",
       "       ...,\n",
       "       [ 1.        ,  0.36787945,  1.        , ...,  0.74320847,\n",
       "         0.03858892,  1.        ],\n",
       "       [ 0.36787945,  1.        ,  1.        , ...,  1.        ,\n",
       "         0.26588804,  1.        ],\n",
       "       [ 1.        ,  1.        ,  1.        , ...,  0.7253569 ,\n",
       "         1.3360132 ,  1.        ]], dtype=float32)"
      ]
     },
     "execution_count": 108,
     "metadata": {},
     "output_type": "execute_result"
    }
   ],
   "source": [
    "np.max(exp_mat, axis=0)"
   ]
  },
  {
   "cell_type": "code",
   "execution_count": 111,
   "metadata": {},
   "outputs": [
    {
     "data": {
      "text/plain": [
       "array([[3.6787945e-01, 3.6787945e-01, 3.6787945e-01, ..., 1.5723297e-03,\n",
       "        3.8588922e-02, 3.6787945e-01],\n",
       "       [3.6787945e-01, 3.6787945e-01, 3.6787945e-01, ..., 1.8294515e-04,\n",
       "        3.8588922e-02, 3.6787945e-01],\n",
       "       [3.6787945e-01, 3.6787945e-01, 3.6787945e-01, ..., 4.9703369e-10,\n",
       "        3.8588922e-02, 3.6787945e-01],\n",
       "       ...,\n",
       "       [1.0000000e+00, 3.6787945e-01, 1.0000000e+00, ..., 4.8745534e-01,\n",
       "        3.8588922e-02, 1.0000000e+00],\n",
       "       [3.6787945e-01, 1.0000000e+00, 1.0000000e+00, ..., 1.0000000e+00,\n",
       "        2.6588804e-01, 1.0000000e+00],\n",
       "       [1.0000000e+00, 1.0000000e+00, 1.0000000e+00, ..., 7.0639664e-01,\n",
       "        1.3360132e+00, 1.0000000e+00]], dtype=float32)"
      ]
     },
     "execution_count": 111,
     "metadata": {},
     "output_type": "execute_result"
    }
   ],
   "source": [
    "np.min(exp_mat, axis=0)"
   ]
  },
  {
   "cell_type": "code",
   "execution_count": 114,
   "metadata": {},
   "outputs": [
    {
     "data": {
      "text/plain": [
       "(array([   0.,    0.,    0.,    0.,    0., 7342.,    0.,    0.,    0.,\n",
       "           0.]),\n",
       " array([-0.5, -0.4, -0.3, -0.2, -0.1,  0. ,  0.1,  0.2,  0.3,  0.4,  0.5],\n",
       "       dtype=float32),\n",
       " <a list of 10 Patch objects>)"
      ]
     },
     "execution_count": 114,
     "metadata": {},
     "output_type": "execute_result"
    },
    {
     "data": {
      "image/png": "[encoded data removed]",
      "text/plain": [
       "<Figure size 432x288 with 1 Axes>"
      ]
     },
     "metadata": {
      "needs_background": "light"
     },
     "output_type": "display_data"
    }
   ],
   "source": [
    "plt.hist(features[:,33,29].flatten())"
   ]
  },
  {
   "cell_type": "code",
   "execution_count": 87,
   "metadata": {},
   "outputs": [
    {
     "data": {
      "text/plain": [
       "torch.Size([7342, 34, 30])"
      ]
     },
     "execution_count": 87,
     "metadata": {},
     "output_type": "execute_result"
    }
   ],
   "source": [
    "features.shape"
   ]
  },
  {
   "cell_type": "code",
   "execution_count": 99,
   "metadata": {},
   "outputs": [
    {
     "name": "stderr",
     "output_type": "stream",
     "text": [
      "/Users/cplu/anaconda3/lib/python3.7/site-packages/ipykernel_launcher.py:13: RuntimeWarning: divide by zero encountered in true_divide\n",
      "  del sys.path[0]\n",
      "/Users/cplu/anaconda3/lib/python3.7/site-packages/ipykernel_launcher.py:13: RuntimeWarning: invalid value encountered in true_divide\n",
      "  del sys.path[0]\n"
     ]
    },
    {
     "data": {
      "text/plain": [
       "(7342, 34, 30)"
      ]
     },
     "execution_count": 99,
     "metadata": {},
     "output_type": "execute_result"
    }
   ],
   "source": [
    "norm_mat = normalize(features)\n",
    "norm_mat.shape"
   ]
  },
  {
   "cell_type": "code",
   "execution_count": 101,
   "metadata": {},
   "outputs": [
    {
     "data": {
      "text/plain": [
       "array([1.        , 1.        , 1.        , 1.        , 1.        ,\n",
       "       1.        , 1.        , 1.        , 1.        , 1.        ,\n",
       "       1.        , 1.        , 1.        , 1.        , 1.        ,\n",
       "       1.        , 1.        , 1.        , 1.        , 0.        ,\n",
       "              nan,        nan, 0.68271136, 0.01526785, 0.6725153 ,\n",
       "       0.7518928 , 0.16327068, 0.02036078, 0.03419065,        nan],\n",
       "      dtype=float32)"
      ]
     },
     "execution_count": 101,
     "metadata": {},
     "output_type": "execute_result"
    }
   ],
   "source": [
    "norm_mat[0,0,:]"
   ]
  },
  {
   "cell_type": "code",
   "execution_count": 74,
   "metadata": {},
   "outputs": [
    {
     "data": {
      "image/png": "[encoded data removed]",
      "text/plain": [
       "<Figure size 1080x720 with 7 Axes>"
      ]
     },
     "metadata": {
      "needs_background": "light"
     },
     "output_type": "display_data"
    }
   ],
   "source": [
    "plt.figure(figsize=(15,10))\n",
    "for i in range(1,8):\n",
    "    plt.subplot(3,3,i)\n",
    "    plt.hist(norm_mat[:,:,i+21].flatten())"
   ]
  },
  {
   "cell_type": "code",
   "execution_count": 29,
   "metadata": {},
   "outputs": [
    {
     "data": {
      "text/plain": [
       "(array([ 46166.,      0.,      0.,      0.,      0.,      0.,      0.,\n",
       "             0.,      0., 203462.]),\n",
       " array([0.36787945, 0.43109152, 0.49430355, 0.5575156 , 0.62072766,\n",
       "        0.6839397 , 0.7471518 , 0.8103638 , 0.87357587, 0.93678796,\n",
       "        1.        ], dtype=float32),\n",
       " <a list of 10 Patch objects>)"
      ]
     },
     "execution_count": 29,
     "metadata": {},
     "output_type": "execute_result"
    },
    {
     "data": {
      "image/png": "[encoded data removed]",
      "text/plain": [
       "<Figure size 432x288 with 1 Axes>"
      ]
     },
     "metadata": {
      "needs_background": "light"
     },
     "output_type": "display_data"
    }
   ],
   "source": [
    "plt.hist(exp_mat[:,:,0].flatten())"
   ]
  },
  {
   "cell_type": "code",
   "execution_count": 172,
   "metadata": {},
   "outputs": [
    {
     "data": {
      "image/png": "[encoded data removed]",
      "text/plain": [
       "<Figure size 1080x720 with 8 Axes>"
      ]
     },
     "metadata": {
      "needs_background": "light"
     },
     "output_type": "display_data"
    }
   ],
   "source": [
    "#edge after normalization\n",
    "plt.figure(figsize=(15,10))\n",
    "for i in range(1,9):\n",
    "    plt.subplot(3,3,i)\n",
    "    plt.hist(tmp11[:,:,:,i-1].flatten())"
   ]
  },
  {
   "cell_type": "markdown",
   "metadata": {},
   "source": [
    "# Make Sure Test Set index match with node and edge features matrices"
   ]
  },
  {
   "cell_type": "code",
   "execution_count": 5,
   "metadata": {},
   "outputs": [],
   "source": [
    "import pickle as pkl\n",
    "import numpy as np"
   ]
  },
  {
   "cell_type": "code",
   "execution_count": 141,
   "metadata": {},
   "outputs": [],
   "source": [
    "# Binary HCV WT\n",
    "test = pkl.load(open(\"../../../ml-cleavage/Data/y_test_HCV_binary_0.3\",\"rb\"))\n",
    "X = pkl.load(open(\"../../../ml-cleavage/Data/X_test_HCV_binary_0.3\",\"rb\"))\n",
    "test_name = np.loadtxt(\"../../../ml-cleavage/Data/testset_HCV_binary_0.3.txt\",dtype='str')"
   ]
  },
  {
   "cell_type": "code",
   "execution_count": 45,
   "metadata": {},
   "outputs": [],
   "source": [
    "# Binary HCV ternary\n",
    "test = pkl.load(open(\"../../../ml-cleavage/Data/y_test_HCV_ternary_0.3\",\"rb\"))\n",
    "X = pkl.load(open(\"../../../ml-cleavage/Data/X_test_HCV_ternary_0.3\",\"rb\"))\n",
    "#test_name = np.loadtxt(\"../../../ml-cleavage/Data/testset_HCV_ternary_0.3.txt\",dtype='str')"
   ]
  },
  {
   "cell_type": "code",
   "execution_count": 131,
   "metadata": {},
   "outputs": [],
   "source": [
    "# Binary HCV \n",
    "test = pkl.load(open(\"../../../ml-cleavage/Data/y_test_Triple_binary_0.3\",\"rb\"))\n",
    "X = pkl.load(open(\"../../../ml-cleavage/Data/X_test_Triple_binary_0.3\",\"rb\"))"
   ]
  },
  {
   "cell_type": "code",
   "execution_count": 142,
   "metadata": {},
   "outputs": [
    {
     "data": {
      "text/plain": [
       "((2203, 1), (2203, 104))"
      ]
     },
     "execution_count": 142,
     "metadata": {},
     "output_type": "execute_result"
    }
   ],
   "source": [
    "test.shape,X.shape"
   ]
  },
  {
   "cell_type": "code",
   "execution_count": 143,
   "metadata": {},
   "outputs": [
    {
     "data": {
      "text/html": [
       "<div>\n",
       "<style scoped>\n",
       "    .dataframe tbody tr th:only-of-type {\n",
       "        vertical-align: middle;\n",
       "    }\n",
       "\n",
       "    .dataframe tbody tr th {\n",
       "        vertical-align: top;\n",
       "    }\n",
       "\n",
       "    .dataframe thead th {\n",
       "        text-align: right;\n",
       "    }\n",
       "</style>\n",
       "<table border=\"1\" class=\"dataframe\">\n",
       "  <thead>\n",
       "    <tr style=\"text-align: right;\">\n",
       "      <th></th>\n",
       "      <th>0</th>\n",
       "      <th>1</th>\n",
       "      <th>2</th>\n",
       "      <th>3</th>\n",
       "      <th>4</th>\n",
       "      <th>5</th>\n",
       "      <th>6</th>\n",
       "      <th>7</th>\n",
       "      <th>8</th>\n",
       "      <th>9</th>\n",
       "      <th>...</th>\n",
       "      <th>94</th>\n",
       "      <th>95</th>\n",
       "      <th>96</th>\n",
       "      <th>97</th>\n",
       "      <th>98</th>\n",
       "      <th>99</th>\n",
       "      <th>prot</th>\n",
       "      <th>pept</th>\n",
       "      <th>cst</th>\n",
       "      <th>amber</th>\n",
       "    </tr>\n",
       "  </thead>\n",
       "  <tbody>\n",
       "    <tr>\n",
       "      <th>YYTIQ</th>\n",
       "      <td>0.0</td>\n",
       "      <td>0.0</td>\n",
       "      <td>0.0</td>\n",
       "      <td>0.0</td>\n",
       "      <td>0.0</td>\n",
       "      <td>0.0</td>\n",
       "      <td>0.0</td>\n",
       "      <td>0.0</td>\n",
       "      <td>0.0</td>\n",
       "      <td>0.0</td>\n",
       "      <td>...</td>\n",
       "      <td>0.0</td>\n",
       "      <td>0.0</td>\n",
       "      <td>0.0</td>\n",
       "      <td>0.0</td>\n",
       "      <td>0.0</td>\n",
       "      <td>0.0</td>\n",
       "      <td>0.492153</td>\n",
       "      <td>0.422395</td>\n",
       "      <td>0.357909</td>\n",
       "      <td>0.559957</td>\n",
       "    </tr>\n",
       "    <tr>\n",
       "      <th>YYTHY</th>\n",
       "      <td>0.0</td>\n",
       "      <td>0.0</td>\n",
       "      <td>0.0</td>\n",
       "      <td>0.0</td>\n",
       "      <td>0.0</td>\n",
       "      <td>0.0</td>\n",
       "      <td>0.0</td>\n",
       "      <td>0.0</td>\n",
       "      <td>0.0</td>\n",
       "      <td>0.0</td>\n",
       "      <td>...</td>\n",
       "      <td>0.0</td>\n",
       "      <td>0.0</td>\n",
       "      <td>0.0</td>\n",
       "      <td>0.0</td>\n",
       "      <td>0.0</td>\n",
       "      <td>1.0</td>\n",
       "      <td>0.183807</td>\n",
       "      <td>0.431294</td>\n",
       "      <td>0.006166</td>\n",
       "      <td>0.577931</td>\n",
       "    </tr>\n",
       "    <tr>\n",
       "      <th>YYSMN</th>\n",
       "      <td>0.0</td>\n",
       "      <td>0.0</td>\n",
       "      <td>0.0</td>\n",
       "      <td>0.0</td>\n",
       "      <td>0.0</td>\n",
       "      <td>0.0</td>\n",
       "      <td>0.0</td>\n",
       "      <td>0.0</td>\n",
       "      <td>0.0</td>\n",
       "      <td>0.0</td>\n",
       "      <td>...</td>\n",
       "      <td>0.0</td>\n",
       "      <td>0.0</td>\n",
       "      <td>0.0</td>\n",
       "      <td>0.0</td>\n",
       "      <td>0.0</td>\n",
       "      <td>0.0</td>\n",
       "      <td>0.411426</td>\n",
       "      <td>0.499226</td>\n",
       "      <td>0.467895</td>\n",
       "      <td>0.571458</td>\n",
       "    </tr>\n",
       "    <tr>\n",
       "      <th>YVPIP</th>\n",
       "      <td>0.0</td>\n",
       "      <td>0.0</td>\n",
       "      <td>0.0</td>\n",
       "      <td>0.0</td>\n",
       "      <td>0.0</td>\n",
       "      <td>0.0</td>\n",
       "      <td>0.0</td>\n",
       "      <td>0.0</td>\n",
       "      <td>0.0</td>\n",
       "      <td>0.0</td>\n",
       "      <td>...</td>\n",
       "      <td>0.0</td>\n",
       "      <td>0.0</td>\n",
       "      <td>0.0</td>\n",
       "      <td>0.0</td>\n",
       "      <td>0.0</td>\n",
       "      <td>0.0</td>\n",
       "      <td>0.326437</td>\n",
       "      <td>0.195073</td>\n",
       "      <td>0.023845</td>\n",
       "      <td>0.567341</td>\n",
       "    </tr>\n",
       "    <tr>\n",
       "      <th>YVIHP</th>\n",
       "      <td>0.0</td>\n",
       "      <td>0.0</td>\n",
       "      <td>0.0</td>\n",
       "      <td>0.0</td>\n",
       "      <td>0.0</td>\n",
       "      <td>0.0</td>\n",
       "      <td>0.0</td>\n",
       "      <td>0.0</td>\n",
       "      <td>0.0</td>\n",
       "      <td>0.0</td>\n",
       "      <td>...</td>\n",
       "      <td>0.0</td>\n",
       "      <td>0.0</td>\n",
       "      <td>0.0</td>\n",
       "      <td>0.0</td>\n",
       "      <td>0.0</td>\n",
       "      <td>0.0</td>\n",
       "      <td>0.514907</td>\n",
       "      <td>0.300432</td>\n",
       "      <td>0.552001</td>\n",
       "      <td>0.591670</td>\n",
       "    </tr>\n",
       "  </tbody>\n",
       "</table>\n",
       "<p>5 rows × 104 columns</p>\n",
       "</div>"
      ],
      "text/plain": [
       "         0    1    2    3    4    5    6    7    8    9    ...      94   95  \\\n",
       "YYTIQ  0.0  0.0  0.0  0.0  0.0  0.0  0.0  0.0  0.0  0.0    ...     0.0  0.0   \n",
       "YYTHY  0.0  0.0  0.0  0.0  0.0  0.0  0.0  0.0  0.0  0.0    ...     0.0  0.0   \n",
       "YYSMN  0.0  0.0  0.0  0.0  0.0  0.0  0.0  0.0  0.0  0.0    ...     0.0  0.0   \n",
       "YVPIP  0.0  0.0  0.0  0.0  0.0  0.0  0.0  0.0  0.0  0.0    ...     0.0  0.0   \n",
       "YVIHP  0.0  0.0  0.0  0.0  0.0  0.0  0.0  0.0  0.0  0.0    ...     0.0  0.0   \n",
       "\n",
       "        96   97   98   99      prot      pept       cst     amber  \n",
       "YYTIQ  0.0  0.0  0.0  0.0  0.492153  0.422395  0.357909  0.559957  \n",
       "YYTHY  0.0  0.0  0.0  1.0  0.183807  0.431294  0.006166  0.577931  \n",
       "YYSMN  0.0  0.0  0.0  0.0  0.411426  0.499226  0.467895  0.571458  \n",
       "YVPIP  0.0  0.0  0.0  0.0  0.326437  0.195073  0.023845  0.567341  \n",
       "YVIHP  0.0  0.0  0.0  0.0  0.514907  0.300432  0.552001  0.591670  \n",
       "\n",
       "[5 rows x 104 columns]"
      ]
     },
     "execution_count": 143,
     "metadata": {},
     "output_type": "execute_result"
    }
   ],
   "source": [
    "X.head()"
   ]
  },
  {
   "cell_type": "code",
   "execution_count": 47,
   "metadata": {},
   "outputs": [
    {
     "data": {
      "text/html": [
       "<div>\n",
       "<style scoped>\n",
       "    .dataframe tbody tr th:only-of-type {\n",
       "        vertical-align: middle;\n",
       "    }\n",
       "\n",
       "    .dataframe tbody tr th {\n",
       "        vertical-align: top;\n",
       "    }\n",
       "\n",
       "    .dataframe thead th {\n",
       "        text-align: right;\n",
       "    }\n",
       "</style>\n",
       "<table border=\"1\" class=\"dataframe\">\n",
       "  <thead>\n",
       "    <tr style=\"text-align: right;\">\n",
       "      <th></th>\n",
       "      <th>0</th>\n",
       "      <th>1</th>\n",
       "      <th>2</th>\n",
       "      <th>3</th>\n",
       "      <th>4</th>\n",
       "      <th>5</th>\n",
       "      <th>6</th>\n",
       "      <th>7</th>\n",
       "      <th>8</th>\n",
       "      <th>9</th>\n",
       "      <th>...</th>\n",
       "      <th>94</th>\n",
       "      <th>95</th>\n",
       "      <th>96</th>\n",
       "      <th>97</th>\n",
       "      <th>98</th>\n",
       "      <th>99</th>\n",
       "      <th>prot</th>\n",
       "      <th>pept</th>\n",
       "      <th>cst</th>\n",
       "      <th>amber</th>\n",
       "    </tr>\n",
       "    <tr>\n",
       "      <th>0</th>\n",
       "      <th></th>\n",
       "      <th></th>\n",
       "      <th></th>\n",
       "      <th></th>\n",
       "      <th></th>\n",
       "      <th></th>\n",
       "      <th></th>\n",
       "      <th></th>\n",
       "      <th></th>\n",
       "      <th></th>\n",
       "      <th></th>\n",
       "      <th></th>\n",
       "      <th></th>\n",
       "      <th></th>\n",
       "      <th></th>\n",
       "      <th></th>\n",
       "      <th></th>\n",
       "      <th></th>\n",
       "      <th></th>\n",
       "      <th></th>\n",
       "      <th></th>\n",
       "    </tr>\n",
       "  </thead>\n",
       "  <tbody>\n",
       "    <tr>\n",
       "      <th>SNVAT</th>\n",
       "      <td>0.0</td>\n",
       "      <td>0.0</td>\n",
       "      <td>0.0</td>\n",
       "      <td>0.0</td>\n",
       "      <td>0.0</td>\n",
       "      <td>0.0</td>\n",
       "      <td>0.0</td>\n",
       "      <td>0.0</td>\n",
       "      <td>0.0</td>\n",
       "      <td>0.0</td>\n",
       "      <td>...</td>\n",
       "      <td>0.0</td>\n",
       "      <td>0.0</td>\n",
       "      <td>1.0</td>\n",
       "      <td>0.0</td>\n",
       "      <td>0.0</td>\n",
       "      <td>0.0</td>\n",
       "      <td>0.648126</td>\n",
       "      <td>0.581764</td>\n",
       "      <td>0.375361</td>\n",
       "      <td>0.572185</td>\n",
       "    </tr>\n",
       "    <tr>\n",
       "      <th>NPTTN</th>\n",
       "      <td>0.0</td>\n",
       "      <td>0.0</td>\n",
       "      <td>0.0</td>\n",
       "      <td>0.0</td>\n",
       "      <td>0.0</td>\n",
       "      <td>0.0</td>\n",
       "      <td>0.0</td>\n",
       "      <td>0.0</td>\n",
       "      <td>0.0</td>\n",
       "      <td>0.0</td>\n",
       "      <td>...</td>\n",
       "      <td>0.0</td>\n",
       "      <td>0.0</td>\n",
       "      <td>0.0</td>\n",
       "      <td>0.0</td>\n",
       "      <td>0.0</td>\n",
       "      <td>0.0</td>\n",
       "      <td>0.539774</td>\n",
       "      <td>0.409017</td>\n",
       "      <td>0.421289</td>\n",
       "      <td>0.566680</td>\n",
       "    </tr>\n",
       "    <tr>\n",
       "      <th>RTQMN</th>\n",
       "      <td>0.0</td>\n",
       "      <td>0.0</td>\n",
       "      <td>0.0</td>\n",
       "      <td>0.0</td>\n",
       "      <td>0.0</td>\n",
       "      <td>0.0</td>\n",
       "      <td>0.0</td>\n",
       "      <td>0.0</td>\n",
       "      <td>0.0</td>\n",
       "      <td>0.0</td>\n",
       "      <td>...</td>\n",
       "      <td>0.0</td>\n",
       "      <td>0.0</td>\n",
       "      <td>0.0</td>\n",
       "      <td>0.0</td>\n",
       "      <td>0.0</td>\n",
       "      <td>0.0</td>\n",
       "      <td>0.429988</td>\n",
       "      <td>0.627109</td>\n",
       "      <td>0.426487</td>\n",
       "      <td>0.697192</td>\n",
       "    </tr>\n",
       "    <tr>\n",
       "      <th>VGGVL</th>\n",
       "      <td>0.0</td>\n",
       "      <td>0.0</td>\n",
       "      <td>0.0</td>\n",
       "      <td>0.0</td>\n",
       "      <td>0.0</td>\n",
       "      <td>0.0</td>\n",
       "      <td>0.0</td>\n",
       "      <td>0.0</td>\n",
       "      <td>0.0</td>\n",
       "      <td>0.0</td>\n",
       "      <td>...</td>\n",
       "      <td>0.0</td>\n",
       "      <td>0.0</td>\n",
       "      <td>0.0</td>\n",
       "      <td>0.0</td>\n",
       "      <td>0.0</td>\n",
       "      <td>0.0</td>\n",
       "      <td>0.306550</td>\n",
       "      <td>0.556800</td>\n",
       "      <td>0.044010</td>\n",
       "      <td>0.574459</td>\n",
       "    </tr>\n",
       "    <tr>\n",
       "      <th>TMQPP</th>\n",
       "      <td>0.0</td>\n",
       "      <td>0.0</td>\n",
       "      <td>0.0</td>\n",
       "      <td>0.0</td>\n",
       "      <td>0.0</td>\n",
       "      <td>0.0</td>\n",
       "      <td>0.0</td>\n",
       "      <td>0.0</td>\n",
       "      <td>0.0</td>\n",
       "      <td>0.0</td>\n",
       "      <td>...</td>\n",
       "      <td>0.0</td>\n",
       "      <td>0.0</td>\n",
       "      <td>0.0</td>\n",
       "      <td>0.0</td>\n",
       "      <td>0.0</td>\n",
       "      <td>0.0</td>\n",
       "      <td>0.695716</td>\n",
       "      <td>0.349965</td>\n",
       "      <td>0.340170</td>\n",
       "      <td>0.583967</td>\n",
       "    </tr>\n",
       "  </tbody>\n",
       "</table>\n",
       "<p>5 rows × 104 columns</p>\n",
       "</div>"
      ],
      "text/plain": [
       "         0    1    2    3    4    5    6    7    8    9    ...      94   95  \\\n",
       "0                                                          ...                \n",
       "SNVAT  0.0  0.0  0.0  0.0  0.0  0.0  0.0  0.0  0.0  0.0    ...     0.0  0.0   \n",
       "NPTTN  0.0  0.0  0.0  0.0  0.0  0.0  0.0  0.0  0.0  0.0    ...     0.0  0.0   \n",
       "RTQMN  0.0  0.0  0.0  0.0  0.0  0.0  0.0  0.0  0.0  0.0    ...     0.0  0.0   \n",
       "VGGVL  0.0  0.0  0.0  0.0  0.0  0.0  0.0  0.0  0.0  0.0    ...     0.0  0.0   \n",
       "TMQPP  0.0  0.0  0.0  0.0  0.0  0.0  0.0  0.0  0.0  0.0    ...     0.0  0.0   \n",
       "\n",
       "        96   97   98   99      prot      pept       cst     amber  \n",
       "0                                                                  \n",
       "SNVAT  1.0  0.0  0.0  0.0  0.648126  0.581764  0.375361  0.572185  \n",
       "NPTTN  0.0  0.0  0.0  0.0  0.539774  0.409017  0.421289  0.566680  \n",
       "RTQMN  0.0  0.0  0.0  0.0  0.429988  0.627109  0.426487  0.697192  \n",
       "VGGVL  0.0  0.0  0.0  0.0  0.306550  0.556800  0.044010  0.574459  \n",
       "TMQPP  0.0  0.0  0.0  0.0  0.695716  0.349965  0.340170  0.583967  \n",
       "\n",
       "[5 rows x 104 columns]"
      ]
     },
     "execution_count": 47,
     "metadata": {},
     "output_type": "execute_result"
    }
   ],
   "source": [
    "X.index = test.index\n",
    "X.head()"
   ]
  },
  {
   "cell_type": "code",
   "execution_count": 48,
   "metadata": {},
   "outputs": [],
   "source": [
    "#pkl.dump(X, open(\"../../../ml-cleavage/Data/X_test_HCV_ternary_0.3\",\"wb\"))"
   ]
  },
  {
   "cell_type": "code",
   "execution_count": 144,
   "metadata": {},
   "outputs": [],
   "source": [
    "#test_name = test.index.values\n",
    "test_name = ['A' + x + 'C.ASHL' for x in test.index.values]"
   ]
  },
  {
   "cell_type": "code",
   "execution_count": 145,
   "metadata": {},
   "outputs": [
    {
     "data": {
      "text/plain": [
       "2203"
      ]
     },
     "execution_count": 145,
     "metadata": {},
     "output_type": "execute_result"
    }
   ],
   "source": [
    "len(test_name)"
   ]
  },
  {
   "cell_type": "code",
   "execution_count": 31,
   "metadata": {},
   "outputs": [
    {
     "data": {
      "text/html": [
       "<div>\n",
       "<style scoped>\n",
       "    .dataframe tbody tr th:only-of-type {\n",
       "        vertical-align: middle;\n",
       "    }\n",
       "\n",
       "    .dataframe tbody tr th {\n",
       "        vertical-align: top;\n",
       "    }\n",
       "\n",
       "    .dataframe thead th {\n",
       "        text-align: right;\n",
       "    }\n",
       "</style>\n",
       "<table border=\"1\" class=\"dataframe\">\n",
       "  <thead>\n",
       "    <tr style=\"text-align: right;\">\n",
       "      <th></th>\n",
       "      <th>1</th>\n",
       "    </tr>\n",
       "  </thead>\n",
       "  <tbody>\n",
       "    <tr>\n",
       "      <th>PSPVV</th>\n",
       "      <td>CLEAVED</td>\n",
       "    </tr>\n",
       "    <tr>\n",
       "      <th>PSPVV</th>\n",
       "      <td>UNCLEAVED</td>\n",
       "    </tr>\n",
       "  </tbody>\n",
       "</table>\n",
       "</div>"
      ],
      "text/plain": [
       "               1\n",
       "PSPVV    CLEAVED\n",
       "PSPVV  UNCLEAVED"
      ]
     },
     "execution_count": 31,
     "metadata": {},
     "output_type": "execute_result"
    }
   ],
   "source": [
    "test.loc['PSPVV',:]"
   ]
  },
  {
   "cell_type": "code",
   "execution_count": null,
   "metadata": {},
   "outputs": [],
   "source": [
    "graph = pkl.load(open(\"../data/ind.HCV_binary_10_ang_aa_sinusoidal_encoding_2_energy_7_energyedge_5_hbond.graph\",\"rb\"))\n",
    "x = pkl.load(open(\"../data/ind.HCV_binary_10_ang_aa_sinusoidal_encoding_2_energy_7_energyedge_5_hbond.x\",\"rb\"))\n",
    "y = pkl.load(open(\"../data/ind.HCV_binary_10_ang_aa_sinusoidal_encoding_2_energy_7_energyedge_5_hbond.y\",\"rb\"))\n",
    "sequences = pkl.load(open(\"../data/ind.HCV_binary_10_ang_aa_sinusoidal_encoding_2_energy_7_energyedge_5_hbond.sequences\",\"rb\"))\n",
    "labelorder = pkl.load(open(\"../data/ind.HCV_binary_10_ang_aa_sinusoidal_encoding_2_energy_7_energyedge_5_hbond.labelorder\",\"rb\"))\n"
   ]
  },
  {
   "cell_type": "code",
   "execution_count": 20,
   "metadata": {},
   "outputs": [],
   "source": [
    "input_test = np.loadtxt(\"../../../ml-cleavage/Data/ind.HCV_ternary_selector_10_ang_params_except_sin_cos_center.test.index\")"
   ]
  },
  {
   "cell_type": "code",
   "execution_count": 22,
   "metadata": {},
   "outputs": [
    {
     "data": {
      "text/plain": [
       "2621"
      ]
     },
     "execution_count": 22,
     "metadata": {},
     "output_type": "execute_result"
    }
   ],
   "source": [
    "len(input_test)"
   ]
  },
  {
   "cell_type": "code",
   "execution_count": 146,
   "metadata": {},
   "outputs": [],
   "source": [
    "def generate_test_index(dataset_name, test_name): # eg. for test_name: testset_HCV_binary_0.3.txt \n",
    "    sequences = pkl.load(open(\"../data/ind.{}.sequences\".format(dataset_name),\"rb\"))\n",
    "    seqs = np.asarray(sequences)\n",
    "    if type(test_name) == 'str':\n",
    "        test_list = np.loadtxt(test_name,dtype=\"str\")\n",
    "    else:\n",
    "        test_list = np.asarray(test_name)\n",
    "    test_ind = []\n",
    "    for i in range(len(test_list)):\n",
    "        test_ind.append(np.where(seqs == test_list[i])[0][0])\n",
    "\n",
    "    np.savetxt(\"../data/ind.{}.test.index\".format(dataset_name),test_ind, fmt=\"%d\")\n",
    "    return test_ind"
   ]
  },
  {
   "cell_type": "code",
   "execution_count": 147,
   "metadata": {},
   "outputs": [],
   "source": [
    "new_ind = generate_test_index(\"HCV_binary_10_ang_aa_energy_7_energyedge_5_hbond\", test_name)"
   ]
  },
  {
   "cell_type": "code",
   "execution_count": 81,
   "metadata": {},
   "outputs": [
    {
     "data": {
      "text/plain": [
       "2618"
      ]
     },
     "execution_count": 81,
     "metadata": {},
     "output_type": "execute_result"
    }
   ],
   "source": [
    "len(test_name)"
   ]
  },
  {
   "cell_type": "code",
   "execution_count": 148,
   "metadata": {},
   "outputs": [],
   "source": [
    "test_index = np.loadtxt(\"../data/ind.HCV_binary_10_ang_aa_energy_7_energyedge_5_hbond.test.index\",dtype=int)\n"
   ]
  },
  {
   "cell_type": "code",
   "execution_count": 149,
   "metadata": {},
   "outputs": [
    {
     "data": {
      "text/plain": [
       "array([   2,    3,    8, ..., 7338, 7339,  840])"
      ]
     },
     "execution_count": 149,
     "metadata": {},
     "output_type": "execute_result"
    }
   ],
   "source": [
    "test_index"
   ]
  },
  {
   "cell_type": "code",
   "execution_count": 150,
   "metadata": {},
   "outputs": [
    {
     "data": {
      "text/plain": [
       "array([   2,    3,    8, ..., 7338, 7339,  840])"
      ]
     },
     "execution_count": 150,
     "metadata": {},
     "output_type": "execute_result"
    }
   ],
   "source": [
    "old_ind = np.loadtxt(\"../../../ml-cleavage/Data/ind.protease_HCV_selector_10_ang_params_all_in.test.index\",dtype=int)\n",
    "old_ind"
   ]
  },
  {
   "cell_type": "markdown",
   "metadata": {},
   "source": [
    "# Cross Validation code modification"
   ]
  },
  {
   "cell_type": "code",
   "execution_count": 31,
   "metadata": {},
   "outputs": [],
   "source": [
    "import torch\n",
    "import sys\n",
    "import numpy as np\n",
    "import pandas as pd\n",
    "import pickle as pkl\n",
    "import scipy.sparse as sp\n",
    "import os"
   ]
  },
  {
   "cell_type": "code",
   "execution_count": 3,
   "metadata": {},
   "outputs": [],
   "source": [
    "graph = pkl.load(open(\"../data/ind.HCV_binary_10_ang_aa_sinusoidal_encoding_2_energy_7_energyedge_5_hbond.graph\",\"rb\"))\n",
    "x = pkl.load(open(\"../data/ind.HCV_binary_10_ang_aa_sinusoidal_encoding_2_energy_7_energyedge_5_hbond.x\",\"rb\"))\n",
    "y = pkl.load(open(\"../data/ind.HCV_binary_10_ang_aa_sinusoidal_encoding_2_energy_7_energyedge_5_hbond.y\",\"rb\"))\n",
    "sequences = pkl.load(open(\"../data/ind.HCV_binary_10_ang_aa_sinusoidal_encoding_2_energy_7_energyedge_5_hbond.sequences\",\"rb\"))\n",
    "labelorder = pkl.load(open(\"../data/ind.HCV_binary_10_ang_aa_sinusoidal_encoding_2_energy_7_energyedge_5_hbond.labelorder\",\"rb\"))\n",
    "input_test = np.loadtxt(\"../data/ind.HCV_binary_10_ang_aa_sinusoidal_encoding_4_energy_7_energyedge_5_hbond.test.index\",dtype=int)"
   ]
  },
  {
   "cell_type": "code",
   "execution_count": 32,
   "metadata": {},
   "outputs": [],
   "source": [
    "def sample_mask(idx, l):\n",
    "    \"\"\"Create mask.\"\"\"\n",
    "    mask = np.zeros(l)\n",
    "    mask[idx] = 1\n",
    "    return np.array(mask, dtype=np.bool)"
   ]
  },
  {
   "cell_type": "code",
   "execution_count": 5,
   "metadata": {},
   "outputs": [],
   "source": [
    "protease = 'HCV'\n",
    "names = ['x', 'y', 'graph', 'sequences', 'labelorder']\n",
    "objects = [x, y, graph, sequences, labelorder]\n",
    "\n",
    "features, y_arr, adj_ls, sequences, labelorder = tuple(objects)\n",
    "proteases = [protease for x in sequences]\n",
    "# turn edges into nodes\n",
    "# node feature matrix\n",
    "\n",
    "# Split all datasets into testing, training, and validation. The split of this data is fixed for each dataset\n",
    "# because the numpy seed is fixed, currently the breakdown is train: 60, validation: 10, test: 30\n",
    "idx = [y_ind for y_ind in range(y_arr.shape[0])]\n",
    "np.random.shuffle(idx)\n",
    "cutoff_1 = int(6*len(idx)/10)\n",
    "cutoff_2 = int(7*len(idx)/10)\n",
    "idx_train = idx[:cutoff_1]\n",
    "idx_val = idx[cutoff_1:cutoff_2]\n",
    "idx_test = idx[cutoff_2:]\n",
    "idx_train, idx_val, idx_test = np.sort(idx_train), np.sort(idx_val), np.sort(idx_test)\n",
    "# make logical indices (they are the size BATCH)\n",
    "train_mask = sample_mask(idx_train, y_arr.shape[0])\n",
    "val_mask = sample_mask(idx_val, y_arr.shape[0])\n",
    "test_mask = sample_mask(idx_test, y_arr.shape[0])"
   ]
  },
  {
   "cell_type": "code",
   "execution_count": 6,
   "metadata": {},
   "outputs": [],
   "source": [
    "test_idx_reorder = input_test\n",
    "test_idx_range = np.sort(test_idx_reorder)\n",
    "test_mask = np.zeros(len(train_mask), dtype=np.bool)\n",
    "test_mask[test_idx_range] = True\n",
    "# make train test split\n",
    "tmp_mask = test_mask.copy()\n",
    "train_mask = np.array([(not idx) for idx in test_mask],dtype=np.bool)\n",
    "\n",
    "train_ind = set(range(len(train_mask))) - set(test_idx_range)\n",
    "val_ind = np.random.choice(list(train_ind), int(len(train_mask)*0.1),replace=False)\n",
    "\n",
    "val_mask = np.zeros(len(train_mask), dtype=np.bool)\n",
    "val_mask[val_ind] = True\n",
    "tmp_mask[val_ind] = True\n",
    "train_mask = np.array([(not idx) for idx in tmp_mask], dtype=np.bool)\n"
   ]
  },
  {
   "cell_type": "code",
   "execution_count": 7,
   "metadata": {},
   "outputs": [],
   "source": [
    "cv = 7\n",
    "cv_aux = np.array_split(np.where(train_mask == True)[0], cv-1)\n",
    "train_mask = []\n",
    "for i in cv_aux:\n",
    "    train_mask.append(sample_mask(i, y_arr.shape[0]))"
   ]
  },
  {
   "cell_type": "code",
   "execution_count": 8,
   "metadata": {},
   "outputs": [],
   "source": [
    "train_mask.append(val_mask)"
   ]
  },
  {
   "cell_type": "code",
   "execution_count": 9,
   "metadata": {},
   "outputs": [
    {
     "data": {
      "text/plain": [
       "[array([ True,  True, False, ..., False, False, False]),\n",
       " array([False, False, False, ..., False, False, False]),\n",
       " array([False, False, False, ..., False, False, False]),\n",
       " array([False, False, False, ..., False, False, False]),\n",
       " array([False, False, False, ..., False, False, False]),\n",
       " array([False, False, False, ..., False,  True,  True]),\n",
       " array([False, False, False, ..., False, False, False])]"
      ]
     },
     "execution_count": 9,
     "metadata": {},
     "output_type": "execute_result"
    }
   ],
   "source": [
    "train_mask"
   ]
  },
  {
   "cell_type": "code",
   "execution_count": 51,
   "metadata": {},
   "outputs": [
    {
     "ename": "ValueError",
     "evalue": "The truth value of an array with more than one element is ambiguous. Use a.any() or a.all()",
     "output_type": "error",
     "traceback": [
      "\u001b[0;31m---------------------------------------------------------------------------\u001b[0m",
      "\u001b[0;31mValueError\u001b[0m                                Traceback (most recent call last)",
      "\u001b[0;32m<ipython-input-51-d52dd5d78cb4>\u001b[0m in \u001b[0;36m<module>\u001b[0;34m\u001b[0m\n\u001b[0;32m----> 1\u001b[0;31m \u001b[0;34m[\u001b[0m\u001b[0;32mTrue\u001b[0m \u001b[0;32mfor\u001b[0m \u001b[0mx\u001b[0m \u001b[0;32min\u001b[0m \u001b[0mtrain_mask\u001b[0m \u001b[0;32mif\u001b[0m \u001b[0mx\u001b[0m \u001b[0;34m==\u001b[0m \u001b[0;32mTrue\u001b[0m\u001b[0;34m]\u001b[0m\u001b[0;34m\u001b[0m\u001b[0;34m\u001b[0m\u001b[0m\n\u001b[0m",
      "\u001b[0;32m<ipython-input-51-d52dd5d78cb4>\u001b[0m in \u001b[0;36m<listcomp>\u001b[0;34m(.0)\u001b[0m\n\u001b[0;32m----> 1\u001b[0;31m \u001b[0;34m[\u001b[0m\u001b[0;32mTrue\u001b[0m \u001b[0;32mfor\u001b[0m \u001b[0mx\u001b[0m \u001b[0;32min\u001b[0m \u001b[0mtrain_mask\u001b[0m \u001b[0;32mif\u001b[0m \u001b[0mx\u001b[0m \u001b[0;34m==\u001b[0m \u001b[0;32mTrue\u001b[0m\u001b[0;34m]\u001b[0m\u001b[0;34m\u001b[0m\u001b[0;34m\u001b[0m\u001b[0m\n\u001b[0m",
      "\u001b[0;31mValueError\u001b[0m: The truth value of an array with more than one element is ambiguous. Use a.any() or a.all()"
     ]
    }
   ],
   "source": [
    "[True for x in train_mask if x == True]"
   ]
  },
  {
   "cell_type": "code",
   "execution_count": 54,
   "metadata": {},
   "outputs": [
    {
     "data": {
      "text/plain": [
       "True"
      ]
     },
     "execution_count": 54,
     "metadata": {},
     "output_type": "execute_result"
    }
   ],
   "source": [
    "np.sum(train_mask[0],axis=0,dtype=bool)"
   ]
  },
  {
   "cell_type": "code",
   "execution_count": 55,
   "metadata": {},
   "outputs": [
    {
     "data": {
      "text/plain": [
       "array([False,  True, False, ..., False, False, False])"
      ]
     },
     "execution_count": 55,
     "metadata": {},
     "output_type": "execute_result"
    }
   ],
   "source": [
    "train_mask[-1]"
   ]
  },
  {
   "cell_type": "code",
   "execution_count": 60,
   "metadata": {},
   "outputs": [
    {
     "data": {
      "text/plain": [
       "[array([ True, False, False, ..., False, False, False]),\n",
       " array([False, False, False, ..., False, False, False]),\n",
       " array([False, False, False, ..., False, False, False]),\n",
       " array([False, False, False, ..., False, False, False]),\n",
       " array([False, False, False, ..., False,  True,  True]),\n",
       " array([False,  True, False, ..., False, False, False])]"
      ]
     },
     "execution_count": 60,
     "metadata": {},
     "output_type": "execute_result"
    }
   ],
   "source": [
    "tmp_mask = train_mask.copy()\n",
    "tmp_mask"
   ]
  },
  {
   "cell_type": "code",
   "execution_count": 61,
   "metadata": {},
   "outputs": [
    {
     "data": {
      "text/plain": [
       "array([ True, False, False, ..., False, False, False])"
      ]
     },
     "execution_count": 61,
     "metadata": {},
     "output_type": "execute_result"
    }
   ],
   "source": [
    "tmp_mask.pop(0)"
   ]
  },
  {
   "cell_type": "code",
   "execution_count": 62,
   "metadata": {},
   "outputs": [
    {
     "data": {
      "text/plain": [
       "[array([False, False, False, ..., False, False, False]),\n",
       " array([False, False, False, ..., False, False, False]),\n",
       " array([False, False, False, ..., False, False, False]),\n",
       " array([False, False, False, ..., False,  True,  True]),\n",
       " array([False,  True, False, ..., False, False, False])]"
      ]
     },
     "execution_count": 62,
     "metadata": {},
     "output_type": "execute_result"
    }
   ],
   "source": [
    "tmp_mask"
   ]
  },
  {
   "cell_type": "code",
   "execution_count": 63,
   "metadata": {},
   "outputs": [
    {
     "data": {
      "text/plain": [
       "[array([ True, False, False, ..., False, False, False]),\n",
       " array([False, False, False, ..., False, False, False]),\n",
       " array([False, False, False, ..., False, False, False]),\n",
       " array([False, False, False, ..., False, False, False]),\n",
       " array([False, False, False, ..., False,  True,  True]),\n",
       " array([False,  True, False, ..., False, False, False])]"
      ]
     },
     "execution_count": 63,
     "metadata": {},
     "output_type": "execute_result"
    }
   ],
   "source": [
    "train_mask"
   ]
  },
  {
   "cell_type": "code",
   "execution_count": 33,
   "metadata": {},
   "outputs": [],
   "source": [
    "def load_data(dataset_str, is_test=None, norm_type=False, cv=7):\n",
    "    protease = dataset_str.replace(\"protease_\",\"\")\n",
    "    protease = protease.split(\"_selector\")[0]\n",
    "    cwd = os.getcwd()\n",
    "    #os.chdir(\"..\")\n",
    "#    print(cwd)\n",
    "    names = ['x', 'y', 'graph', 'sequences', 'labelorder']\n",
    "    objects = []\n",
    "    for i in range(len(names)):\n",
    "        with open(\"../data/ind.{}.{}\".format(dataset_str, names[i]), 'rb') as f:\n",
    "            if sys.version_info > (3, 0):\n",
    "                objects.append(pkl.load(f, encoding='latin1'))\n",
    "            else:\n",
    "                objects.append(pkl.load(f))\n",
    "\n",
    "    features, y_arr, adj_ls, sequences, labelorder = tuple(objects)\n",
    "    #os.chdir(cwd)\n",
    "    proteases = [protease for x in sequences]\n",
    "\n",
    "    # turn edges into nodes\n",
    "    # node feature matrix\n",
    "\n",
    "    # Split all datasets into testing, training, and validation. The split of this data is fixed for each dataset\n",
    "    # because the numpy seed is fixed, currently the breakdown is train: 60, validation: 10, test: 30\n",
    "    idx = [y_ind for y_ind in range(y_arr.shape[0])]\n",
    "    np.random.shuffle(idx)\n",
    "    cutoff_1 = int((cv-1)*len(idx)/10)\n",
    "    cutoff_2 = int(cv*len(idx)/10)\n",
    "    idx_train = idx[:cutoff_1]\n",
    "    idx_val = idx[cutoff_1:cutoff_2]\n",
    "    idx_test = idx[cutoff_2:]\n",
    "    idx_train, idx_val, idx_test = np.sort(idx_train), np.sort(idx_val), np.sort(idx_test)\n",
    "    # make logical indices (they are the size BATCH)\n",
    "    train_mask = sample_mask(idx_train, y_arr.shape[0])\n",
    "    val_mask = sample_mask(idx_val, y_arr.shape[0])\n",
    "    test_mask = sample_mask(idx_test, y_arr.shape[0])\n",
    "\n",
    "    if is_test != None:\n",
    "        test_idx_reorder = parse_index_file(\"../data/ind.{}.test.index\".format(is_test))\n",
    "        test_idx_range = np.sort(test_idx_reorder)\n",
    "        test_mask = np.zeros(len(train_mask), dtype=np.bool)\n",
    "        test_mask[test_idx_range] = True\n",
    "        # make train test split\n",
    "        tmp_mask = test_mask.copy()\n",
    "        train_mask = np.array([(not idx) for idx in test_mask],dtype=np.bool)\n",
    "        \n",
    "        train_ind = set(range(len(train_mask))) - set(test_idx_range)\n",
    "        val_ind = np.random.choice(list(train_ind), int(len(train_mask)*0.1),replace=False)\n",
    "        \n",
    "        val_mask = np.zeros(len(train_mask), dtype=np.bool)\n",
    "        val_mask[val_ind] = True\n",
    "        tmp_mask[val_ind] = True\n",
    "        train_mask = np.array([(not idx) for idx in tmp_mask], dtype=np.bool)\n",
    "\n",
    "    if cv != 0:\n",
    "        idx = np.where(train_mask == True)[0]\n",
    "        np.random.shuffle(idx)\n",
    "        cv_aux = np.array_split(idx, cv-1)\n",
    "        train_mask = [val_mask]\n",
    "        for i in cv_aux:\n",
    "            train_mask.append(sample_mask(i, y_arr.shape[0]))\n",
    "        #train_mask.append(val_mask)\n",
    "    else:\n",
    "        train_mask = [val_mask, train_mask]\n",
    "#    features, adj_ls = rebuild_mat(features,adj_ls)\n",
    "#     features = transform(features,ind='(-8,-1)') #only energy features\n",
    "#     adj_ls = transform(adj_ls, ind='(0,6)') # only energy features\n",
    "\n",
    "#     adj_ls = normalize(adj_ls)\n",
    "    \n",
    "    features = torch.FloatTensor(np.array(features))\n",
    "    y_arr = torch.LongTensor(y_arr)\n",
    "    adj_ls = torch.FloatTensor(np.array(adj_ls))\n",
    "\n",
    "    return adj_ls, features, y_arr, sequences, proteases, labelorder, train_mask, test_mask"
   ]
  },
  {
   "cell_type": "code",
   "execution_count": 34,
   "metadata": {},
   "outputs": [],
   "source": [
    "adj_ls, features, labels, sequences, proteases, labelorder, train_mask, test_mask = load_data(\"HCV_binary_10_ang_aa_sinusoidal_encoding_2_energy_7_energyedge_5_hbond\", is_test=None, norm_type=False,cv=7)\n"
   ]
  },
  {
   "cell_type": "code",
   "execution_count": 53,
   "metadata": {},
   "outputs": [
    {
     "data": {
      "text/plain": [
       "[array([False, False, False, ..., False,  True, False]),\n",
       " array([False, False,  True, ..., False, False, False]),\n",
       " array([False, False, False, ..., False, False, False]),\n",
       " array([ True, False, False, ..., False, False, False]),\n",
       " array([False, False, False, ..., False, False, False]),\n",
       " array([False, False, False, ...,  True, False, False]),\n",
       " array([False, False, False, ..., False, False, False])]"
      ]
     },
     "execution_count": 53,
     "metadata": {},
     "output_type": "execute_result"
    }
   ],
   "source": [
    "train_mask"
   ]
  },
  {
   "cell_type": "code",
   "execution_count": 55,
   "metadata": {},
   "outputs": [
    {
     "data": {
      "text/plain": [
       "734"
      ]
     },
     "execution_count": 55,
     "metadata": {},
     "output_type": "execute_result"
    }
   ],
   "source": [
    "np.sum(train_mask[0])"
   ]
  },
  {
   "cell_type": "code",
   "execution_count": 56,
   "metadata": {},
   "outputs": [
    {
     "name": "stdout",
     "output_type": "stream",
     "text": [
      "[False False False ... False  True False] [ True False  True ...  True False False]\n",
      "[False False  True ... False False False] [ True False False ...  True  True False]\n",
      "[False False False ... False False False] [ True False  True ...  True  True False]\n",
      "[ True False False ... False False False] [False False  True ...  True  True False]\n",
      "[False False False ... False False False] [ True False  True ...  True  True False]\n",
      "[False False False ...  True False False] [ True False  True ... False  True False]\n",
      "[False False False ... False False False] [ True False  True ...  True  True False]\n"
     ]
    }
   ],
   "source": [
    "for fold in range(7):\n",
    "    tmp_mask = train_mask.copy()\n",
    "    val_mask = tmp_mask.pop(fold)\n",
    "   \n",
    "    train_mask_tmp = np.sum(tmp_mask, axis=0, dtype=bool)\n",
    "    print(val_mask, train_mask_tmp)"
   ]
  },
  {
   "cell_type": "code",
   "execution_count": 59,
   "metadata": {},
   "outputs": [
    {
     "data": {
      "text/plain": [
       "4405"
      ]
     },
     "execution_count": 59,
     "metadata": {},
     "output_type": "execute_result"
    }
   ],
   "source": [
    "np.sum(train_mask_tmp)"
   ]
  },
  {
   "cell_type": "code",
   "execution_count": 12,
   "metadata": {},
   "outputs": [],
   "source": [
    "os.chdir('../model/')\n",
    "from utils import *\n",
    "from models import GCN"
   ]
  },
  {
   "cell_type": "code",
   "execution_count": 13,
   "metadata": {},
   "outputs": [],
   "source": [
    "import os\n",
    "import time\n",
    "import logging\n",
    "import argparse\n",
    "import numpy as np\n",
    "import pandas as pd\n",
    "\n",
    "import torch\n",
    "import torch.nn as nn\n",
    "import torch.nn.functional as F\n",
    "import torch.optim as optim\n",
    "from torch.utils.data import DataLoader\n",
    "import torchvision.datasets as datasets\n",
    "import torchvision.transforms as transforms\n",
    "import math\n",
    "import scipy.sparse as sp\n",
    "from torch.nn.parameter import Parameter"
   ]
  },
  {
   "cell_type": "code",
   "execution_count": 279,
   "metadata": {},
   "outputs": [],
   "source": [
    "import torch\n",
    "import torch.nn as nn\n",
    "import torch.nn.functional as F\n",
    "import torch.optim as optim\n",
    "from torch.nn.parameter import Parameter"
   ]
  },
  {
   "cell_type": "code",
   "execution_count": 60,
   "metadata": {},
   "outputs": [],
   "source": [
    "# Model and optimizer\n",
    "model2 = GCN(nnode=features.shape[1],\n",
    "        nfeat=features.shape[2],\n",
    "        mfeat=adj_ls.shape[3],\n",
    "        hidden1=20,\n",
    "        hidden2=20,\n",
    "        natt=0, # one layer\n",
    "        nclass=labels.shape[1],\n",
    "        dropout=0.01,\n",
    "        cheby=None)"
   ]
  },
  {
   "cell_type": "code",
   "execution_count": 61,
   "metadata": {},
   "outputs": [],
   "source": [
    "criterion = nn.CrossEntropyLoss()\n",
    "optimizer = optim.Adam(model2.parameters(),lr=5e-3, weight_decay=0.001)"
   ]
  },
  {
   "cell_type": "code",
   "execution_count": 262,
   "metadata": {},
   "outputs": [],
   "source": [
    "torch.save({'state_dict': model2.state_dict()}, 'temp.pth')"
   ]
  },
  {
   "cell_type": "code",
   "execution_count": 242,
   "metadata": {},
   "outputs": [
    {
     "data": {
      "text/plain": [
       "<All keys matched successfully>"
      ]
     },
     "execution_count": 242,
     "metadata": {},
     "output_type": "execute_result"
    }
   ],
   "source": [
    "checkpoint = torch.load('temp.pth')\n",
    "model2.load_state_dict(checkpoint['state_dict'])"
   ]
  },
  {
   "cell_type": "code",
   "execution_count": 74,
   "metadata": {},
   "outputs": [],
   "source": [
    "batch_size = 8\n",
    "n = 0\n",
    "checkpoint = torch.load('temp.pth')\n",
    "model2.load_state_dict(checkpoint['state_dict'])\n",
    "for batch_mask in get_batch_iterator(train_mask_tmp, batch_size):\n",
    "            optimizer.zero_grad()\n",
    "            n = n + 1\n",
    "            #print('{0}th fold:: this is the {1}th batch'.format(fold+1, n))\n",
    "            x = features[batch_mask]\n",
    "            y = labels[batch_mask]\n",
    "            y = torch.argmax(y,axis=1)\n",
    "            adj = adj_ls[batch_mask]\n",
    "            model2.train()\n",
    "            logits = model2(x, adj)\n",
    "            loss = criterion(logits,y)\n",
    "            loss.backward()\n",
    "            optimizer.step()\n",
    "            train_acc = accuracy(logits, y)\n",
    "            break"
   ]
  },
  {
   "cell_type": "code",
   "execution_count": 67,
   "metadata": {},
   "outputs": [
    {
     "data": {
      "text/plain": [
       "tensor([[0.5011, 0.4989],\n",
       "        [0.4824, 0.5176],\n",
       "        [0.5041, 0.4959],\n",
       "        [0.4966, 0.5034],\n",
       "        [0.4989, 0.5011],\n",
       "        [0.5080, 0.4920],\n",
       "        [0.5063, 0.4937],\n",
       "        [0.5044, 0.4956]], grad_fn=<SoftmaxBackward>)"
      ]
     },
     "execution_count": 67,
     "metadata": {},
     "output_type": "execute_result"
    }
   ],
   "source": [
    "logits"
   ]
  },
  {
   "cell_type": "code",
   "execution_count": 68,
   "metadata": {},
   "outputs": [
    {
     "name": "stdout",
     "output_type": "stream",
     "text": [
      "Parameter containing:\n",
      "tensor([[ 0.0044],\n",
      "        [-0.0039],\n",
      "        [-0.0045],\n",
      "        [ 0.0049],\n",
      "        [ 0.0040],\n",
      "        [ 0.0049],\n",
      "        [-0.0046],\n",
      "        [-0.0045]], requires_grad=True)\n",
      "Parameter containing:\n",
      "tensor([0.9950, 0.9950, 0.9950, 0.9950, 0.9950, 0.9950, 0.9950, 0.9950, 0.9950,\n",
      "        0.9950, 0.9950, 0.9950, 0.9950, 0.9950, 0.9950, 0.9950, 0.9950, 0.9950,\n",
      "        0.9950, 0.9950, 0.9950, 0.9950, 0.9950, 0.9950, 0.9950, 0.9950, 0.9950,\n",
      "        0.9950, 0.9950, 0.9950, 0.9950, 0.9950, 0.9950, 0.9950],\n",
      "       requires_grad=True)\n",
      "Parameter containing:\n",
      "tensor([-2.0311e-27, -2.3056e-27, -4.3306e-27, -2.1947e-27, -3.3823e-28,\n",
      "         2.4004e-27, -1.4695e-27,  2.0222e-27,  2.8979e-27, -2.2958e-28,\n",
      "        -3.1752e-27, -2.8976e-28,  2.0542e-28, -5.0391e-28,  7.9744e-28,\n",
      "         1.2284e-27,  1.0262e-27, -1.2304e-27, -4.8438e-27, -1.4898e-27,\n",
      "        -2.3813e-27,  3.9729e-28,  4.8883e-28, -6.7035e-29, -1.6111e-27,\n",
      "        -7.4755e-28,  5.6809e-28, -2.7275e-27,  1.1976e-27,  2.4718e-27,\n",
      "         1.7857e-28,  3.0125e-28,  2.6795e-27, -1.4303e-28],\n",
      "       requires_grad=True)\n",
      "Parameter containing:\n",
      "tensor([1.0042, 1.0025, 0.9955, 0.9951, 1.0043, 0.9957, 0.9956, 0.9955, 1.0039,\n",
      "        1.0043, 0.9955, 1.0041, 1.0043, 1.0043, 1.0043, 1.0043, 1.0041, 1.0043,\n",
      "        0.9953, 0.9954, 1.0036, 0.9954, 0.9956, 1.0043, 0.9950, 0.9955, 1.0045,\n",
      "        1.0033, 0.9958, 0.9956, 0.9955, 1.0040, 0.9953, 0.9984],\n",
      "       requires_grad=True)\n",
      "Parameter containing:\n",
      "tensor([ 0.0043, -0.0044,  0.0046, -0.0047,  0.0044, -0.0043, -0.0044, -0.0044,\n",
      "        -0.0041,  0.0049, -0.0044,  0.0044,  0.0044,  0.0047,  0.0044,  0.0044,\n",
      "        -0.0044,  0.0044, -0.0044, -0.0045,  0.0049, -0.0049, -0.0044, -0.0048,\n",
      "         0.0043, -0.0044,  0.0045, -0.0044, -0.0042, -0.0044,  0.0045,  0.0044,\n",
      "        -0.0047, -0.0049], requires_grad=True)\n",
      "Parameter containing:\n",
      "tensor([[-4.0444e-02, -5.7306e-02, -8.1464e-02,  1.1126e-01, -5.0816e-02,\n",
      "         -8.4985e-02,  1.2648e-01, -1.9772e-01,  1.4258e-01,  1.8948e-01,\n",
      "         -1.6697e-01, -1.8997e-02,  1.3737e-01, -1.5308e-01,  1.8759e-01,\n",
      "          1.5457e-01, -8.0944e-02,  6.1380e-02, -1.5581e-01, -2.7874e-02],\n",
      "        [-1.2023e-01,  4.8195e-02, -2.0620e-01, -2.0604e-01,  1.3548e-02,\n",
      "         -1.3826e-02,  6.1682e-02,  4.5124e-02, -1.3925e-01, -9.9357e-02,\n",
      "         -2.1034e-01, -1.6102e-01,  1.8109e-01,  2.2477e-02, -5.3985e-02,\n",
      "          9.4260e-02, -3.6999e-03,  6.3258e-02,  1.0399e-02, -1.3915e-01],\n",
      "        [-2.0033e-01, -6.6826e-02, -1.1482e-01, -9.5901e-02, -2.0736e-01,\n",
      "          8.9132e-02, -6.4331e-02, -1.2236e-01, -3.3793e-02,  1.2627e-01,\n",
      "         -4.9991e-02, -1.4532e-01,  1.3382e-01,  1.8455e-01,  3.6075e-03,\n",
      "         -1.5697e-01, -7.6488e-02, -8.4061e-02, -8.1838e-03,  1.2154e-01],\n",
      "        [-2.1127e-02, -1.0880e-01, -4.2085e-02,  6.2683e-02,  9.8381e-02,\n",
      "         -6.4148e-02, -9.4354e-02,  1.1523e-01,  1.1391e-01, -2.1524e-01,\n",
      "          1.1582e-02,  2.0918e-01,  1.2754e-01, -3.4074e-05, -1.3693e-01,\n",
      "         -1.2406e-01, -4.9998e-03, -1.8792e-01, -1.9406e-01, -1.4818e-01],\n",
      "        [ 2.6560e-02,  2.1777e-01, -3.3887e-02, -4.0730e-03,  7.0410e-02,\n",
      "         -2.1459e-01,  1.8419e-01, -1.7347e-01, -1.8664e-01, -1.6797e-02,\n",
      "         -3.2827e-02, -6.5444e-02,  1.1163e-01,  1.4134e-01, -1.9950e-01,\n",
      "         -8.6580e-02,  6.5111e-02,  1.4573e-01,  5.7246e-02,  1.9611e-01],\n",
      "        [-8.0454e-02,  7.0177e-02, -6.0386e-02,  1.6695e-01,  9.6865e-02,\n",
      "         -8.6801e-02, -3.1564e-02,  1.7591e-01,  1.6230e-01,  1.5835e-01,\n",
      "         -1.7598e-02,  4.5613e-03,  8.7853e-02,  7.0374e-02,  1.9145e-01,\n",
      "          1.8682e-01,  3.4203e-02,  7.6086e-02, -1.5158e-01, -3.4231e-02],\n",
      "        [-2.1016e-02,  8.5337e-02, -7.0411e-02,  1.7496e-02,  8.7737e-02,\n",
      "          2.7721e-02, -2.4623e-02, -1.4260e-01, -1.8370e-01,  2.1246e-01,\n",
      "         -1.4706e-01,  9.2492e-02,  3.7446e-02,  3.1544e-02, -1.4463e-01,\n",
      "         -8.2398e-02, -1.5952e-01, -1.2798e-01,  1.2021e-01, -2.1096e-01],\n",
      "        [-1.8968e-01,  2.1540e-01,  9.2149e-02,  8.0901e-02, -1.3831e-02,\n",
      "         -4.9993e-03, -1.3369e-01, -2.2256e-02, -4.6289e-02,  4.0856e-02,\n",
      "         -2.1408e-01, -1.9219e-01,  4.8649e-02,  9.1583e-02, -4.7359e-02,\n",
      "         -1.6034e-01, -9.9766e-02,  1.4291e-01, -1.2065e-01, -1.7039e-01],\n",
      "        [-8.2058e-02, -1.8245e-01,  1.3814e-01, -8.0572e-02,  2.0711e-01,\n",
      "         -1.7045e-01, -2.0142e-01,  2.0816e-01,  2.1290e-02, -1.0440e-01,\n",
      "         -6.3913e-02, -8.3318e-02,  1.8428e-01,  7.3352e-02, -1.6868e-01,\n",
      "          1.4626e-01,  1.2221e-02,  3.2675e-03, -2.0991e-01,  8.8168e-03],\n",
      "        [ 5.6331e-02, -1.0441e-02, -5.8646e-02, -9.7399e-04,  1.8875e-01,\n",
      "          2.1282e-01, -5.9539e-02,  1.2755e-01,  4.3651e-02, -1.3047e-01,\n",
      "         -1.9903e-01, -1.4392e-01,  1.0327e-01,  8.8055e-02,  1.4685e-02,\n",
      "         -1.4544e-01,  9.0540e-02, -9.4171e-02, -6.5617e-03,  2.0991e-01],\n",
      "        [ 1.6916e-01,  1.9917e-01, -6.1512e-02,  2.3407e-02,  2.0622e-01,\n",
      "         -2.0326e-01, -1.4353e-01, -1.2246e-01, -2.0605e-01, -3.1776e-02,\n",
      "          1.0200e-02, -1.2614e-01, -2.1950e-02,  9.8001e-02, -5.2429e-02,\n",
      "         -1.9366e-01,  8.5664e-02,  7.5884e-02,  3.4624e-02, -1.9814e-01],\n",
      "        [ 1.8837e-01,  2.0727e-01, -1.5857e-01, -1.3802e-01,  1.5064e-01,\n",
      "         -9.1773e-02,  1.3612e-01,  1.4718e-02, -1.5203e-01,  4.9804e-02,\n",
      "          8.2341e-02, -5.7965e-02,  8.7355e-02, -2.1003e-01,  6.2927e-02,\n",
      "         -1.9289e-01,  3.6752e-03,  1.4181e-01,  5.9291e-02,  4.3096e-02],\n",
      "        [ 2.0636e-01, -1.8987e-01,  1.2517e-01, -1.3172e-01, -9.3117e-02,\n",
      "          4.5336e-02,  1.5084e-01, -6.1050e-02, -7.9044e-02,  1.1422e-01,\n",
      "          4.8174e-02, -9.8323e-02, -1.1396e-01, -7.0142e-02, -2.0089e-01,\n",
      "         -2.1805e-01, -4.2019e-02, -6.2293e-03,  1.0043e-01, -3.7819e-02],\n",
      "        [ 1.2581e-01, -4.0728e-02, -8.5543e-02, -3.1382e-02, -4.5925e-02,\n",
      "         -4.7741e-03, -1.9340e-01,  1.7064e-01, -3.5101e-03, -1.8738e-01,\n",
      "         -3.3468e-02, -1.4930e-01,  1.9416e-01,  3.9572e-02, -1.1312e-01,\n",
      "          1.9518e-01, -5.3266e-02, -1.2348e-01, -5.4596e-02, -1.1840e-01],\n",
      "        [ 3.0140e-02,  1.2296e-01, -1.7806e-01,  7.3624e-02, -1.5239e-01,\n",
      "          7.3914e-02,  9.4201e-02, -7.1031e-02, -1.7121e-01,  2.3854e-02,\n",
      "          2.1109e-01, -5.6848e-02, -8.3033e-02,  2.4331e-02, -1.4955e-01,\n",
      "         -1.4586e-01,  7.1708e-02, -5.4715e-02,  1.5568e-01, -1.2672e-01],\n",
      "        [-1.9469e-01, -8.2973e-02, -8.0911e-03,  1.2504e-01, -1.1050e-01,\n",
      "          3.4717e-02, -1.3207e-01,  1.2394e-01,  1.5573e-02,  1.7272e-01,\n",
      "         -3.1180e-02, -1.5227e-01,  1.5556e-01, -1.0513e-01, -9.7785e-02,\n",
      "         -1.5124e-01, -2.2348e-04,  1.4411e-01,  1.9333e-01,  4.4179e-02],\n",
      "        [-6.1132e-02,  1.3139e-01,  6.6093e-03,  1.4314e-01, -1.0693e-01,\n",
      "         -4.3957e-02,  7.1173e-02, -2.0509e-01,  1.1224e-01,  2.0202e-01,\n",
      "         -2.1766e-01, -1.9768e-01, -4.9783e-02, -7.3248e-02, -1.5246e-01,\n",
      "          2.0095e-01,  1.7458e-01, -1.0572e-01,  8.6876e-02,  1.3742e-01],\n",
      "        [-2.1843e-01,  1.0537e-01, -2.0177e-01,  6.3560e-02, -1.1755e-01,\n",
      "         -3.8571e-02, -2.5856e-02,  9.7503e-02,  2.1189e-01, -2.1521e-01,\n",
      "          1.2623e-01, -9.0349e-02, -3.7507e-02, -1.1239e-01,  2.1011e-01,\n",
      "         -1.0178e-01, -1.8275e-01, -1.9398e-01, -1.4469e-01,  1.0820e-01],\n",
      "        [ 1.9778e-01, -1.7379e-01, -2.7762e-02,  8.5066e-02,  1.4831e-01,\n",
      "          1.9895e-01, -2.7619e-02, -1.6345e-02,  1.9365e-01, -2.0977e-01,\n",
      "         -6.9998e-02, -3.3324e-02,  1.7805e-02,  1.8848e-01,  1.8653e-02,\n",
      "         -2.1264e-02, -1.7172e-02, -5.1941e-02,  1.7665e-01,  1.4946e-01],\n",
      "        [-5.8167e-02,  2.1495e-01, -1.6871e-02, -4.9090e-02,  2.0042e-01,\n",
      "          3.6421e-03, -1.1054e-01, -1.8745e-01,  1.9221e-01, -2.1486e-01,\n",
      "         -6.1695e-02, -2.5853e-02,  1.7244e-01,  1.8036e-01, -2.9789e-02,\n",
      "          8.2570e-02,  1.1071e-01, -1.1938e-01,  6.0129e-02,  1.9659e-01],\n",
      "        [ 1.6951e-02,  1.6597e-01, -1.4166e-01, -1.3576e-01, -2.5783e-02,\n",
      "         -2.2500e-02, -5.0968e-02, -1.6050e-02, -1.5208e-01,  9.7326e-02,\n",
      "          1.0416e-01, -5.2111e-02, -1.0873e-02,  9.3430e-03,  5.8232e-02,\n",
      "         -1.9051e-01, -9.0571e-02,  1.2483e-01,  1.5332e-01,  3.1561e-02],\n",
      "        [-1.9656e-01, -1.2274e-03,  5.1651e-02,  1.7209e-01,  1.9568e-01,\n",
      "          1.6356e-01, -1.9605e-01,  8.4540e-04, -1.7711e-01,  1.0855e-01,\n",
      "          1.3841e-01,  1.4492e-02, -1.3737e-01,  1.9289e-04,  4.5004e-02,\n",
      "         -8.6002e-02, -2.0995e-02, -1.1108e-02,  1.8718e-01,  3.4215e-02],\n",
      "        [ 2.1703e-01,  3.6233e-02,  2.1367e-01,  3.6017e-02,  1.7338e-01,\n",
      "          2.0121e-01, -1.8250e-01, -6.4995e-02, -2.0185e-02,  2.1706e-01,\n",
      "          4.2646e-02,  1.2827e-01,  1.2679e-01,  1.7707e-01,  2.1781e-01,\n",
      "          1.8482e-01,  1.2711e-01, -2.9183e-03, -2.1166e-01,  2.1334e-02],\n",
      "        [ 1.1184e-02,  9.2456e-02,  2.0870e-02, -1.4078e-01, -1.2353e-01,\n",
      "         -1.9587e-01,  2.0633e-01,  4.4641e-02,  1.5505e-01,  1.3353e-01,\n",
      "          1.2683e-01,  2.0144e-01, -2.0513e-01,  1.5465e-01, -1.3800e-01,\n",
      "          1.8966e-01,  1.0341e-01, -4.7206e-02, -2.1200e-01, -1.9917e-01],\n",
      "        [-4.9738e-03, -5.3735e-02,  5.4235e-02,  9.9204e-02, -1.3362e-01,\n",
      "         -8.6324e-02, -3.5683e-02,  1.5435e-02, -6.0485e-02, -1.9814e-01,\n",
      "         -2.2321e-02, -1.9692e-02,  2.1444e-03,  1.5493e-01, -1.9334e-02,\n",
      "          9.6774e-02,  1.1937e-01, -2.0131e-01, -1.9093e-01,  1.9700e-01],\n",
      "        [-2.0961e-01,  2.1375e-01,  8.7056e-02,  6.7528e-02, -1.9658e-01,\n",
      "         -1.6816e-01,  3.5761e-02,  1.1446e-02, -1.7506e-01,  1.2772e-01,\n",
      "          1.3723e-01, -5.1819e-02, -1.9178e-01, -2.1528e-01,  5.2245e-02,\n",
      "          1.6240e-01,  1.5094e-01,  4.7245e-02, -1.5209e-01, -1.5195e-01],\n",
      "        [ 1.4636e-01, -1.1538e-01, -1.9212e-01, -1.9098e-01,  2.0035e-01,\n",
      "          1.9680e-01, -1.3340e-01, -1.5373e-01, -1.9543e-01,  7.9161e-02,\n",
      "         -1.8859e-01,  1.4465e-01, -1.0844e-02,  1.8366e-01,  7.4560e-02,\n",
      "          1.5040e-01,  1.0524e-01,  2.8549e-02, -6.7929e-02, -6.4196e-02],\n",
      "        [-7.7506e-02, -6.5944e-02,  2.1358e-01,  2.1774e-01, -1.2196e-01,\n",
      "         -2.7650e-02,  2.4262e-02, -1.0983e-01, -2.4456e-02, -1.9617e-01,\n",
      "          5.2461e-02,  1.1714e-01, -7.8305e-02,  1.5315e-01, -7.5305e-02,\n",
      "          6.7352e-02, -3.1600e-02, -3.4366e-02,  2.0591e-01,  1.5543e-01],\n",
      "        [-1.6544e-01,  3.8700e-02, -6.6254e-02,  1.2951e-01, -2.0428e-01,\n",
      "         -1.0360e-01,  8.8619e-02, -1.4238e-02, -1.8229e-02, -1.7314e-01,\n",
      "         -1.4239e-01,  6.3451e-02, -1.2133e-01,  2.1700e-01,  4.7939e-02,\n",
      "          1.6627e-01, -9.8009e-02,  6.0689e-02, -2.1860e-01,  9.1469e-02],\n",
      "        [-8.4822e-02, -1.6553e-01, -2.3669e-03, -1.9864e-01, -1.2246e-01,\n",
      "         -1.5045e-01, -2.6282e-03, -3.5747e-02, -2.1247e-01,  1.4186e-01,\n",
      "          1.3034e-02,  9.7266e-02, -1.0816e-01, -5.0916e-02,  2.1069e-01,\n",
      "          2.1686e-01, -6.1464e-02, -3.2166e-02, -1.6773e-01,  1.5351e-01]],\n",
      "       requires_grad=True)\n",
      "Parameter containing:\n",
      "tensor([ 0.1965,  0.2142, -0.1946, -0.0568,  0.1616,  0.1993,  0.0116, -0.0209,\n",
      "        -0.0100, -0.2050,  0.2155, -0.0701, -0.2001,  0.0547,  0.0649,  0.0147,\n",
      "         0.1012,  0.0432, -0.0888,  0.1489], requires_grad=True)\n",
      "Parameter containing:\n",
      "tensor([[ 2.0864e-01,  4.3024e-02,  2.1633e-01,  2.1048e-01, -1.0299e-01,\n",
      "         -7.9498e-02, -5.1536e-02, -2.0746e-01,  7.9957e-02,  2.0720e-01,\n",
      "          1.5382e-01,  1.8118e-01, -5.5098e-02,  1.7334e-01, -7.3415e-02,\n",
      "         -1.6245e-01,  1.2020e-01,  7.7467e-03,  4.3918e-02,  2.0331e-01],\n",
      "        [-1.3704e-01,  8.0672e-02,  1.8481e-01, -1.5065e-01, -6.5418e-02,\n",
      "          1.8006e-01,  9.4311e-02,  2.3017e-02,  1.8655e-01,  6.6756e-02,\n",
      "         -1.2839e-01, -1.0530e-01, -1.3424e-01, -1.3324e-04, -1.6112e-01,\n",
      "         -2.0817e-01, -1.3747e-01, -2.7945e-02, -1.5413e-01,  1.3086e-01],\n",
      "        [-6.9505e-02, -1.9209e-01,  1.9644e-01, -2.5032e-02, -1.0622e-01,\n",
      "         -2.0243e-01,  1.2547e-01,  9.8358e-02, -1.2299e-01,  1.2666e-01,\n",
      "         -1.6133e-01, -1.9378e-01, -2.0006e-01, -2.0672e-01,  1.5287e-01,\n",
      "         -1.9141e-02, -1.7605e-01,  1.0687e-01, -2.1067e-02,  1.8441e-01],\n",
      "        [-1.9353e-01,  1.6343e-01,  1.6414e-01, -3.4757e-03,  1.8016e-01,\n",
      "         -1.1897e-02,  4.1472e-02,  2.6547e-02, -8.4236e-02, -1.3786e-01,\n",
      "          1.8230e-03, -8.3758e-02, -1.1674e-01,  1.9440e-01, -2.0817e-01,\n",
      "         -7.3504e-02,  1.5470e-01, -7.9441e-02, -1.6404e-01,  1.5333e-01],\n",
      "        [ 2.1185e-01, -7.4937e-02, -3.3732e-02, -2.3479e-02,  6.3835e-02,\n",
      "          2.5239e-02, -1.8903e-01, -1.2250e-01, -9.0614e-03,  1.7414e-02,\n",
      "         -1.5870e-01,  7.8436e-03,  1.1100e-01,  1.8281e-01,  9.7647e-02,\n",
      "          9.2619e-02,  1.4862e-01, -1.0419e-01,  1.0089e-01, -3.4855e-03],\n",
      "        [-1.0043e-01,  1.3529e-02,  1.6062e-01, -1.7841e-01,  7.0124e-02,\n",
      "          4.4326e-02, -1.6184e-01, -1.5569e-01,  1.7661e-01, -1.6765e-01,\n",
      "          1.3333e-01,  7.3353e-03, -8.6619e-04, -1.6946e-01, -1.6334e-01,\n",
      "          2.1769e-02, -8.3874e-02, -1.1498e-01,  1.1071e-01,  7.7406e-05],\n",
      "        [ 2.0359e-01,  3.3266e-02, -1.2195e-02, -1.2425e-01,  4.2179e-02,\n",
      "         -1.0041e-01, -7.2300e-02,  2.0154e-01,  9.4152e-02, -2.0808e-01,\n",
      "          1.1989e-03,  8.4847e-02, -3.2968e-02,  1.8559e-01,  3.2781e-02,\n",
      "         -1.6344e-01, -1.7884e-01, -2.6837e-02, -1.8952e-02,  1.7926e-01],\n",
      "        [-2.4527e-02,  1.2298e-01, -2.1178e-01,  7.6713e-02, -1.0334e-01,\n",
      "         -5.7792e-02,  1.6185e-01, -1.3487e-01,  1.3178e-01, -9.9580e-02,\n",
      "          1.1139e-01, -1.8966e-01,  1.9338e-01,  9.4450e-02, -3.6782e-02,\n",
      "         -4.8349e-02,  1.4152e-01,  3.2083e-02,  2.2664e-02, -1.0127e-01],\n",
      "        [ 1.2403e-01, -1.1388e-01,  7.9572e-02, -2.2317e-02, -3.2808e-02,\n",
      "         -1.7902e-01, -2.1790e-01, -5.6307e-03,  7.4253e-02,  2.1358e-03,\n",
      "          2.1607e-01,  1.9657e-01,  6.7187e-02,  4.9715e-03, -6.0853e-02,\n",
      "         -7.0374e-03, -1.3573e-02,  9.0953e-02, -5.7675e-02,  5.6442e-02],\n",
      "        [ 9.8854e-02,  2.6554e-02, -2.0460e-01,  4.7743e-02,  1.0194e-01,\n",
      "         -1.4320e-02, -9.5629e-02,  7.5156e-02, -1.5695e-01, -1.8121e-01,\n",
      "         -1.9142e-01,  8.1453e-03, -3.3373e-02, -1.2467e-01,  1.0240e-01,\n",
      "         -7.9005e-02,  1.8073e-01, -1.2811e-01, -1.1222e-01, -1.6045e-01],\n",
      "        [-7.4659e-02,  6.9514e-03,  1.1691e-02,  2.1748e-02, -7.9675e-02,\n",
      "         -1.5791e-01, -1.9998e-01, -1.3605e-01, -1.6396e-01, -3.3405e-02,\n",
      "          4.8412e-02,  8.9374e-02,  2.6135e-03,  2.4504e-02,  1.7588e-01,\n",
      "         -1.1117e-01, -1.9738e-01,  1.0234e-01, -1.7626e-01,  8.8242e-02],\n",
      "        [-1.1726e-01,  1.6575e-01, -1.4845e-01,  1.2880e-01, -4.4024e-03,\n",
      "         -1.2580e-01, -1.7652e-01, -2.8028e-02,  1.0054e-02, -1.2996e-01,\n",
      "         -2.1569e-04, -8.2385e-02, -1.5409e-01, -1.6211e-01,  9.5480e-02,\n",
      "         -1.1605e-01, -4.3802e-03,  1.6528e-01, -2.0305e-01,  1.8900e-01],\n",
      "        [ 1.1068e-01,  1.1814e-01,  1.7979e-01,  1.9947e-01,  2.2568e-03,\n",
      "         -1.1079e-01,  2.2488e-02,  7.2434e-02,  8.1031e-02, -1.6292e-01,\n",
      "         -2.0173e-01,  2.7133e-03, -7.1607e-02, -1.0206e-01,  1.2086e-01,\n",
      "          1.1630e-01,  1.3549e-01,  1.9968e-01,  2.2931e-03,  1.4786e-01],\n",
      "        [ 1.0236e-01, -2.0254e-02, -1.5530e-01,  1.4371e-01, -1.1142e-01,\n",
      "          1.7335e-01, -1.4172e-01,  9.8495e-02, -1.0817e-01, -1.1765e-01,\n",
      "         -1.7448e-01, -1.8180e-01,  1.3280e-01, -1.7995e-01, -2.1493e-01,\n",
      "         -6.9438e-02,  1.3887e-01, -2.9971e-02,  1.8216e-01, -2.0439e-01],\n",
      "        [ 1.8799e-01,  2.3003e-03, -7.2262e-04,  2.0137e-01, -1.6697e-01,\n",
      "         -1.8882e-01,  6.6488e-02, -1.0589e-01, -1.0155e-01,  1.4150e-01,\n",
      "          2.0194e-01,  1.5417e-01,  1.6993e-01, -5.2947e-04, -5.1889e-02,\n",
      "          1.3585e-01, -5.0782e-02, -6.9715e-04, -2.1361e-01,  8.1344e-02],\n",
      "        [ 8.7463e-02,  1.6247e-03, -1.3675e-01,  1.9060e-01,  1.8696e-01,\n",
      "          1.5155e-01,  7.0986e-02, -4.7717e-02,  1.7814e-01, -1.5912e-01,\n",
      "         -7.2429e-02,  1.1045e-01,  1.8539e-01, -5.1894e-02, -2.0001e-01,\n",
      "          1.9633e-01,  1.9311e-01,  1.8377e-01,  1.8479e-01,  1.3098e-01],\n",
      "        [ 6.0009e-02,  1.4774e-01,  4.2954e-02, -9.3521e-02,  1.4073e-01,\n",
      "         -1.7583e-01, -1.1038e-01,  5.1084e-02, -1.7513e-01, -7.6672e-02,\n",
      "         -7.3380e-02,  1.1040e-01, -1.5502e-01,  1.1824e-01,  1.6735e-01,\n",
      "         -1.5124e-01, -1.9436e-01,  5.9034e-02,  1.4541e-01, -2.1688e-01],\n",
      "        [-1.3534e-01,  1.1937e-01,  1.4180e-01, -2.7405e-02,  1.3237e-02,\n",
      "         -1.8016e-01, -2.1348e-01,  1.9514e-01, -1.2187e-01, -9.2438e-02,\n",
      "          9.7951e-02, -1.8573e-01, -1.0445e-02,  6.8153e-02, -1.8019e-02,\n",
      "         -2.0710e-01,  2.8815e-02, -2.1584e-01, -1.8023e-01,  2.6717e-03],\n",
      "        [-7.7233e-04,  4.4148e-03, -4.7952e-02,  1.0818e-02,  7.4328e-02,\n",
      "          1.6345e-01,  1.8423e-01,  1.4876e-01, -2.0349e-02, -7.2482e-02,\n",
      "         -5.9065e-02,  8.2058e-02,  1.7943e-01, -2.0673e-01, -1.9285e-01,\n",
      "          1.9087e-01,  6.9592e-02,  1.8358e-02, -7.4102e-02, -9.8967e-03],\n",
      "        [ 1.8280e-01, -1.7650e-01, -2.0905e-01, -1.0627e-01,  1.6209e-02,\n",
      "          3.1641e-02,  1.7683e-01, -2.1493e-01,  4.8420e-02,  1.7937e-01,\n",
      "         -3.3079e-02, -1.3989e-01, -7.1662e-02,  1.5543e-01,  2.1073e-01,\n",
      "          1.0277e-01, -2.0983e-01, -7.4542e-02, -1.8413e-01,  2.0269e-02]],\n",
      "       requires_grad=True)\n",
      "Parameter containing:\n",
      "tensor([-0.1697,  0.0362, -0.0730, -0.0068, -0.0811, -0.0112, -0.1351, -0.0323,\n",
      "         0.1270,  0.0009,  0.0163, -0.0496,  0.1356, -0.0151, -0.0113,  0.0189,\n",
      "        -0.1703,  0.1500,  0.1274, -0.1587], requires_grad=True)\n",
      "Parameter containing:\n",
      "tensor([[-0.0330, -0.0087, -0.0280,  ..., -0.0374, -0.0212,  0.0109],\n",
      "        [ 0.0212,  0.0356, -0.0007,  ...,  0.0141, -0.0136,  0.0033]],\n",
      "       requires_grad=True)\n",
      "Parameter containing:\n",
      "tensor([-0.0256, -0.0155], requires_grad=True)\n"
     ]
    }
   ],
   "source": [
    "for i in model2.parameters():\n",
    "    print(i)"
   ]
  },
  {
   "cell_type": "code",
   "execution_count": 75,
   "metadata": {},
   "outputs": [
    {
     "data": {
      "text/plain": [
       "tensor(0.3750, dtype=torch.float64)"
      ]
     },
     "execution_count": 75,
     "metadata": {},
     "output_type": "execute_result"
    }
   ],
   "source": [
    "train_acc"
   ]
  },
  {
   "cell_type": "code",
   "execution_count": 34,
   "metadata": {},
   "outputs": [
    {
     "name": "stdout",
     "output_type": "stream",
     "text": [
      "Parameter containing:\n",
      "tensor([[ 0.0046],\n",
      "        [ 0.0036],\n",
      "        [-0.0048],\n",
      "        [ 0.0049],\n",
      "        [-0.0001],\n",
      "        [ 0.0049],\n",
      "        [-0.0044],\n",
      "        [-0.0038]], requires_grad=True)\n",
      "Parameter containing:\n",
      "tensor([0.9950, 0.9950, 0.9950, 0.9950, 0.9950, 0.9950, 0.9950, 0.9950, 0.9950,\n",
      "        0.9950, 0.9950, 0.9950, 0.9950, 0.9950, 0.9950, 0.9950, 0.9950, 0.9950,\n",
      "        0.9950, 0.9950, 0.9950, 0.9950, 0.9950, 0.9950, 0.9950, 0.9950, 0.9950,\n",
      "        0.9950, 0.9950, 0.9950, 0.9950, 0.9950, 0.9950, 0.9950],\n",
      "       requires_grad=True)\n",
      "Parameter containing:\n",
      "tensor([-1.9356e-27, -1.3462e-27, -2.2793e-27, -7.1547e-28, -6.2838e-28,\n",
      "         1.3622e-27, -9.7388e-28,  1.7539e-27,  1.6475e-27, -4.1556e-29,\n",
      "        -1.9010e-27, -1.1211e-28,  1.3798e-28, -1.7423e-28,  4.7247e-28,\n",
      "         7.8928e-28,  6.7909e-28, -7.6033e-28, -2.7938e-27, -4.8002e-28,\n",
      "        -1.4576e-27,  2.2766e-28,  2.5002e-28,  3.0145e-29, -8.8299e-28,\n",
      "        -3.6658e-28,  3.5173e-28, -1.4951e-27,  7.6092e-28,  2.1365e-27,\n",
      "         6.1918e-30,  3.5777e-29,  1.5572e-27, -1.0490e-28],\n",
      "       requires_grad=True)\n",
      "Parameter containing:\n",
      "tensor([1.0048, 0.9956, 0.9952, 0.9950, 1.0048, 0.9952, 0.9952, 0.9951, 0.9967,\n",
      "        1.0050, 0.9951, 1.0047, 1.0048, 1.0047, 1.0044, 1.0048, 1.0042, 1.0049,\n",
      "        0.9965, 0.9951, 1.0042, 0.9952, 0.9952, 1.0048, 0.9950, 0.9951, 1.0048,\n",
      "        0.9959, 0.9956, 0.9951, 0.9951, 1.0048, 0.9950, 1.0008],\n",
      "       requires_grad=True)\n",
      "Parameter containing:\n",
      "tensor([ 0.0049, -0.0047,  0.0050, -0.0040,  0.0048, -0.0047, -0.0048, -0.0048,\n",
      "        -0.0049, -0.0028, -0.0049,  0.0048,  0.0049,  0.0043,  0.0047,  0.0048,\n",
      "        -0.0049,  0.0050, -0.0049, -0.0048,  0.0049, -0.0048, -0.0048,  0.0050,\n",
      "         0.0048, -0.0048,  0.0048, -0.0046, -0.0043, -0.0048,  0.0048,  0.0048,\n",
      "        -0.0050, -0.0040], requires_grad=True)\n",
      "Parameter containing:\n",
      "tensor([[-4.0444e-02, -5.7306e-02, -8.1464e-02,  1.1126e-01, -5.0816e-02,\n",
      "         -8.4985e-02,  1.2648e-01, -1.9772e-01,  1.4258e-01,  1.8948e-01,\n",
      "         -1.6697e-01, -1.8997e-02,  1.3737e-01, -1.5308e-01,  1.8759e-01,\n",
      "          1.5457e-01, -8.0944e-02,  6.1380e-02, -1.5581e-01, -2.7874e-02],\n",
      "        [-1.2023e-01,  4.8195e-02, -2.0620e-01, -2.0604e-01,  1.3548e-02,\n",
      "         -1.3826e-02,  6.1682e-02,  4.5124e-02, -1.3925e-01, -9.9357e-02,\n",
      "         -2.1034e-01, -1.6102e-01,  1.8109e-01,  2.2477e-02, -5.3985e-02,\n",
      "          9.4260e-02, -3.6999e-03,  6.3258e-02,  1.0399e-02, -1.3915e-01],\n",
      "        [-2.0033e-01, -6.6826e-02, -1.1482e-01, -9.5901e-02, -2.0736e-01,\n",
      "          8.9132e-02, -6.4331e-02, -1.2236e-01, -3.3793e-02,  1.2627e-01,\n",
      "         -4.9991e-02, -1.4532e-01,  1.3382e-01,  1.8455e-01,  3.6075e-03,\n",
      "         -1.5697e-01, -7.6488e-02, -8.4061e-02, -8.1838e-03,  1.2154e-01],\n",
      "        [-2.1127e-02, -1.0880e-01, -4.2085e-02,  6.2683e-02,  9.8381e-02,\n",
      "         -6.4148e-02, -9.4354e-02,  1.1523e-01,  1.1391e-01, -2.1524e-01,\n",
      "          1.1582e-02,  2.0918e-01,  1.2754e-01, -3.4074e-05, -1.3693e-01,\n",
      "         -1.2406e-01, -4.9998e-03, -1.8792e-01, -1.9406e-01, -1.4818e-01],\n",
      "        [ 2.6560e-02,  2.1777e-01, -3.3887e-02, -4.0730e-03,  7.0410e-02,\n",
      "         -2.1459e-01,  1.8419e-01, -1.7347e-01, -1.8664e-01, -1.6797e-02,\n",
      "         -3.2827e-02, -6.5444e-02,  1.1163e-01,  1.4134e-01, -1.9950e-01,\n",
      "         -8.6580e-02,  6.5111e-02,  1.4573e-01,  5.7246e-02,  1.9611e-01],\n",
      "        [-8.0454e-02,  7.0177e-02, -6.0386e-02,  1.6695e-01,  9.6865e-02,\n",
      "         -8.6801e-02, -3.1564e-02,  1.7591e-01,  1.6230e-01,  1.5835e-01,\n",
      "         -1.7598e-02,  4.5613e-03,  8.7853e-02,  7.0374e-02,  1.9145e-01,\n",
      "          1.8682e-01,  3.4203e-02,  7.6086e-02, -1.5158e-01, -3.4231e-02],\n",
      "        [-2.1016e-02,  8.5337e-02, -7.0411e-02,  1.7496e-02,  8.7737e-02,\n",
      "          2.7721e-02, -2.4623e-02, -1.4260e-01, -1.8370e-01,  2.1246e-01,\n",
      "         -1.4706e-01,  9.2492e-02,  3.7446e-02,  3.1544e-02, -1.4463e-01,\n",
      "         -8.2398e-02, -1.5952e-01, -1.2798e-01,  1.2021e-01, -2.1096e-01],\n",
      "        [-1.8968e-01,  2.1540e-01,  9.2149e-02,  8.0901e-02, -1.3831e-02,\n",
      "         -4.9993e-03, -1.3369e-01, -2.2256e-02, -4.6289e-02,  4.0856e-02,\n",
      "         -2.1408e-01, -1.9219e-01,  4.8649e-02,  9.1583e-02, -4.7359e-02,\n",
      "         -1.6034e-01, -9.9766e-02,  1.4291e-01, -1.2065e-01, -1.7039e-01],\n",
      "        [-8.2058e-02, -1.8245e-01,  1.3814e-01, -8.0572e-02,  2.0711e-01,\n",
      "         -1.7045e-01, -2.0142e-01,  2.0816e-01,  2.1290e-02, -1.0440e-01,\n",
      "         -6.3913e-02, -8.3318e-02,  1.8428e-01,  7.3352e-02, -1.6868e-01,\n",
      "          1.4626e-01,  1.2221e-02,  3.2675e-03, -2.0991e-01,  8.8168e-03],\n",
      "        [ 5.6331e-02, -1.0441e-02, -5.8646e-02, -9.7399e-04,  1.8875e-01,\n",
      "          2.1282e-01, -5.9539e-02,  1.2755e-01,  4.3651e-02, -1.3047e-01,\n",
      "         -1.9903e-01, -1.4392e-01,  1.0327e-01,  8.8055e-02,  1.4685e-02,\n",
      "         -1.4544e-01,  9.0540e-02, -9.4171e-02, -6.5617e-03,  2.0991e-01],\n",
      "        [ 1.6916e-01,  1.9917e-01, -6.1512e-02,  2.3407e-02,  2.0622e-01,\n",
      "         -2.0326e-01, -1.4353e-01, -1.2246e-01, -2.0605e-01, -3.1776e-02,\n",
      "          1.0200e-02, -1.2614e-01, -2.1950e-02,  9.8001e-02, -5.2429e-02,\n",
      "         -1.9366e-01,  8.5664e-02,  7.5884e-02,  3.4624e-02, -1.9814e-01],\n",
      "        [ 1.8837e-01,  2.0727e-01, -1.5857e-01, -1.3802e-01,  1.5064e-01,\n",
      "         -9.1773e-02,  1.3612e-01,  1.4718e-02, -1.5203e-01,  4.9804e-02,\n",
      "          8.2341e-02, -5.7965e-02,  8.7355e-02, -2.1003e-01,  6.2927e-02,\n",
      "         -1.9289e-01,  3.6752e-03,  1.4181e-01,  5.9291e-02,  4.3096e-02],\n",
      "        [ 2.0636e-01, -1.8987e-01,  1.2517e-01, -1.3172e-01, -9.3117e-02,\n",
      "          4.5336e-02,  1.5084e-01, -6.1050e-02, -7.9044e-02,  1.1422e-01,\n",
      "          4.8174e-02, -9.8323e-02, -1.1396e-01, -7.0142e-02, -2.0089e-01,\n",
      "         -2.1805e-01, -4.2019e-02, -6.2293e-03,  1.0043e-01, -3.7819e-02],\n",
      "        [ 1.2581e-01, -4.0728e-02, -8.5543e-02, -3.1382e-02, -4.5925e-02,\n",
      "         -4.7741e-03, -1.9340e-01,  1.7064e-01, -3.5101e-03, -1.8738e-01,\n",
      "         -3.3468e-02, -1.4930e-01,  1.9416e-01,  3.9572e-02, -1.1312e-01,\n",
      "          1.9518e-01, -5.3266e-02, -1.2348e-01, -5.4596e-02, -1.1840e-01],\n",
      "        [ 3.0140e-02,  1.2296e-01, -1.7806e-01,  7.3624e-02, -1.5239e-01,\n",
      "          7.3914e-02,  9.4201e-02, -7.1031e-02, -1.7121e-01,  2.3854e-02,\n",
      "          2.1109e-01, -5.6848e-02, -8.3033e-02,  2.4331e-02, -1.4955e-01,\n",
      "         -1.4586e-01,  7.1708e-02, -5.4715e-02,  1.5568e-01, -1.2672e-01],\n",
      "        [-1.9469e-01, -8.2973e-02, -8.0911e-03,  1.2504e-01, -1.1050e-01,\n",
      "          3.4717e-02, -1.3207e-01,  1.2394e-01,  1.5573e-02,  1.7272e-01,\n",
      "         -3.1180e-02, -1.5227e-01,  1.5556e-01, -1.0513e-01, -9.7785e-02,\n",
      "         -1.5124e-01, -2.2348e-04,  1.4411e-01,  1.9333e-01,  4.4179e-02],\n",
      "        [-6.1132e-02,  1.3139e-01,  6.6093e-03,  1.4314e-01, -1.0693e-01,\n",
      "         -4.3957e-02,  7.1173e-02, -2.0509e-01,  1.1224e-01,  2.0202e-01,\n",
      "         -2.1766e-01, -1.9768e-01, -4.9783e-02, -7.3248e-02, -1.5246e-01,\n",
      "          2.0095e-01,  1.7458e-01, -1.0572e-01,  8.6876e-02,  1.3742e-01],\n",
      "        [-2.1843e-01,  1.0537e-01, -2.0177e-01,  6.3560e-02, -1.1755e-01,\n",
      "         -3.8571e-02, -2.5856e-02,  9.7503e-02,  2.1189e-01, -2.1521e-01,\n",
      "          1.2623e-01, -9.0349e-02, -3.7507e-02, -1.1239e-01,  2.1011e-01,\n",
      "         -1.0178e-01, -1.8275e-01, -1.9398e-01, -1.4469e-01,  1.0820e-01],\n",
      "        [ 1.9778e-01, -1.7379e-01, -2.7762e-02,  8.5066e-02,  1.4831e-01,\n",
      "          1.9895e-01, -2.7619e-02, -1.6345e-02,  1.9365e-01, -2.0977e-01,\n",
      "         -6.9998e-02, -3.3324e-02,  1.7805e-02,  1.8848e-01,  1.8653e-02,\n",
      "         -2.1264e-02, -1.7172e-02, -5.1941e-02,  1.7665e-01,  1.4946e-01],\n",
      "        [-5.8167e-02,  2.1495e-01, -1.6871e-02, -4.9090e-02,  2.0042e-01,\n",
      "          3.6421e-03, -1.1054e-01, -1.8745e-01,  1.9221e-01, -2.1486e-01,\n",
      "         -6.1695e-02, -2.5853e-02,  1.7244e-01,  1.8036e-01, -2.9789e-02,\n",
      "          8.2570e-02,  1.1071e-01, -1.1938e-01,  6.0129e-02,  1.9659e-01],\n",
      "        [ 1.6951e-02,  1.6597e-01, -1.4166e-01, -1.3576e-01, -2.5783e-02,\n",
      "         -2.2500e-02, -5.0968e-02, -1.6050e-02, -1.5208e-01,  9.7326e-02,\n",
      "          1.0416e-01, -5.2111e-02, -1.0873e-02,  9.3430e-03,  5.8232e-02,\n",
      "         -1.9051e-01, -9.0571e-02,  1.2483e-01,  1.5332e-01,  3.1561e-02],\n",
      "        [-1.9656e-01, -1.2274e-03,  5.1651e-02,  1.7209e-01,  1.9568e-01,\n",
      "          1.6356e-01, -1.9605e-01,  8.4540e-04, -1.7711e-01,  1.0855e-01,\n",
      "          1.3841e-01,  1.4492e-02, -1.3737e-01,  1.9289e-04,  4.5004e-02,\n",
      "         -8.6002e-02, -2.0995e-02, -1.1108e-02,  1.8718e-01,  3.4215e-02],\n",
      "        [ 2.1703e-01,  3.6233e-02,  2.1367e-01,  3.6017e-02,  1.7338e-01,\n",
      "          2.0121e-01, -1.8250e-01, -6.4995e-02, -2.0185e-02,  2.1706e-01,\n",
      "          4.2646e-02,  1.2827e-01,  1.2679e-01,  1.7707e-01,  2.1781e-01,\n",
      "          1.8482e-01,  1.2711e-01, -2.9183e-03, -2.1166e-01,  2.1334e-02],\n",
      "        [ 1.1184e-02,  9.2456e-02,  2.0870e-02, -1.4078e-01, -1.2353e-01,\n",
      "         -1.9587e-01,  2.0633e-01,  4.4641e-02,  1.5505e-01,  1.3353e-01,\n",
      "          1.2683e-01,  2.0144e-01, -2.0513e-01,  1.5465e-01, -1.3800e-01,\n",
      "          1.8966e-01,  1.0341e-01, -4.7206e-02, -2.1200e-01, -1.9917e-01],\n",
      "        [-4.9738e-03, -5.3735e-02,  5.4235e-02,  9.9204e-02, -1.3362e-01,\n",
      "         -8.6324e-02, -3.5683e-02,  1.5435e-02, -6.0485e-02, -1.9814e-01,\n",
      "         -2.2321e-02, -1.9692e-02,  2.1444e-03,  1.5493e-01, -1.9334e-02,\n",
      "          9.6774e-02,  1.1937e-01, -2.0131e-01, -1.9093e-01,  1.9700e-01],\n",
      "        [-2.0961e-01,  2.1375e-01,  8.7056e-02,  6.7528e-02, -1.9658e-01,\n",
      "         -1.6816e-01,  3.5761e-02,  1.1446e-02, -1.7506e-01,  1.2772e-01,\n",
      "          1.3723e-01, -5.1819e-02, -1.9178e-01, -2.1528e-01,  5.2245e-02,\n",
      "          1.6240e-01,  1.5094e-01,  4.7245e-02, -1.5209e-01, -1.5195e-01],\n",
      "        [ 1.4636e-01, -1.1538e-01, -1.9212e-01, -1.9098e-01,  2.0035e-01,\n",
      "          1.9680e-01, -1.3340e-01, -1.5373e-01, -1.9543e-01,  7.9161e-02,\n",
      "         -1.8859e-01,  1.4465e-01, -1.0844e-02,  1.8366e-01,  7.4560e-02,\n",
      "          1.5040e-01,  1.0524e-01,  2.8549e-02, -6.7929e-02, -6.4196e-02],\n",
      "        [-7.7506e-02, -6.5944e-02,  2.1358e-01,  2.1774e-01, -1.2196e-01,\n",
      "         -2.7650e-02,  2.4262e-02, -1.0983e-01, -2.4456e-02, -1.9617e-01,\n",
      "          5.2461e-02,  1.1714e-01, -7.8305e-02,  1.5315e-01, -7.5305e-02,\n",
      "          6.7352e-02, -3.1600e-02, -3.4366e-02,  2.0591e-01,  1.5543e-01],\n",
      "        [-1.6544e-01,  3.8700e-02, -6.6254e-02,  1.2951e-01, -2.0428e-01,\n",
      "         -1.0360e-01,  8.8619e-02, -1.4238e-02, -1.8229e-02, -1.7314e-01,\n",
      "         -1.4239e-01,  6.3451e-02, -1.2133e-01,  2.1700e-01,  4.7939e-02,\n",
      "          1.6627e-01, -9.8009e-02,  6.0689e-02, -2.1860e-01,  9.1469e-02],\n",
      "        [-8.4822e-02, -1.6553e-01, -2.3669e-03, -1.9864e-01, -1.2246e-01,\n",
      "         -1.5045e-01, -2.6282e-03, -3.5747e-02, -2.1247e-01,  1.4186e-01,\n",
      "          1.3034e-02,  9.7266e-02, -1.0816e-01, -5.0916e-02,  2.1069e-01,\n",
      "          2.1686e-01, -6.1464e-02, -3.2166e-02, -1.6773e-01,  1.5351e-01]],\n",
      "       requires_grad=True)\n",
      "Parameter containing:\n",
      "tensor([ 0.1965,  0.2142, -0.1946, -0.0568,  0.1616,  0.1993,  0.0116, -0.0209,\n",
      "        -0.0100, -0.2050,  0.2155, -0.0701, -0.2001,  0.0547,  0.0649,  0.0147,\n",
      "         0.1012,  0.0432, -0.0888,  0.1489], requires_grad=True)\n",
      "Parameter containing:\n",
      "tensor([[ 2.0864e-01,  4.3024e-02,  2.1633e-01,  2.1048e-01, -1.0299e-01,\n",
      "         -7.9498e-02, -5.1536e-02, -2.0746e-01,  7.9957e-02,  2.0720e-01,\n",
      "          1.5382e-01,  1.8118e-01, -5.5098e-02,  1.7334e-01, -7.3415e-02,\n",
      "         -1.6245e-01,  1.2020e-01,  7.7467e-03,  4.3918e-02,  2.0331e-01],\n",
      "        [-1.3704e-01,  8.0672e-02,  1.8481e-01, -1.5065e-01, -6.5418e-02,\n",
      "          1.8006e-01,  9.4311e-02,  2.3017e-02,  1.8655e-01,  6.6756e-02,\n",
      "         -1.2839e-01, -1.0530e-01, -1.3424e-01, -1.3324e-04, -1.6112e-01,\n",
      "         -2.0817e-01, -1.3747e-01, -2.7945e-02, -1.5413e-01,  1.3086e-01],\n",
      "        [-6.9505e-02, -1.9209e-01,  1.9644e-01, -2.5032e-02, -1.0622e-01,\n",
      "         -2.0243e-01,  1.2547e-01,  9.8358e-02, -1.2299e-01,  1.2666e-01,\n",
      "         -1.6133e-01, -1.9378e-01, -2.0006e-01, -2.0672e-01,  1.5287e-01,\n",
      "         -1.9141e-02, -1.7605e-01,  1.0687e-01, -2.1067e-02,  1.8441e-01],\n",
      "        [-1.9353e-01,  1.6343e-01,  1.6414e-01, -3.4757e-03,  1.8016e-01,\n",
      "         -1.1897e-02,  4.1472e-02,  2.6547e-02, -8.4236e-02, -1.3786e-01,\n",
      "          1.8230e-03, -8.3758e-02, -1.1674e-01,  1.9440e-01, -2.0817e-01,\n",
      "         -7.3504e-02,  1.5470e-01, -7.9441e-02, -1.6404e-01,  1.5333e-01],\n",
      "        [ 2.1185e-01, -7.4937e-02, -3.3732e-02, -2.3479e-02,  6.3835e-02,\n",
      "          2.5239e-02, -1.8903e-01, -1.2250e-01, -9.0614e-03,  1.7414e-02,\n",
      "         -1.5870e-01,  7.8436e-03,  1.1100e-01,  1.8281e-01,  9.7647e-02,\n",
      "          9.2619e-02,  1.4862e-01, -1.0419e-01,  1.0089e-01, -3.4855e-03],\n",
      "        [-1.0043e-01,  1.3529e-02,  1.6062e-01, -1.7841e-01,  7.0124e-02,\n",
      "          4.4326e-02, -1.6184e-01, -1.5569e-01,  1.7661e-01, -1.6765e-01,\n",
      "          1.3333e-01,  7.3353e-03, -8.6619e-04, -1.6946e-01, -1.6334e-01,\n",
      "          2.1769e-02, -8.3874e-02, -1.1498e-01,  1.1071e-01,  7.7406e-05],\n",
      "        [ 2.0359e-01,  3.3266e-02, -1.2195e-02, -1.2425e-01,  4.2179e-02,\n",
      "         -1.0041e-01, -7.2300e-02,  2.0154e-01,  9.4152e-02, -2.0808e-01,\n",
      "          1.1989e-03,  8.4847e-02, -3.2968e-02,  1.8559e-01,  3.2781e-02,\n",
      "         -1.6344e-01, -1.7884e-01, -2.6837e-02, -1.8952e-02,  1.7926e-01],\n",
      "        [-2.4527e-02,  1.2298e-01, -2.1178e-01,  7.6713e-02, -1.0334e-01,\n",
      "         -5.7792e-02,  1.6185e-01, -1.3487e-01,  1.3178e-01, -9.9580e-02,\n",
      "          1.1139e-01, -1.8966e-01,  1.9338e-01,  9.4450e-02, -3.6782e-02,\n",
      "         -4.8349e-02,  1.4152e-01,  3.2083e-02,  2.2664e-02, -1.0127e-01],\n",
      "        [ 1.2403e-01, -1.1388e-01,  7.9572e-02, -2.2317e-02, -3.2808e-02,\n",
      "         -1.7902e-01, -2.1790e-01, -5.6307e-03,  7.4253e-02,  2.1358e-03,\n",
      "          2.1607e-01,  1.9657e-01,  6.7187e-02,  4.9715e-03, -6.0853e-02,\n",
      "         -7.0374e-03, -1.3573e-02,  9.0953e-02, -5.7675e-02,  5.6442e-02],\n",
      "        [ 9.8854e-02,  2.6554e-02, -2.0460e-01,  4.7743e-02,  1.0194e-01,\n",
      "         -1.4320e-02, -9.5629e-02,  7.5156e-02, -1.5695e-01, -1.8121e-01,\n",
      "         -1.9142e-01,  8.1453e-03, -3.3373e-02, -1.2467e-01,  1.0240e-01,\n",
      "         -7.9005e-02,  1.8073e-01, -1.2811e-01, -1.1222e-01, -1.6045e-01],\n",
      "        [-7.4659e-02,  6.9514e-03,  1.1691e-02,  2.1748e-02, -7.9675e-02,\n",
      "         -1.5791e-01, -1.9998e-01, -1.3605e-01, -1.6396e-01, -3.3405e-02,\n",
      "          4.8412e-02,  8.9374e-02,  2.6135e-03,  2.4504e-02,  1.7588e-01,\n",
      "         -1.1117e-01, -1.9738e-01,  1.0234e-01, -1.7626e-01,  8.8242e-02],\n",
      "        [-1.1726e-01,  1.6575e-01, -1.4845e-01,  1.2880e-01, -4.4024e-03,\n",
      "         -1.2580e-01, -1.7652e-01, -2.8028e-02,  1.0054e-02, -1.2996e-01,\n",
      "         -2.1569e-04, -8.2385e-02, -1.5409e-01, -1.6211e-01,  9.5480e-02,\n",
      "         -1.1605e-01, -4.3802e-03,  1.6528e-01, -2.0305e-01,  1.8900e-01],\n",
      "        [ 1.1068e-01,  1.1814e-01,  1.7979e-01,  1.9947e-01,  2.2568e-03,\n",
      "         -1.1079e-01,  2.2488e-02,  7.2434e-02,  8.1031e-02, -1.6292e-01,\n",
      "         -2.0173e-01,  2.7133e-03, -7.1607e-02, -1.0206e-01,  1.2086e-01,\n",
      "          1.1630e-01,  1.3549e-01,  1.9968e-01,  2.2931e-03,  1.4786e-01],\n",
      "        [ 1.0236e-01, -2.0254e-02, -1.5530e-01,  1.4371e-01, -1.1142e-01,\n",
      "          1.7335e-01, -1.4172e-01,  9.8495e-02, -1.0817e-01, -1.1765e-01,\n",
      "         -1.7448e-01, -1.8180e-01,  1.3280e-01, -1.7995e-01, -2.1493e-01,\n",
      "         -6.9438e-02,  1.3887e-01, -2.9971e-02,  1.8216e-01, -2.0439e-01],\n",
      "        [ 1.8799e-01,  2.3003e-03, -7.2262e-04,  2.0137e-01, -1.6697e-01,\n",
      "         -1.8882e-01,  6.6488e-02, -1.0589e-01, -1.0155e-01,  1.4150e-01,\n",
      "          2.0194e-01,  1.5417e-01,  1.6993e-01, -5.2947e-04, -5.1889e-02,\n",
      "          1.3585e-01, -5.0782e-02, -6.9715e-04, -2.1361e-01,  8.1344e-02],\n",
      "        [ 8.7463e-02,  1.6247e-03, -1.3675e-01,  1.9060e-01,  1.8696e-01,\n",
      "          1.5155e-01,  7.0986e-02, -4.7717e-02,  1.7814e-01, -1.5912e-01,\n",
      "         -7.2429e-02,  1.1045e-01,  1.8539e-01, -5.1894e-02, -2.0001e-01,\n",
      "          1.9633e-01,  1.9311e-01,  1.8377e-01,  1.8479e-01,  1.3098e-01],\n",
      "        [ 6.0009e-02,  1.4774e-01,  4.2954e-02, -9.3521e-02,  1.4073e-01,\n",
      "         -1.7583e-01, -1.1038e-01,  5.1084e-02, -1.7513e-01, -7.6672e-02,\n",
      "         -7.3380e-02,  1.1040e-01, -1.5502e-01,  1.1824e-01,  1.6735e-01,\n",
      "         -1.5124e-01, -1.9436e-01,  5.9034e-02,  1.4541e-01, -2.1688e-01],\n",
      "        [-1.3534e-01,  1.1937e-01,  1.4180e-01, -2.7405e-02,  1.3237e-02,\n",
      "         -1.8016e-01, -2.1348e-01,  1.9514e-01, -1.2187e-01, -9.2438e-02,\n",
      "          9.7951e-02, -1.8573e-01, -1.0445e-02,  6.8153e-02, -1.8019e-02,\n",
      "         -2.0710e-01,  2.8815e-02, -2.1584e-01, -1.8023e-01,  2.6717e-03],\n",
      "        [-7.7233e-04,  4.4148e-03, -4.7952e-02,  1.0818e-02,  7.4328e-02,\n",
      "          1.6345e-01,  1.8423e-01,  1.4876e-01, -2.0349e-02, -7.2482e-02,\n",
      "         -5.9065e-02,  8.2058e-02,  1.7943e-01, -2.0673e-01, -1.9285e-01,\n",
      "          1.9087e-01,  6.9592e-02,  1.8358e-02, -7.4102e-02, -9.8967e-03],\n",
      "        [ 1.8280e-01, -1.7650e-01, -2.0905e-01, -1.0627e-01,  1.6209e-02,\n",
      "          3.1641e-02,  1.7683e-01, -2.1493e-01,  4.8420e-02,  1.7937e-01,\n",
      "         -3.3079e-02, -1.3989e-01, -7.1662e-02,  1.5543e-01,  2.1073e-01,\n",
      "          1.0277e-01, -2.0983e-01, -7.4542e-02, -1.8413e-01,  2.0269e-02]],\n",
      "       requires_grad=True)\n",
      "Parameter containing:\n",
      "tensor([-0.1690,  0.0349, -0.0728, -0.0063, -0.0808, -0.0112, -0.1345, -0.0324,\n",
      "         0.1276,  0.0008,  0.0160, -0.0496,  0.1264, -0.0152, -0.0120,  0.0186,\n",
      "        -0.1695,  0.1498,  0.1282, -0.1580], requires_grad=True)\n",
      "Parameter containing:\n",
      "tensor([[-0.0330, -0.0095, -0.0280,  ..., -0.0378, -0.0220,  0.0109],\n",
      "        [ 0.0212,  0.0364, -0.0007,  ...,  0.0146, -0.0129,  0.0033]],\n",
      "       requires_grad=True)\n",
      "Parameter containing:\n",
      "tensor([-0.0261, -0.0150], requires_grad=True)\n"
     ]
    }
   ],
   "source": [
    "for i in model2.parameters():\n",
    "    print(i)"
   ]
  },
  {
   "cell_type": "code",
   "execution_count": 246,
   "metadata": {},
   "outputs": [
    {
     "data": {
      "text/plain": [
       "tensor(0.2500, dtype=torch.float64)"
      ]
     },
     "execution_count": 246,
     "metadata": {},
     "output_type": "execute_result"
    }
   ],
   "source": [
    "train_acc"
   ]
  },
  {
   "cell_type": "code",
   "execution_count": 255,
   "metadata": {},
   "outputs": [
    {
     "data": {
      "text/plain": [
       "array([False, False, False, ...,  True,  True, False])"
      ]
     },
     "execution_count": 255,
     "metadata": {},
     "output_type": "execute_result"
    }
   ],
   "source": [
    "val_mask"
   ]
  },
  {
   "cell_type": "code",
   "execution_count": 256,
   "metadata": {},
   "outputs": [
    {
     "data": {
      "text/plain": [
       "array([ True, False,  True, ..., False, False, False])"
      ]
     },
     "execution_count": 256,
     "metadata": {},
     "output_type": "execute_result"
    }
   ],
   "source": [
    "train_mask_tmp"
   ]
  },
  {
   "cell_type": "code",
   "execution_count": 76,
   "metadata": {},
   "outputs": [],
   "source": [
    "with torch.no_grad():\n",
    "    model2.eval()\n",
    "    logits_val = model2(features[val_mask], adj_ls[val_mask])\n",
    "    loss_val = criterion(logits_val,torch.argmax(labels[val_mask],axis=1))\n",
    "    val_acc = accuracy(logits_val, torch.argmax(labels[val_mask],axis=1))\n"
   ]
  },
  {
   "cell_type": "code",
   "execution_count": 77,
   "metadata": {},
   "outputs": [
    {
     "data": {
      "text/plain": [
       "tensor([[0.4481, 0.5519],\n",
       "        [0.4481, 0.5519],\n",
       "        [0.4481, 0.5519],\n",
       "        ...,\n",
       "        [0.4481, 0.5519],\n",
       "        [0.4481, 0.5519],\n",
       "        [0.4484, 0.5516]])"
      ]
     },
     "execution_count": 77,
     "metadata": {},
     "output_type": "execute_result"
    }
   ],
   "source": [
    "logits_val"
   ]
  },
  {
   "cell_type": "code",
   "execution_count": 72,
   "metadata": {},
   "outputs": [
    {
     "data": {
      "text/plain": [
       "7342"
      ]
     },
     "execution_count": 72,
     "metadata": {},
     "output_type": "execute_result"
    }
   ],
   "source": [
    "len(val_mask)"
   ]
  },
  {
   "cell_type": "code",
   "execution_count": 78,
   "metadata": {},
   "outputs": [
    {
     "data": {
      "text/plain": [
       "tensor(0.7466, dtype=torch.float64)"
      ]
     },
     "execution_count": 78,
     "metadata": {},
     "output_type": "execute_result"
    }
   ],
   "source": [
    "val_acc"
   ]
  },
  {
   "cell_type": "code",
   "execution_count": 208,
   "metadata": {},
   "outputs": [
    {
     "data": {
      "text/plain": [
       "tensor([[-0.1618,  0.2166],\n",
       "        [-0.1618,  0.2166],\n",
       "        [-0.1621,  0.2167],\n",
       "        ...,\n",
       "        [-0.1622,  0.2167],\n",
       "        [-0.1621,  0.2167],\n",
       "        [-0.1622,  0.2167]])"
      ]
     },
     "execution_count": 208,
     "metadata": {},
     "output_type": "execute_result"
    }
   ],
   "source": [
    "logits_val"
   ]
  },
  {
   "cell_type": "markdown",
   "metadata": {},
   "source": [
    "# model selection"
   ]
  },
  {
   "cell_type": "code",
   "execution_count": 1,
   "metadata": {},
   "outputs": [],
   "source": [
    "import os\n",
    "import time\n",
    "import logging\n",
    "import argparse\n",
    "import numpy as np\n",
    "import pandas as pd\n",
    "\n",
    "import torch\n",
    "import torch.nn as nn\n",
    "import torch.nn.functional as F\n",
    "import torch.optim as optim\n",
    "from torch.utils.data import DataLoader\n",
    "import torchvision.datasets as datasets\n",
    "import torchvision.transforms as transforms\n",
    "import math\n",
    "import scipy.sparse as sp\n",
    "from torch.nn.parameter import Parameter"
   ]
  },
  {
   "cell_type": "code",
   "execution_count": 17,
   "metadata": {},
   "outputs": [],
   "source": [
    "model = GCN_1(nnode=40,\n",
    "            nfeat=50,\n",
    "            mfeat=11,\n",
    "            hidden1=20,\n",
    "            hidden2=20,\n",
    "            natt=0, # one layer\n",
    "            nclass=2,\n",
    "            dropout=0.01,\n",
    "            cheby=None)\n",
    "# criterion = nn.CrossEntropyLoss().to(device)\n",
    "\n",
    "# optimizer = optim.Adam(model.parameters(),lr=args.lr, weight_decay=args.weight_decay)\n"
   ]
  },
  {
   "cell_type": "code",
   "execution_count": 2,
   "metadata": {},
   "outputs": [],
   "source": [
    "os.chdir(\"../model/\")\n",
    "from layers import *"
   ]
  },
  {
   "cell_type": "code",
   "execution_count": 16,
   "metadata": {},
   "outputs": [],
   "source": [
    "class GCN_1(nn.Module):\n",
    "    def __init__(self, nnode, nfeat, mfeat, hidden1, hidden2, natt, nclass, dropout,cheby):\n",
    "        super(GCN_1, self).__init__()\n",
    "#        ngcn_list = ngcn.strip('[]').split(',')\n",
    "#        nfull_list = nfull.strip('[]').split(',')\n",
    "#        natt_list = natt.strip('[]').split(',')\n",
    "#        nin = nfeat # in_features\n",
    "        self.dropout = dropout\n",
    "        gcn_layers = [] # build a list for gcnn layers\n",
    "#        if cheby == None:\n",
    "#            for nhid in ngcn_list:\n",
    "#                gcn_layers.append(GraphConvolution(nin, int(nhid)))\n",
    "#                gcn_layers.append(norm(nnode))\n",
    "#                gcn_layers.append(ConcatReLU())\n",
    "#                nin = int(nhid)\n",
    "\n",
    "        #self.norm0 = norm(nnode)\n",
    "        #self.norm3 = norm(nnode)\n",
    "        #self.relu3 = ConcatReLU()\n",
    "#         if cheby == None:\n",
    "#             self.gcn1 = GraphConvolution(nfeat, hidden1)\n",
    "#             self.gcn2 = GraphConvolution(hidden1, hidden2)\n",
    "#             #self.gcn3 = GraphConvolution(hidden2, 20)\n",
    "#         else:\n",
    "#             self.gcn1 = GraphConvolutionChebyshev(nfeat, hidden1, cheby)\n",
    "#             self.gcn2 = GraphConvolutionChebyshev(hidden1, hidden2, cheby)\n",
    "        nin = nfeat\n",
    "        for nhid in [20,20]:\n",
    "            gcn_layers.append(GraphConvolution(nin, int(nhid)))\n",
    "            gcn_layers.append(norm(nnode,'pre'))\n",
    "            gcn_layers.append(ConcatReLU())\n",
    "            nin = int(nhid)\n",
    "            \n",
    "#        natt_in = int(ngcn_list[-1])\n",
    "#        if natt_list != ['']:\n",
    "#            for nhid in natt_list:\n",
    "#                gcn_layers.append(SelfAttention(natt_in, nhid))\n",
    "#                natt_in = nhid\n",
    "        if natt != 0:\n",
    "            self.att = SelfAttention(hidden2, natt) # dimension of value keeps the same with input size\n",
    "            # single head for now\n",
    "            self.is_att = True\n",
    "        else:\n",
    "            self.is_att = False\n",
    "        self.gc = nn.Sequential(*gcn_layers)\n",
    "#        self.gc1 = GraphConvolution(nfeat, nhid1)\n",
    "#        self.gc2 = GraphConvolution(nhid1, nhid2)\n",
    "#        full_layers = []\n",
    "#        nin_full = nhid * nnode # in_features for fully connected layers, which is gcn output * number of node\n",
    "#        for nlinear in nfull_list:\n",
    "#            if nlinear != '':\n",
    "#                full_layers.append(ConcatLinear(nin_full, int(nlinear)))\n",
    "#                nin_full = int(nlinear)\n",
    "#        full_layers.append(ConcatLinear(nin_full, nclass))\n",
    "#        self.full = full_layers\n",
    "        self.flatten = Flatten()\n",
    "        self.linear = ConcatLinear(hidden2 * nnode, nclass)\n",
    "        #self.linear0 = ConcatLinear(hidden2 * nnode, 1024)\n",
    "        #self.linear1 = ConcatLinear(1024, nclass) \n",
    "        self.edgeweight = Parameter(torch.FloatTensor(mfeat,1))\n",
    "\n",
    "    def forward(self, x, adj):\n",
    "        adj = torch.matmul(adj, self.edgeweight).view(adj.shape[0],adj.shape[1],-1)\n",
    "        for func in self.gc:\n",
    "            x = func(x,adj)\n",
    "        #x = self.norm0(x,adj)\n",
    "        #x = self.gcn3(x,adj)\n",
    "        #x = self.norm3(x,adj)\n",
    "        #x = self.relu3(x,adj)\n",
    "#         x = self.gcn1(x,adj)\n",
    "#         x = self.gcn2(x,adj)\n",
    "        if self.is_att == True:\n",
    "            x = self.att(x,adj[...,channel])\n",
    "#         adj = torch.matmul(adj,self.edgeweight).view(adj.shape[0],adj.shape[1],-1)\n",
    "        x = F.dropout(x, self.dropout, training=self.training)\n",
    "        x = self.flatten(x,adj)\n",
    "        x = self.linear(x,adj)\n",
    "        #x = self.linear0(x,adj)\n",
    "        #x = self.linear1(x,adj)\n",
    "        #x = self.linear2(x,adj)\n",
    "#        for func_full in self.full:\n",
    "#            x = func_full(x,adj)\n",
    "#        x = self.linear2(x,adj)\n",
    "        return F.softmax(x, dim=1)"
   ]
  },
  {
   "cell_type": "code",
   "execution_count": 19,
   "metadata": {},
   "outputs": [],
   "source": [
    "adj = torch.randn((734,40,40,11))\n",
    "tmp=Parameter(torch.FloatTensor(11,1))\n",
    "# a = torch.matmul(adj, tmp)"
   ]
  },
  {
   "cell_type": "code",
   "execution_count": 36,
   "metadata": {},
   "outputs": [
    {
     "data": {
      "text/plain": [
       "torch.Size([400, 40, 40, 1])"
      ]
     },
     "execution_count": 36,
     "metadata": {},
     "output_type": "execute_result"
    }
   ],
   "source": [
    "a.shape"
   ]
  },
  {
   "cell_type": "code",
   "execution_count": 37,
   "metadata": {},
   "outputs": [
    {
     "data": {
      "text/plain": [
       "Parameter containing:\n",
       "tensor([[1.8217e-44],\n",
       "        [-0.0000e+00],\n",
       "        [0.0000e+00],\n",
       "        [0.0000e+00],\n",
       "        [0.0000e+00],\n",
       "        [1.4013e-45],\n",
       "        [0.0000e+00],\n",
       "        [0.0000e+00],\n",
       "        [0.0000e+00],\n",
       "        [0.0000e+00],\n",
       "        [0.0000e+00]], requires_grad=True)"
      ]
     },
     "execution_count": 37,
     "metadata": {},
     "output_type": "execute_result"
    }
   ],
   "source": [
    "tmp"
   ]
  },
  {
   "cell_type": "code",
   "execution_count": 38,
   "metadata": {},
   "outputs": [],
   "source": [
    "s = 0\n",
    "for i in range(0,11):\n",
    "    s += adj[0,0,0,i] * tmp[i][0]"
   ]
  },
  {
   "cell_type": "code",
   "execution_count": 5,
   "metadata": {},
   "outputs": [
    {
     "data": {
      "text/plain": [
       "torch.Size([734, 40, 50])"
      ]
     },
     "execution_count": 5,
     "metadata": {},
     "output_type": "execute_result"
    }
   ],
   "source": [
    "x = torch.randn(734,40,50)\n",
    "tmp=torch.randn(734,40,40)\n",
    "torch.matmul(tmp,x).shape"
   ]
  },
  {
   "cell_type": "code",
   "execution_count": 56,
   "metadata": {},
   "outputs": [],
   "source": [
    "xx=x.view(x.shape[0],x.shape[1],-1,1)"
   ]
  },
  {
   "cell_type": "code",
   "execution_count": 61,
   "metadata": {},
   "outputs": [],
   "source": [
    "xx=xx.expand(734,40,50,11)"
   ]
  },
  {
   "cell_type": "code",
   "execution_count": 20,
   "metadata": {},
   "outputs": [],
   "source": [
    "tmp = model(x,adj)"
   ]
  },
  {
   "cell_type": "code",
   "execution_count": 21,
   "metadata": {},
   "outputs": [
    {
     "data": {
      "text/plain": [
       "GCN_1(\n",
       "  (gc): Sequential(\n",
       "    (0): GraphConvolution (50 -> 20)\n",
       "    (1): norm(\n",
       "      (norm): BatchNorm1d(40, eps=1e-05, momentum=0.1, affine=True, track_running_stats=True)\n",
       "    )\n",
       "    (2): ConcatReLU(\n",
       "      (relu): ReLU()\n",
       "    )\n",
       "    (3): GraphConvolution (20 -> 20)\n",
       "    (4): norm(\n",
       "      (norm): BatchNorm1d(40, eps=1e-05, momentum=0.1, affine=True, track_running_stats=True)\n",
       "    )\n",
       "    (5): ConcatReLU(\n",
       "      (relu): ReLU()\n",
       "    )\n",
       "  )\n",
       "  (flatten): Flatten()\n",
       "  (linear): ConcatLinear(\n",
       "    (linear): Linear(in_features=800, out_features=2, bias=True)\n",
       "  )\n",
       ")"
      ]
     },
     "execution_count": 21,
     "metadata": {},
     "output_type": "execute_result"
    }
   ],
   "source": [
    "model"
   ]
  },
  {
   "cell_type": "code",
   "execution_count": 66,
   "metadata": {},
   "outputs": [],
   "source": [
    "adj_t = torch.transpose(adj, -1,-3)\n",
    "adj_t = torch.transpose(adj_t, -1,-2)\n",
    "xx_t = torch.transpose(xx,-1,-3)\n",
    "xx_t = torch.transpose(xx_t,-1,-2)\n",
    "support = torch.matmul(adj_t, xx_t)"
   ]
  },
  {
   "cell_type": "code",
   "execution_count": 67,
   "metadata": {},
   "outputs": [
    {
     "data": {
      "text/plain": [
       "torch.Size([734, 11, 40, 50])"
      ]
     },
     "execution_count": 67,
     "metadata": {},
     "output_type": "execute_result"
    }
   ],
   "source": [
    "support.shape"
   ]
  },
  {
   "cell_type": "code",
   "execution_count": 70,
   "metadata": {},
   "outputs": [
    {
     "data": {
      "text/plain": [
       "torch.Size([734, 40, 50, 11])"
      ]
     },
     "execution_count": 70,
     "metadata": {},
     "output_type": "execute_result"
    }
   ],
   "source": [
    "support = torch.transpose(support, -1,-3)\n",
    "support = torch.transpose(support, -2,-3)\n",
    "support.shape"
   ]
  },
  {
   "cell_type": "code",
   "execution_count": 71,
   "metadata": {},
   "outputs": [
    {
     "data": {
      "text/plain": [
       "torch.Size([734, 40, 50, 1])"
      ]
     },
     "execution_count": 71,
     "metadata": {},
     "output_type": "execute_result"
    }
   ],
   "source": [
    "t = torch.matmul(support,tmp)\n",
    "t.shape"
   ]
  },
  {
   "cell_type": "code",
   "execution_count": 42,
   "metadata": {},
   "outputs": [],
   "source": [
    "criterion = nn.CrossEntropyLoss()\n",
    "\n",
    "optimizer = optim.Adam(model.parameters(),lr=5e-3, weight_decay=1e-3)"
   ]
  },
  {
   "cell_type": "code",
   "execution_count": 43,
   "metadata": {},
   "outputs": [],
   "source": [
    "y = labels[train_mask[0]]\n",
    "y = torch.argmax(y,axis=1)"
   ]
  },
  {
   "cell_type": "code",
   "execution_count": 44,
   "metadata": {},
   "outputs": [],
   "source": [
    "loss = criterion(tmp,y)\n",
    "loss.backward()\n",
    "optimizer.step()"
   ]
  },
  {
   "cell_type": "code",
   "execution_count": 53,
   "metadata": {},
   "outputs": [],
   "source": [
    "t = torch.transpose(adj,-1,-3)"
   ]
  },
  {
   "cell_type": "code",
   "execution_count": 54,
   "metadata": {},
   "outputs": [
    {
     "data": {
      "text/plain": [
       "torch.Size([734, 11, 40, 40])"
      ]
     },
     "execution_count": 54,
     "metadata": {},
     "output_type": "execute_result"
    }
   ],
   "source": [
    "t.shape"
   ]
  },
  {
   "cell_type": "code",
   "execution_count": 55,
   "metadata": {},
   "outputs": [
    {
     "ename": "RuntimeError",
     "evalue": "The size of tensor a (11) must match the size of tensor b (734) at non-singleton dimension 1",
     "output_type": "error",
     "traceback": [
      "\u001b[0;31m---------------------------------------------------------------------------\u001b[0m",
      "\u001b[0;31mRuntimeError\u001b[0m                              Traceback (most recent call last)",
      "\u001b[0;32m<ipython-input-55-0e2a35566bb8>\u001b[0m in \u001b[0;36m<module>\u001b[0;34m\u001b[0m\n\u001b[0;32m----> 1\u001b[0;31m \u001b[0mtt\u001b[0m\u001b[0;34m=\u001b[0m\u001b[0mtorch\u001b[0m\u001b[0;34m.\u001b[0m\u001b[0mmatmul\u001b[0m\u001b[0;34m(\u001b[0m\u001b[0mt\u001b[0m\u001b[0;34m,\u001b[0m\u001b[0mx\u001b[0m\u001b[0;34m)\u001b[0m\u001b[0;34m\u001b[0m\u001b[0;34m\u001b[0m\u001b[0m\n\u001b[0m",
      "\u001b[0;31mRuntimeError\u001b[0m: The size of tensor a (11) must match the size of tensor b (734) at non-singleton dimension 1"
     ]
    }
   ],
   "source": [
    "tt=torch.matmul(t,x)"
   ]
  },
  {
   "cell_type": "code",
   "execution_count": 52,
   "metadata": {},
   "outputs": [
    {
     "data": {
      "text/plain": [
       "torch.Size([734, 40, 50])"
      ]
     },
     "execution_count": 52,
     "metadata": {},
     "output_type": "execute_result"
    }
   ],
   "source": [
    "x.shape"
   ]
  },
  {
   "cell_type": "markdown",
   "metadata": {},
   "source": [
    "# Generate ternary list for mutants"
   ]
  },
  {
   "cell_type": "code",
   "execution_count": 19,
   "metadata": {},
   "outputs": [],
   "source": [
    "import os\n",
    "import numpy as np\n",
    "import pandas as pd"
   ]
  },
  {
   "cell_type": "code",
   "execution_count": 16,
   "metadata": {},
   "outputs": [],
   "source": [
    "mutant = '021'\n",
    "o = 'A171T'\n",
    "load = []\n",
    "for f in os.listdir('./'): #../../Rotation_in_Sagar_Lab/Dataset_For_All_Experimental_Sequences/'):\n",
    "    if f[0:3] == mutant:\n",
    "        if f != mutant + '_unselected.txt':\n",
    "            fp = open(f,'r')\n",
    "            for line in fp:\n",
    "                load.append(['A' + line.strip() + 'C.ASHL',f.split('_')[-1].split('.')[0]])\n"
   ]
  },
  {
   "cell_type": "code",
   "execution_count": 17,
   "metadata": {},
   "outputs": [],
   "source": [
    "load_np = np.asarray(load).reshape(len(load),2)"
   ]
  },
  {
   "cell_type": "code",
   "execution_count": 18,
   "metadata": {},
   "outputs": [
    {
     "data": {
      "text/plain": [
       "array([['ARTYHPC.ASHL', 'middle'],\n",
       "       ['ASTTEHC.ASHL', 'middle'],\n",
       "       ['ARTITQC.ASHL', 'middle'],\n",
       "       ...,\n",
       "       ['APHPPFC.ASHL', 'uncleaved'],\n",
       "       ['APHPPTC.ASHL', 'uncleaved'],\n",
       "       ['APHPPSC.ASHL', 'uncleaved']], dtype='<U12')"
      ]
     },
     "execution_count": 18,
     "metadata": {},
     "output_type": "execute_result"
    }
   ],
   "source": [
    "load_np"
   ]
  },
  {
   "cell_type": "code",
   "execution_count": 20,
   "metadata": {},
   "outputs": [],
   "source": [
    "df = pd.DataFrame(load_np, columns=['Sequence','Result'])"
   ]
  },
  {
   "cell_type": "code",
   "execution_count": 21,
   "metadata": {},
   "outputs": [
    {
     "data": {
      "text/html": [
       "<div>\n",
       "<style scoped>\n",
       "    .dataframe tbody tr th:only-of-type {\n",
       "        vertical-align: middle;\n",
       "    }\n",
       "\n",
       "    .dataframe tbody tr th {\n",
       "        vertical-align: top;\n",
       "    }\n",
       "\n",
       "    .dataframe thead th {\n",
       "        text-align: right;\n",
       "    }\n",
       "</style>\n",
       "<table border=\"1\" class=\"dataframe\">\n",
       "  <thead>\n",
       "    <tr style=\"text-align: right;\">\n",
       "      <th></th>\n",
       "      <th>Sequence</th>\n",
       "      <th>Result</th>\n",
       "    </tr>\n",
       "  </thead>\n",
       "  <tbody>\n",
       "    <tr>\n",
       "      <th>0</th>\n",
       "      <td>ARTYHPC.ASHL</td>\n",
       "      <td>middle</td>\n",
       "    </tr>\n",
       "    <tr>\n",
       "      <th>1</th>\n",
       "      <td>ASTTEHC.ASHL</td>\n",
       "      <td>middle</td>\n",
       "    </tr>\n",
       "    <tr>\n",
       "      <th>2</th>\n",
       "      <td>ARTITQC.ASHL</td>\n",
       "      <td>middle</td>\n",
       "    </tr>\n",
       "    <tr>\n",
       "      <th>3</th>\n",
       "      <td>ADVFQPC.ASHL</td>\n",
       "      <td>middle</td>\n",
       "    </tr>\n",
       "    <tr>\n",
       "      <th>4</th>\n",
       "      <td>ASTNHPC.ASHL</td>\n",
       "      <td>middle</td>\n",
       "    </tr>\n",
       "  </tbody>\n",
       "</table>\n",
       "</div>"
      ],
      "text/plain": [
       "       Sequence  Result\n",
       "0  ARTYHPC.ASHL  middle\n",
       "1  ASTTEHC.ASHL  middle\n",
       "2  ARTITQC.ASHL  middle\n",
       "3  ADVFQPC.ASHL  middle\n",
       "4  ASTNHPC.ASHL  middle"
      ]
     },
     "execution_count": 21,
     "metadata": {},
     "output_type": "execute_result"
    }
   ],
   "source": [
    "df.head()"
   ]
  },
  {
   "cell_type": "code",
   "execution_count": 23,
   "metadata": {},
   "outputs": [],
   "source": [
    "df.to_csv('/Users/cplu/Downloads/Documents/RESEARCH/GCNN/protease-gcnn-pytorch/graph/classifications/HCV_A171T_ternary.txt',sep='\\t',index=False)"
   ]
  },
  {
   "cell_type": "code",
   "execution_count": 25,
   "metadata": {},
   "outputs": [],
   "source": [
    "def generate_classification(mutant_name, path, \\\n",
    "                            out_path='/Users/cplu/Downloads/Documents/RESEARCH/GCNN/protease-gcnn-pytorch/graph/classifications/',\\\n",
    "                           out_name='class.txt'):\n",
    "    load = []\n",
    "    for f in os.listdir(path): #../../Rotation_in_Sagar_Lab/Dataset_For_All_Experimental_Sequences/'):\n",
    "        if f[0:3] == mutant_name:\n",
    "            if f != mutant_name + '_unselected.txt':\n",
    "                fp = open(f,'r')\n",
    "                for line in fp:\n",
    "                    load.append(['A' + line.strip() + 'C.ASHL',f.split('_')[-1].split('.')[0]])\n",
    "    load_np = np.asarray(load).reshape(len(load),2)\n",
    "    df = pd.DataFrame(load_np, columns=['Sequence','Result'])\n",
    "    df.to_csv(os.path.join(out_path + out_name),sep='\\t',index=False)"
   ]
  },
  {
   "cell_type": "code",
   "execution_count": 26,
   "metadata": {},
   "outputs": [],
   "source": [
    "generate_classification('011', './',out_name='HCV_Triple_ternary.txt')"
   ]
  },
  {
   "cell_type": "code",
   "execution_count": 27,
   "metadata": {},
   "outputs": [],
   "source": [
    "generate_classification('091', './',out_name='HCV_D183A_ternary.txt')"
   ]
  },
  {
   "cell_type": "markdown",
   "metadata": {},
   "source": [
    "# Check Variable Importance Codes"
   ]
  },
  {
   "cell_type": "code",
   "execution_count": 1,
   "metadata": {},
   "outputs": [],
   "source": [
    "import os\n",
    "import time\n",
    "import logging\n",
    "import argparse\n",
    "import numpy as np\n",
    "\n",
    "import torch\n",
    "import torch.nn as nn\n",
    "import torch.nn.functional as F\n",
    "import torch.optim as optim\n",
    "from torch.utils.data import DataLoader\n",
    "import torchvision.datasets as datasets\n",
    "import torchvision.transforms as transforms\n",
    "import math\n",
    "import scipy.sparse as sp\n",
    "from torch.nn.parameter import Parameter"
   ]
  },
  {
   "cell_type": "code",
   "execution_count": 3,
   "metadata": {},
   "outputs": [],
   "source": [
    "os.chdir('../model/')\n",
    "from utils import *\n",
    "from models import *"
   ]
  },
  {
   "cell_type": "code",
   "execution_count": 5,
   "metadata": {},
   "outputs": [],
   "source": [
    "adj_ls, features, labels, sequences, proteases, labelorder, train_mask, test_mask = load_data('HCV_binary_10_ang_aa_sinusoidal_encoding_2_energy_7_energyedge_5_hbond', norm_type=False)"
   ]
  },
  {
   "cell_type": "code",
   "execution_count": 6,
   "metadata": {},
   "outputs": [],
   "source": [
    "tmp_mask = np.array([(not idx) for idx in test_mask], dtype=np.bool)"
   ]
  },
  {
   "cell_type": "code",
   "execution_count": 8,
   "metadata": {},
   "outputs": [
    {
     "data": {
      "text/plain": [
       "34"
      ]
     },
     "execution_count": 8,
     "metadata": {},
     "output_type": "execute_result"
    }
   ],
   "source": [
    "num_node = adj_ls.shape[1]\n",
    "num_node"
   ]
  },
  {
   "cell_type": "code",
   "execution_count": 10,
   "metadata": {},
   "outputs": [
    {
     "data": {
      "text/plain": [
       "595"
      ]
     },
     "execution_count": 10,
     "metadata": {},
     "output_type": "execute_result"
    }
   ],
   "source": [
    "var = int(num_node + num_node * (num_node - 1) / 2) # the number of nodes and edges\n",
    "var"
   ]
  },
  {
   "cell_type": "code",
   "execution_count": 17,
   "metadata": {},
   "outputs": [
    {
     "data": {
      "text/plain": [
       "(torch.Size([7342, 34, 34, 8]), torch.Size([7342, 34, 30]))"
      ]
     },
     "execution_count": 17,
     "metadata": {},
     "output_type": "execute_result"
    }
   ],
   "source": [
    "adj_ls.shape, features.shape"
   ]
  },
  {
   "cell_type": "code",
   "execution_count": 24,
   "metadata": {},
   "outputs": [],
   "source": [
    "tmp_adj_ls = adj_ls.clone()\n",
    "tmp_features = features.clone()\n"
   ]
  },
  {
   "cell_type": "code",
   "execution_count": 25,
   "metadata": {},
   "outputs": [],
   "source": [
    "np.random.shuffle(tmp_features[:,0,0].cpu().numpy())"
   ]
  },
  {
   "cell_type": "code",
   "execution_count": 72,
   "metadata": {},
   "outputs": [],
   "source": [
    "edge_ind = []\n",
    "for ind in range(num_node):\n",
    "    k = ind + 1\n",
    "    while k < num_node:\n",
    "        edge_ind.append((ind,k))\n",
    "        k += 1"
   ]
  },
  {
   "cell_type": "code",
   "execution_count": null,
   "metadata": {},
   "outputs": [],
   "source": [
    "acc_arr = np.zeros(int(var))\n",
    "OOB_mask = np.asarray([1 for i in tmp_features],dtype=np.bool)\n",
    "print('number of candidate node/edges:{}'.format(var))\n",
    "print('number of nodes:{}'.format(num_node))\n",
    "print('number of edges:{}'.format(var - num_node))\n",
    "\n",
    "edge_ind = []\n",
    "for ind in range(num_node):\n",
    "    k = ind + 1\n",
    "    while k < num_node:\n",
    "        edge_ind.append((ind,k))\n",
    "        k += 1\n",
    "        \n",
    "for i in range(var): # for each variable\n",
    "    #adj_ls, features, labels, sequences, proteases, labelorder, train_mask, val_mask, test_mask = load_data(args.dataset, is_test=args.test_dataset, norm_type=is_cheby)\n",
    "    tmp_adj_ls = adj_ls[test_mask].clone()\n",
    "    tmp_features = features[test_mask].clone()\n",
    "    if i < num_node:\n",
    "        for j in range(tmp_features.shape[2]): # for each node feature\n",
    "            np.random.shuffle(tmp_features[:,i,j].cpu().numpy())\n",
    "        print(\"Shuffling Node Feature: {}\".format(i+1))\n",
    "    else:\n",
    "        for j in range(tmp_adj_ls.shape[3]): # for each edge feature\n",
    "            edge_node = i - num_node\n",
    "            np.random.shuffle(tmp_adj_ls[:, edge_ind[edge_node][0], edge_ind[edge_node][1],j])\n",
    "            after_shuffle = tmp_adj_ls[:,edge_ind[edge_node][0], edge_ind[edge_node][1], j]\n",
    "            tmp_adj_ls[:,edge_ind[edge_node][1], edge_ind[edge_node][0], j] = after_shuffle\n",
    "        print(\"Shuffling Edge Feature: {}\".format(edge_node + 1))\n",
    "    "
   ]
  },
  {
   "cell_type": "code",
   "execution_count": 58,
   "metadata": {},
   "outputs": [
    {
     "data": {
      "text/plain": [
       "array([ True,  True,  True, ...,  True,  True,  True])"
      ]
     },
     "execution_count": 58,
     "metadata": {},
     "output_type": "execute_result"
    }
   ],
   "source": [
    "OOB_mask = np.asarray([1 for i in tmp_features],dtype=np.bool)\n",
    "OOB_mask"
   ]
  },
  {
   "cell_type": "code",
   "execution_count": null,
   "metadata": {},
   "outputs": [],
   "source": [
    "def importance(all_features, all_graph, ys, full_test_mask, trained_model, hidden1, linear, learning_rate, \\\n",
    "              weight_decay, batch_size, dropout, path_save):\n",
    "    num_node = all_graph.shape[1]\n",
    "    var = int(num_node + num_node * (num_node - 1) / 2) # the number of nodes and edges\n",
    "    acc_arr = np.zeros(int(var))\n",
    "    logger.info('number of candidate node/edges:{}'.format(var))\n",
    "    logger.info('number of nodes:{}'.format(num_node))\n",
    "    logger.info('number of edges:{}'.format(var - num_node))\n",
    "\n",
    "    edge_ind = []\n",
    "    for ind in range(num_node):\n",
    "        k = ind + 1\n",
    "        while k < num_node:\n",
    "            edge_ind.append((ind,k))\n",
    "            k += 1\n",
    "\n",
    "    for i in range(var): # for each variable\n",
    "        #adj_ls, features, labels, sequences, proteases, labelorder, train_mask, val_mask, test_mask = load_data(args.dataset, is_test=args.test_dataset, norm_type=is_cheby)\n",
    "        tmp_adj_ls = all_graph[full_test_mask].clone()\n",
    "        tmp_features = all_features[full_test_mask].clone()\n",
    "        tmp_y = ys[full_test_mask].clone()\n",
    "        OOB_mask = np.asarray([1 for i in tmp_features],dtype=np.bool)\n",
    "        if i < num_node:\n",
    "            for j in range(tmp_features.shape[2]): # for each node feature\n",
    "                np.random.shuffle(tmp_features[:,i,j].cpu().numpy())\n",
    "            print(\"Shuffling Node Feature: {}\".format(i+1))\n",
    "        else:\n",
    "            for j in range(tmp_adj_ls.shape[3]): # for each edge feature\n",
    "                edge_node = i - num_node\n",
    "                np.random.shuffle(tmp_adj_ls[:, edge_ind[edge_node][0], edge_ind[edge_node][1],j])\n",
    "                after_shuffle = tmp_adj_ls[:,edge_ind[edge_node][0], edge_ind[edge_node][1], j]\n",
    "                tmp_adj_ls[:,edge_ind[edge_node][1], edge_ind[edge_node][0], j] = after_shuffle\n",
    "            print(\"Shuffling Edge Feature: {}\".format(edge_node + 1))\n",
    "        test(X=tmp_features, graph=tmp_adj_ls, y=tmp_y, testmask=OOB_mask, model_for_test=trained_model, \\\n",
    "             hidden1=hidden1, linear=linear, learning_rate=learning_rate, \\\n",
    "             weight_decay=weight_decay, batch_size=batch_size, dropout=dropout, path_save=path_save)"
   ]
  },
  {
   "cell_type": "code",
   "execution_count": 59,
   "metadata": {},
   "outputs": [],
   "source": [
    "a = np.zeros(4)"
   ]
  },
  {
   "cell_type": "code",
   "execution_count": 61,
   "metadata": {},
   "outputs": [
    {
     "data": {
      "text/plain": [
       "4"
      ]
     },
     "execution_count": 61,
     "metadata": {},
     "output_type": "execute_result"
    }
   ],
   "source": [
    "a.shape[0]"
   ]
  },
  {
   "cell_type": "markdown",
   "metadata": {},
   "source": [
    "# Variable Importance"
   ]
  },
  {
   "cell_type": "code",
   "execution_count": 32,
   "metadata": {},
   "outputs": [],
   "source": [
    "import os\n",
    "import pandas as pd\n",
    "import matplotlib.pyplot as plt\n",
    "%matplotlib inline"
   ]
  },
  {
   "cell_type": "code",
   "execution_count": 24,
   "metadata": {},
   "outputs": [],
   "source": [
    "os.chdir('../outputs')"
   ]
  },
  {
   "cell_type": "code",
   "execution_count": 41,
   "metadata": {},
   "outputs": [],
   "source": [
    "fp = open(\"varimport.binaryWT.all.slepner027.306603.err\",\"r\")\n",
    "accs = []\n",
    "original_acc = 0\n",
    "num_node = 0\n",
    "for line in fp:\n",
    "    if line[0:8] == \"Original\":\n",
    "        original_acc = float(line[line.index(\"(\") + 1:].split(\",\")[0])\n",
    "    elif line[0:4] == \"Node\" or line[0:4] == \"Edge\":\n",
    "        accs.append(float(line.strip().split(\" \")[-1]))\n",
    "        if line[0:4] == \"Node\":\n",
    "            num_node += 1"
   ]
  },
  {
   "cell_type": "code",
   "execution_count": 82,
   "metadata": {},
   "outputs": [
    {
     "data": {
      "text/plain": [
       "0.11851612207484093"
      ]
     },
     "execution_count": 82,
     "metadata": {},
     "output_type": "execute_result"
    }
   ],
   "source": [
    "(original_acc - accs[3])/original_acc"
   ]
  },
  {
   "cell_type": "code",
   "execution_count": 80,
   "metadata": {},
   "outputs": [
    {
     "data": {
      "text/plain": [
       "0.8174"
      ]
     },
     "execution_count": 80,
     "metadata": {},
     "output_type": "execute_result"
    }
   ],
   "source": [
    "accs[3]"
   ]
  },
  {
   "cell_type": "code",
   "execution_count": 42,
   "metadata": {},
   "outputs": [],
   "source": [
    "normalized = [(original_acc - x) / original_acc for x in accs]\n",
    "#error_normalized = [(1 - x - 1 + original_acc)/ (1 - original_acc) for x in accs]\n",
    "df = pd.DataFrame(normalized, index=range(len(normalized)))\n",
    "new_index = []\n",
    "for i in range(1,num_node+1):\n",
    "    new_index.append(\"Node\" + str(i))\n",
    "for j in range(1,len(accs) - num_node + 1):\n",
    "    new_index.append(\"Edge\" + str(j))\n",
    "df.index = new_index\n",
    "df_sort = df.sort_values(by=0, ascending=True)\n"
   ]
  },
  {
   "cell_type": "code",
   "execution_count": 38,
   "metadata": {},
   "outputs": [],
   "source": [
    "def importance_plot(filename, mode='error'):\n",
    "    fp = open(filename,\"r\")\n",
    "    accs = []\n",
    "    original_acc = 0\n",
    "    num_node = 0\n",
    "    for line in fp:\n",
    "        if line[0:8] == \"Original\":\n",
    "            original_acc = float(line[line.index(\"(\") + 1:].split(\",\")[0])\n",
    "        elif line[0:4] == \"Node\" or line[0:4] == \"Edge\":\n",
    "            accs.append(float(line.strip().split(\" \")[-1]))\n",
    "            if line[0:4] == \"Node\":\n",
    "                num_node += 1\n",
    "    assert mode == 'error' or 'accuracy'\n",
    "    if mode == 'accuracy':\n",
    "        normalized = [(original_acc - x) / original_acc for x in accs]\n",
    "    elif mode == 'error':\n",
    "        normalized = [(x - original_acc)/ (1 - original_acc) for x in accs]\n",
    "        \n",
    "    df = pd.DataFrame(normalized, index=range(len(normalized)))\n",
    "    new_index = []\n",
    "    for i in range(1,num_node+1):\n",
    "        new_index.append(\"Node\" + str(i))\n",
    "    for j in range(1,len(accs) - num_node + 1):\n",
    "        new_index.append(\"Edge\" + str(j))\n",
    "    df.index = new_index\n",
    "    df_sort = df.sort_values(by=0, ascending=True)\n",
    "    plt.figure(figsize=(25,50))\n",
    "    plt.barh(df_sort.iloc[-100:,:].index.values, df_sort.iloc[-100:,:][0]*100)\n",
    "    for y, (x, c) in enumerate(zip(df_sort.iloc[-100:,:][0]*100+0.3, df_sort.iloc[-100:,:][0]*100)):\n",
    "        plt.text(x, y, str(round(c,4))+\"%\", ha='center', va='center')\n",
    "    plt.xlabel(\"relative increasing {} (%)\".format(mode))\n",
    "    plt.title(\"Importance of edges and nodes\")\n",
    "    plt.savefig(\"img/vi/\" + '.'.join(filename.split(\".\")[0:3]) +\".{}.eps\".format(mode),format=\"eps\")\n",
    "    plt.show()"
   ]
  },
  {
   "cell_type": "code",
   "execution_count": 39,
   "metadata": {},
   "outputs": [
    {
     "data": {
      "image/png": "[encoded data removed]",
      "text/plain": [
       "<Figure size 1800x3600 with 1 Axes>"
      ]
     },
     "metadata": {
      "needs_background": "light"
     },
     "output_type": "display_data"
    }
   ],
   "source": [
    "importance_plot(\"varimport.binaryWT.all.slepner027.306603.err\", mode='accuracy')"
   ]
  },
  {
   "cell_type": "code",
   "execution_count": 103,
   "metadata": {},
   "outputs": [
    {
     "data": {
      "image/png": "[encoded data removed]",
      "text/plain": [
       "<Figure size 1800x3600 with 1 Axes>"
      ]
     },
     "metadata": {
      "needs_background": "light"
     },
     "output_type": "display_data"
    }
   ],
   "source": [
    "mode = 'accuracy'\n",
    "plt.figure(figsize=(25,50))\n",
    "plt.barh(df_sort.iloc[-100:,:].index.values, df_sort.iloc[-100:,:][0]*100)\n",
    "for y, (x, c) in enumerate(zip(df_sort.iloc[-100:,:][0]*100+0.3, df_sort.iloc[-100:,:][0]*100)):\n",
    "    plt.text(x, y, str(round(c,4))+\"%\", ha='center', va='center')\n",
    "plt.xlabel(\"relative increasing {} (%)\".format(mode))\n",
    "plt.title(\"Importance of edges and nodes\")\n",
    "plt.savefig(\"img/vi/\" + \"varimport.binaryWT.all.{}.jpg\".format(mode),format=\"jpg\")\n",
    "plt.show()"
   ]
  },
  {
   "cell_type": "code",
   "execution_count": 13,
   "metadata": {},
   "outputs": [],
   "source": [
    "# Meaning of edge numbering\n",
    "num_node = 34\n",
    "edge_ind = []\n",
    "for ind in range(1,num_node+1):\n",
    "    k = ind + 1\n",
    "    while k < num_node+1:\n",
    "        edge_ind.append((ind,k))\n",
    "        k += 1"
   ]
  },
  {
   "cell_type": "code",
   "execution_count": null,
   "metadata": {},
   "outputs": [],
   "source": []
  },
  {
   "cell_type": "code",
   "execution_count": 46,
   "metadata": {},
   "outputs": [
    {
     "data": {
      "text/html": [
       "<div>\n",
       "<style scoped>\n",
       "    .dataframe tbody tr th:only-of-type {\n",
       "        vertical-align: middle;\n",
       "    }\n",
       "\n",
       "    .dataframe tbody tr th {\n",
       "        vertical-align: top;\n",
       "    }\n",
       "\n",
       "    .dataframe thead th {\n",
       "        text-align: right;\n",
       "    }\n",
       "</style>\n",
       "<table border=\"1\" class=\"dataframe\">\n",
       "  <thead>\n",
       "    <tr style=\"text-align: right;\">\n",
       "      <th></th>\n",
       "      <th>0</th>\n",
       "    </tr>\n",
       "  </thead>\n",
       "  <tbody>\n",
       "    <tr>\n",
       "      <th>Node11</th>\n",
       "      <td>0.001941</td>\n",
       "    </tr>\n",
       "    <tr>\n",
       "      <th>Edge35</th>\n",
       "      <td>0.001941</td>\n",
       "    </tr>\n",
       "    <tr>\n",
       "      <th>Edge1</th>\n",
       "      <td>0.002372</td>\n",
       "    </tr>\n",
       "    <tr>\n",
       "      <th>Edge81</th>\n",
       "      <td>0.002372</td>\n",
       "    </tr>\n",
       "    <tr>\n",
       "      <th>Edge97</th>\n",
       "      <td>0.002912</td>\n",
       "    </tr>\n",
       "    <tr>\n",
       "      <th>Edge2</th>\n",
       "      <td>0.002912</td>\n",
       "    </tr>\n",
       "    <tr>\n",
       "      <th>Edge80</th>\n",
       "      <td>0.002912</td>\n",
       "    </tr>\n",
       "    <tr>\n",
       "      <th>Edge52</th>\n",
       "      <td>0.005392</td>\n",
       "    </tr>\n",
       "    <tr>\n",
       "      <th>Edge82</th>\n",
       "      <td>0.009274</td>\n",
       "    </tr>\n",
       "    <tr>\n",
       "      <th>Node1</th>\n",
       "      <td>0.016068</td>\n",
       "    </tr>\n",
       "    <tr>\n",
       "      <th>Edge129</th>\n",
       "      <td>0.024480</td>\n",
       "    </tr>\n",
       "    <tr>\n",
       "      <th>Node2</th>\n",
       "      <td>0.029872</td>\n",
       "    </tr>\n",
       "    <tr>\n",
       "      <th>Node5</th>\n",
       "      <td>0.069018</td>\n",
       "    </tr>\n",
       "    <tr>\n",
       "      <th>Node3</th>\n",
       "      <td>0.083252</td>\n",
       "    </tr>\n",
       "    <tr>\n",
       "      <th>Node4</th>\n",
       "      <td>0.118516</td>\n",
       "    </tr>\n",
       "  </tbody>\n",
       "</table>\n",
       "</div>"
      ],
      "text/plain": [
       "                0\n",
       "Node11   0.001941\n",
       "Edge35   0.001941\n",
       "Edge1    0.002372\n",
       "Edge81   0.002372\n",
       "Edge97   0.002912\n",
       "Edge2    0.002912\n",
       "Edge80   0.002912\n",
       "Edge52   0.005392\n",
       "Edge82   0.009274\n",
       "Node1    0.016068\n",
       "Edge129  0.024480\n",
       "Node2    0.029872\n",
       "Node5    0.069018\n",
       "Node3    0.083252\n",
       "Node4    0.118516"
      ]
     },
     "execution_count": 46,
     "metadata": {},
     "output_type": "execute_result"
    }
   ],
   "source": [
    "df_sort.iloc[-15:,:]"
   ]
  },
  {
   "cell_type": "code",
   "execution_count": 18,
   "metadata": {},
   "outputs": [
    {
     "data": {
      "text/plain": [
       "((3, 20), (2, 21), (3, 18), (1, 3), (4, 5), (3, 19), (1, 2))"
      ]
     },
     "execution_count": 18,
     "metadata": {},
     "output_type": "execute_result"
    }
   ],
   "source": [
    "edge_ind[81], #level 1\n",
    "edge_ind[51], #level 2\n",
    "edge_ind[79],edge_ind[1],edge_ind[96], #level 3\n",
    "edge_ind[80],edge_ind[0] #level 4"
   ]
  },
  {
   "cell_type": "code",
   "execution_count": 9,
   "metadata": {},
   "outputs": [
    {
     "data": {
      "text/plain": [
       "34"
      ]
     },
     "execution_count": 9,
     "metadata": {},
     "output_type": "execute_result"
    }
   ],
   "source": [
    "# Node corresponds to pdb numbering is in gg.err\n",
    "nodes = [198,199,200,201,202,58,70,72,73,96,138,147,150,151,152,154,170,171,172,173,174,175,176,177,178,179,180,181,182,183,197,203,204,205]\n",
    "len(nodes)"
   ]
  },
  {
   "cell_type": "code",
   "execution_count": 10,
   "metadata": {},
   "outputs": [
    {
     "data": {
      "text/plain": [
       "(202, 72)"
      ]
     },
     "execution_count": 10,
     "metadata": {},
     "output_type": "execute_result"
    }
   ],
   "source": [
    "nodes[4],nodes[7]"
   ]
  },
  {
   "cell_type": "code",
   "execution_count": 16,
   "metadata": {},
   "outputs": [
    {
     "data": {
      "text/plain": [
       "(200, 173)"
      ]
     },
     "execution_count": 16,
     "metadata": {},
     "output_type": "execute_result"
    }
   ],
   "source": [
    "nodes[2],nodes[19]"
   ]
  },
  {
   "cell_type": "code",
   "execution_count": 17,
   "metadata": {},
   "outputs": [
    {
     "data": {
      "text/plain": [
       "(199, 174)"
      ]
     },
     "execution_count": 17,
     "metadata": {},
     "output_type": "execute_result"
    }
   ],
   "source": [
    "nodes[1],nodes[20]"
   ]
  },
  {
   "cell_type": "code",
   "execution_count": 19,
   "metadata": {},
   "outputs": [
    {
     "data": {
      "text/plain": [
       "(200, 171)"
      ]
     },
     "execution_count": 19,
     "metadata": {},
     "output_type": "execute_result"
    }
   ],
   "source": [
    "nodes[2],nodes[17]"
   ]
  },
  {
   "cell_type": "code",
   "execution_count": 20,
   "metadata": {},
   "outputs": [
    {
     "data": {
      "text/plain": [
       "(198, 200)"
      ]
     },
     "execution_count": 20,
     "metadata": {},
     "output_type": "execute_result"
    }
   ],
   "source": [
    "nodes[0],nodes[2]"
   ]
  },
  {
   "cell_type": "code",
   "execution_count": 21,
   "metadata": {},
   "outputs": [
    {
     "data": {
      "text/plain": [
       "(201, 202)"
      ]
     },
     "execution_count": 21,
     "metadata": {},
     "output_type": "execute_result"
    }
   ],
   "source": [
    "nodes[3],nodes[4]"
   ]
  }
 ],
 "metadata": {
  "kernelspec": {
   "display_name": "Python 3",
   "language": "python",
   "name": "python3"
  },
  "language_info": {
   "codemirror_mode": {
    "name": "ipython",
    "version": 3
   },
   "file_extension": ".py",
   "mimetype": "text/x-python",
   "name": "python",
   "nbconvert_exporter": "python",
   "pygments_lexer": "ipython3",
   "version": "3.7.3"
  }
 },
 "nbformat": 4,
 "nbformat_minor": 2
}
